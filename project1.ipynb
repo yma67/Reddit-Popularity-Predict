{
 "cells": [
  {
   "cell_type": "code",
   "execution_count": 1,
   "metadata": {},
   "outputs": [],
   "source": [
    "import json\n",
    "import nltk\n",
    "import re\n",
    "import itertools\n",
    "from time import sleep\n",
    "import sys\n",
    "import numpy\n",
    "import scipy\n",
    "from nltk.corpus import stopwords\n",
    "from nltk.tokenize import RegexpTokenizer\n",
    "from collections import Counter\n",
    "with open(\"proj1_data.json\") as fp:\n",
    "    data = json.load(fp)"
   ]
  },
  {
   "cell_type": "code",
   "execution_count": 84,
   "metadata": {},
   "outputs": [],
   "source": [
    "totalComment = str()\n",
    "for d in data[:10000]: \n",
    "    totalComment = totalComment + ' ' + d['text']\n",
    "countNaive = Counter([s.lower() for s in totalComment.split()])\n",
    "totalCount = []\n",
    "for key, value in countNaive.most_common(160): \n",
    "    totalCount.append(key)"
   ]
  },
  {
   "cell_type": "code",
   "execution_count": 85,
   "metadata": {},
   "outputs": [
    {
     "name": "stdout",
     "output_type": "stream",
     "text": [
      "['the', 'i', 'a', 'to', 'and', 'of', 'you', 'that', 'in', 'it', 'was', 'is', 'my', 'for', 'have', 'but', 'this', 'with', 'on', 'not', 'be', 'just', 'or', 'if', 'they', 'your', 'so', 'like', 'are', 'at', 'me', 'as', 'he', \"it's\", 'she', \"i'm\", 'about', 'when', 'we', 'all', 'because', 'from', 'her', 'out', 'would', 'get', \"don't\", 'had', 'what', 'one', 'up', 'people', 'can', 'an', 'do', '[deleted]', 'some', 'how', 'any', 'really', 'his', 'then', 'think', 'no', 'more', 'there', 'their', 'who', 'were', 'will', 'it.', 'them', 'by', 'has', 'only', 'time', 'go', 'know', 'even', 'got', 'been', 'good', 'new', 'after', \"you're\", 'never', 'please', 'make', 'than', 'am', 'still', \"that's\", 'him', 'did', 'being', 'into', 'much', \"didn't\", 'other', 'something', 'going', 'could', 'post', 'first', 'way', 'where', 'also', 'want', 'over', '-', 'most', \"can't\", 'say', 'see', 'pretty', 'why', 'season', 'back', \"i've\", 'very', 'always', 'made', 'love', 'our', 'questions', 'now', 'every', 'which', 'before', 'show', 'fucking', 'moderators', 'too', 'shit', 'actually', 'friends', 'off', 'fuck', 'years', 'feel', 'its', 'me.', 'should', 'same', 'use', 'things', 'few', 'lot', 'action', '[contact', 'life', \"doesn't\", 'best', 'those', 'thing', 'said', 'while', 'someone', 'performed', 'right']\n"
     ]
    }
   ],
   "source": [
    "print(totalCount)"
   ]
  },
  {
   "cell_type": "code",
   "execution_count": 77,
   "metadata": {},
   "outputs": [],
   "source": [
    "# word count, no removal of punctuations\n",
    "# @Param: singleText: text to process, numberOfFeatures: 0, 60, 160?\n",
    "# @Return: vector of count (x in description)\n",
    "def wordCountNaive(singleText, numberOfFeatures, dataConstrained): \n",
    "    totalComment = str()\n",
    "    for d in dataConstrained: \n",
    "        totalComment = totalComment + d['text']\n",
    "    countNaive = Counter([s.lower() for s in totalComment.split()])\n",
    "    totalCount = []\n",
    "    for key, value in countNaive.most_common(160): \n",
    "        totalCount.append(key)\n",
    "    countNaive = Counter([s.lower() for s in singleText.split()])\n",
    "    i = 0\n",
    "    returnVector = []\n",
    "    for word in totalCount: \n",
    "        returnVector.append(float(countNaive[word]))\n",
    "    return returnVector\n",
    "\n",
    "\n",
    "# word count, remove punc and stopwords to imporve model\n",
    "# @Param: singleText: text to process, numberOfFeatures: 0, 60, 160?\n",
    "# @Return: vector of count (x in description)\n",
    "def wordCountWithStopwords(singleText, numberOfFeatures): \n",
    "    \n",
    "    tokenizer = RegexpTokenizer(r'\\w+')\n",
    "    withoutPunc = tokenizer.tokenize(singleText)\n",
    "    countDict = Counter(s.lower() for s in withoutPunc if s.lower() not in stopwords.words())\n",
    "    \n",
    "    i = 0\n",
    "    returnVector = [0.0 for i in range(0, numberOfFeatures)]\n",
    "    for key, value in countDict.most_common(numberOfFeatures): \n",
    "        if i == numberOfFeatures: \n",
    "            break\n",
    "        returnVector[i] = float(value)\n",
    "        i = i + 1\n",
    "\n",
    "    return returnVector\n",
    "\n",
    "# Test: \n",
    "# print(wordCountWithStopwords([data[8]['text']], 160))\n",
    "# print(data[8]['text'])"
   ]
  },
  {
   "cell_type": "code",
   "execution_count": 3,
   "metadata": {},
   "outputs": [],
   "source": [
    "# word pos count, remove punc and stopwords to imporve model\n",
    "# @Param: singleText: text to process\n",
    "# @Return: vector of [verbcount, nouncount, adjcount]\n",
    "def wordPOSCountWithStopwords(singleText): \n",
    "    \n",
    "    tokenizer = RegexpTokenizer(r'\\w+')\n",
    "    withoutPunc = tokenizer.tokenize(singleText)\n",
    "    setOfStop = set(stopwords.words())\n",
    "    tagged = nltk.pos_tag([s.lower() for s in withoutPunc if s.lower() not in setOfStop])\n",
    "    \n",
    "    verbTotal, nounTotal, adjTotal = 0, 0, 0\n",
    "    counts = Counter(tag for wordType, tag in tagged)\n",
    "    totalCount = len(singleText.split())\n",
    "    \n",
    "    for key, value in counts.items(): \n",
    "        if 'NN' in key: \n",
    "            nounTotal = nounTotal + 1\n",
    "        elif 'VB' in key: \n",
    "            verbTotal = verbTotal + 1\n",
    "        elif 'JJ' in key: \n",
    "            adjTotal = adjTotal + 1\n",
    "            \n",
    "    if totalCount > 0: \n",
    "        return [float(verbTotal) / totalCount, float(nounTotal) / totalCount, float(adjTotal) / totalCount]\n",
    "    else: \n",
    "        return [0.0, 0.0, 0.0]\n",
    "# Test: \n",
    "# print(wordPOSCountWithStopwords(data[3]['text']))\n",
    "# print(data[3]['text'])"
   ]
  },
  {
   "cell_type": "code",
   "execution_count": 4,
   "metadata": {},
   "outputs": [],
   "source": [
    "def hasURL(text): \n",
    "    if re.match(r\"(http://[^ ]+)\", text) != None: \n",
    "        return 1.0\n",
    "    else: \n",
    "        return 0.0"
   ]
  },
  {
   "cell_type": "code",
   "execution_count": 5,
   "metadata": {},
   "outputs": [],
   "source": [
    "def pythonListTranspose(xl): \n",
    "    return list(map(list, itertools.zip_longest(*xl)))"
   ]
  },
  {
   "cell_type": "code",
   "execution_count": 78,
   "metadata": {},
   "outputs": [],
   "source": [
    "# Feature Parser\n",
    "# @Param: dataVector: sliced original dataset, wordCountFunction: <str> -> ndarray<float>, \n",
    "# wordPOSFunction: str -> list<float>, numberOfTextFeature: 0 to shut down Text Processing (Text Features)\n",
    "# featureType: \n",
    "# @Return: tuple<ndarray, list>: xEngineered, yExtracted: rows: vector<samplePoint>, samplePoint[0->2]: basic Features, \n",
    "# samplePoint[3->162]: text, samplePoint[163->167]: extra\n",
    "def parseFeatures(dataVector, wordCountFunction, numberOfTextFeatures, featureType): \n",
    "    y = []\n",
    "    childrenFeature = []\n",
    "    controversialityFeature = []\n",
    "    isRootFeature = []\n",
    "    processedTextFeature = []\n",
    "    verbFeature = []\n",
    "    nounFeature = []\n",
    "    adjFeature = []\n",
    "    urlFeature = []\n",
    "    identityFeature = []\n",
    "    c = 0\n",
    "    lenV = len(dataVector)\n",
    "    for dataPoint in dataVector: \n",
    "        \n",
    "        # Basic Features\n",
    "        y.append(float(dataPoint['popularity_score']))\n",
    "        if 'children' in featureType: \n",
    "            childrenFeature.append(float(dataPoint['children']))\n",
    "        if 'controv' in featureType: \n",
    "            controversialityFeature.append(float(dataPoint['controversiality']))\n",
    "        identityFeature.append(1.0)\n",
    "        isRootVar = -1.0\n",
    "        if 'isRoot' in featureType: \n",
    "            if dataPoint['is_root'] == True: \n",
    "                isRootVar = 1.0\n",
    "                isRootFeature.append(isRootVar)\n",
    "            else: \n",
    "                isRootVar = 0.0\n",
    "                isRootFeature.append(isRootVar)\n",
    "        \n",
    "        # Text Features: 0 to shut down text feature\n",
    "        if numberOfTextFeatures > 0 and 'text' in featureType: \n",
    "            processedTextFeature.append(wordCountFunction(dataPoint['text'], numberOfTextFeatures, dataVector))\n",
    "        \n",
    "        # Extra Features\n",
    "        if 'noun' in featureType or 'verb' in featureType or 'adj' in featureType: \n",
    "            wordAnalysis = wordPOSCountWithStopwords(dataPoint['text'])\n",
    "        if 'verb' in featureType: \n",
    "            verbFeature.append(wordAnalysis[0])\n",
    "        if 'noun' in featureType: \n",
    "            nounFeature.append(wordAnalysis[1])\n",
    "        if 'adj' in featureType: \n",
    "            adjFeature.append(wordAnalysis[2])\n",
    "        if 'url' in featureType: \n",
    "            urlFeature.append(hasURL(dataPoint['text']))\n",
    "        \n",
    "        # Process Bar\n",
    "        sys.stdout.write('\\r')\n",
    "        count = int((float(c) / float(lenV)) * 100)\n",
    "        sys.stdout.write(\"[%-20s] %d%%\" % ('='*int(count / 5), count))\n",
    "        sleep(0.001)\n",
    "        sys.stdout.flush()\n",
    "        c = c + 1\n",
    "    if len(processedTextFeature) > 0: \n",
    "        processedTextFeature = pythonListTranspose(processedTextFeature)\n",
    "    returnTotal = [childrenFeature, controversialityFeature, isRootFeature] + processedTextFeature + [verbFeature, nounFeature, adjFeature, urlFeature, identityFeature]\n",
    "    return pythonListTranspose([x for x in returnTotal if len(x) > 0]), pythonListTranspose([y])"
   ]
  },
  {
   "cell_type": "code",
   "execution_count": 7,
   "metadata": {},
   "outputs": [],
   "source": [
    "def meanSquareError(valX, valY, w): \n",
    "    diffenence = numpy.power(numpy.transpose(numpy.subtract(valY, numpy.matmul(valX, w)))[0], 2)\n",
    "    return numpy.divide(numpy.sum(diffenence), len(valY))"
   ]
  },
  {
   "cell_type": "code",
   "execution_count": 8,
   "metadata": {},
   "outputs": [],
   "source": [
    "def closedFormLinearRegression(x, y): \n",
    "    xT = numpy.transpose(numpy.array(x))\n",
    "    return numpy.matmul(numpy.matmul(scipy.linalg.inv(numpy.matmul(xT, numpy.array(x))), xT), numpy.array(y))"
   ]
  },
  {
   "cell_type": "code",
   "execution_count": 9,
   "metadata": {},
   "outputs": [],
   "source": [
    "def gradientDescentLinearRegression(learnRateFunction, x, y, tol): \n",
    "    i = 1\n",
    "    weight = numpy.array([[0.0] for l in range(len(x[0]))])\n",
    "    weightN = numpy.array([[0.0] for l in range(len(x[0]))])\n",
    "    xT = numpy.transpose(x)\n",
    "    xTx = numpy.matmul(xT, x)\n",
    "    xTy = numpy.matmul(xT, y)\n",
    "    while True: \n",
    "        weight = weightN\n",
    "        weightN = numpy.subtract(weight, 2 * learnRateFunction(i) * numpy.subtract(numpy.matmul(xTx, weight), xTy))\n",
    "        i = i + 1\n",
    "        if numpy.linalg.norm(numpy.subtract(weightN, weight), 2) <= tol: \n",
    "            break\n",
    "    return weightN"
   ]
  },
  {
   "cell_type": "markdown",
   "metadata": {},
   "source": [
    "## Experiment 1: comparison of GD and closed form"
   ]
  },
  {
   "cell_type": "code",
   "execution_count": 10,
   "metadata": {},
   "outputs": [
    {
     "name": "stdout",
     "output_type": "stream",
     "text": [
      "[=================== ] 99%"
     ]
    }
   ],
   "source": [
    "trainFeatures = parseFeatures(data[:10000], wordCountNaive, 0, ['children', 'controv', 'isRoot'])\n",
    "validationFeatures = parseFeatures(data[10000:11000], wordCountNaive, 0, ['children', 'controv', 'isRoot'])\n",
    "testFeatures = parseFeatures(data[11000:12000], wordCountNaive, 0, ['children', 'controv', 'isRoot'])"
   ]
  },
  {
   "cell_type": "markdown",
   "metadata": {},
   "source": [
    "### Closed form"
   ]
  },
  {
   "cell_type": "code",
   "execution_count": 11,
   "metadata": {},
   "outputs": [
    {
     "name": "stdout",
     "output_type": "stream",
     "text": [
      "result of closed form: \n",
      " [[ 0.37536403]\n",
      " [-1.08584747]\n",
      " [-0.22627679]\n",
      " [ 0.82092517]]\n",
      "error of closed form: \n",
      " 1.0203266848431447\n",
      "error of closed form: train \n",
      " 1.0846830709157251\n"
     ]
    }
   ],
   "source": [
    "resultClosed = closedFormLinearRegression(trainFeatures[0], trainFeatures[1])\n",
    "errorClosed = meanSquareError(validationFeatures[0], validationFeatures[1], resultClosed)\n",
    "errorTrained = meanSquareError(trainFeatures[0], trainFeatures[1], resultClosed)\n",
    "print('result of closed form: \\n', resultClosed)\n",
    "print('error of closed form: \\n', errorClosed)\n",
    "print('error of closed form: train \\n', errorTrained)"
   ]
  },
  {
   "cell_type": "markdown",
   "metadata": {},
   "source": [
    "### Gradient Descent"
   ]
  },
  {
   "cell_type": "code",
   "execution_count": 12,
   "metadata": {},
   "outputs": [
    {
     "name": "stdout",
     "output_type": "stream",
     "text": [
      "result of gradient descent: \n",
      " [[ 0.37533109]\n",
      " [-1.07323872]\n",
      " [-0.22619048]\n",
      " [ 0.8207526 ]]\n",
      "error of gradient descent: \n",
      " 1.020380306032347\n"
     ]
    }
   ],
   "source": [
    "resultGradient = gradientDescentLinearRegression(lambda v: float(0.0020 / (float(v) + 7.0)), trainFeatures[0], trainFeatures[1], 0.00000005)\n",
    "errorGradient = meanSquareError(validationFeatures[0], validationFeatures[1], resultGradient)\n",
    "print('result of gradient descent: \\n', resultGradient)\n",
    "print('error of gradient descent: \\n', errorGradient)"
   ]
  },
  {
   "cell_type": "markdown",
   "metadata": {},
   "source": [
    "同志们 在上面的学习率上做文章 runtime或者error做个plot 变上面根本算不完 变下面会改变第二个参数的精度"
   ]
  },
  {
   "cell_type": "markdown",
   "metadata": {},
   "source": [
    "## Experiment 2: Text features"
   ]
  },
  {
   "cell_type": "code",
   "execution_count": 60,
   "metadata": {},
   "outputs": [
    {
     "name": "stdout",
     "output_type": "stream",
     "text": [
      "[=================== ] 99%"
     ]
    }
   ],
   "source": [
    "trainFeatures60 = parseFeatures(data[:10000], wordCountNaive, 60, ['children', 'controv', 'isRoot', 'text'])\n",
    "trainFeatures160 = parseFeatures(data[:10000], wordCountNaive, 160, ['children', 'controv', 'isRoot', 'text'])"
   ]
  },
  {
   "cell_type": "code",
   "execution_count": 61,
   "metadata": {},
   "outputs": [
    {
     "name": "stdout",
     "output_type": "stream",
     "text": [
      "[=================== ] 99%"
     ]
    }
   ],
   "source": [
    "validationFeatures60 = parseFeatures(data[10000:11000], wordCountNaive, 60, ['children', 'controv', 'isRoot', 'text'])\n",
    "validationFeatures160 = parseFeatures(data[10000:11000], wordCountNaive, 160, ['children', 'controv', 'isRoot', 'text'])"
   ]
  },
  {
   "cell_type": "markdown",
   "metadata": {},
   "source": [
    "### 60 text features"
   ]
  },
  {
   "cell_type": "code",
   "execution_count": 62,
   "metadata": {},
   "outputs": [
    {
     "name": "stdout",
     "output_type": "stream",
     "text": [
      "error of closed form: \n",
      " 1.0075470140208287\n",
      "error of closed trained: \n",
      " 1.0542104962732821\n"
     ]
    }
   ],
   "source": [
    "resultClosed = closedFormLinearRegression(trainFeatures60[0], trainFeatures60[1])\n",
    "errorClosed = meanSquareError(validationFeatures60[0], validationFeatures60[1], resultClosed)\n",
    "errorTrained = meanSquareError(trainFeatures60[0], trainFeatures60[1], resultClosed)\n",
    "# print('result of closed form: \\n', resultClosed)\n",
    "print('error of closed form: \\n', errorClosed)\n",
    "print('error of closed trained: \\n', errorTrained)"
   ]
  },
  {
   "cell_type": "code",
   "execution_count": 63,
   "metadata": {
    "scrolled": true
   },
   "outputs": [
    {
     "name": "stdout",
     "output_type": "stream",
     "text": [
      "error of closed form: \n",
      " 1.0075470140208287\n",
      "error of closed trained: \n",
      " 1.0542104962732821\n"
     ]
    },
    {
     "data": {
      "text/plain": [
       "10000"
      ]
     },
     "execution_count": 63,
     "metadata": {},
     "output_type": "execute_result"
    }
   ],
   "source": [
    "resultClosed160 = closedFormLinearRegression(trainFeatures160[0], trainFeatures160[1])\n",
    "errorClosed160 = meanSquareError(validationFeatures160[0], validationFeatures160[1], resultClosed160)\n",
    "errorTrained160 = meanSquareError(trainFeatures160[0], trainFeatures160[1], resultClosed160)\n",
    "# print('result of closed form: \\n', resultClosed160)\n",
    "print('error of closed form: \\n', errorClosed160)\n",
    "print('error of closed trained: \\n', errorTrained160)\n",
    "len(trainFeatures160[1])"
   ]
  },
  {
   "cell_type": "code",
   "execution_count": 38,
   "metadata": {},
   "outputs": [
    {
     "name": "stdout",
     "output_type": "stream",
     "text": [
      "[=================== ] 99%"
     ]
    }
   ],
   "source": [
    "trainFeatures160 = parseFeatures(data[:10000], wordCountNaive, 130, ['children', 'controv', 'isRoot', 'text'])\n",
    "validFeatures160 = parseFeatures(data[10000:11000], wordCountNaive, 130, ['children', 'controv', 'isRoot', 'text'])"
   ]
  },
  {
   "cell_type": "code",
   "execution_count": 39,
   "metadata": {},
   "outputs": [],
   "source": [
    "resultClosed160 = closedFormLinearRegression(trainFeatures160[0], trainFeatures160[1])\n",
    "errorClosed160 = meanSquareError(validFeatures160[0], validFeatures160[1], resultClosed160)\n",
    "errorTrained160 = meanSquareError(trainFeatures160[0], trainFeatures160[1], resultClosed160)"
   ]
  },
  {
   "cell_type": "code",
   "execution_count": 40,
   "metadata": {},
   "outputs": [
    {
     "name": "stdout",
     "output_type": "stream",
     "text": [
      "error of closed form: \n",
      " 258439.5164966733\n",
      "error of closed trained: \n",
      " 172387.86569401412\n"
     ]
    }
   ],
   "source": [
    "print('error of closed form: \\n', errorClosed160)\n",
    "print('error of closed trained: \\n', errorTrained160)"
   ]
  },
  {
   "cell_type": "code",
   "execution_count": 64,
   "metadata": {},
   "outputs": [],
   "source": [
    "import pandas as pd\n",
    "import statsmodels.api as sm"
   ]
  },
  {
   "cell_type": "code",
   "execution_count": 65,
   "metadata": {},
   "outputs": [],
   "source": [
    "df = pd.DataFrame(data[:10000])"
   ]
  },
  {
   "cell_type": "code",
   "execution_count": 66,
   "metadata": {},
   "outputs": [],
   "source": [
    "df[['is_root']] = df[['is_root']].astype(int)"
   ]
  },
  {
   "cell_type": "code",
   "execution_count": 67,
   "metadata": {},
   "outputs": [
    {
     "data": {
      "text/html": [
       "<table class=\"simpletable\">\n",
       "<caption>OLS Regression Results</caption>\n",
       "<tr>\n",
       "  <th>Dep. Variable:</th>    <td>popularity_score</td> <th>  R-squared:         </th> <td>   0.206</td> \n",
       "</tr>\n",
       "<tr>\n",
       "  <th>Model:</th>                   <td>OLS</td>       <th>  Adj. R-squared:    </th> <td>   0.206</td> \n",
       "</tr>\n",
       "<tr>\n",
       "  <th>Method:</th>             <td>Least Squares</td>  <th>  F-statistic:       </th> <td>   863.7</td> \n",
       "</tr>\n",
       "<tr>\n",
       "  <th>Date:</th>             <td>Sun, 20 Jan 2019</td> <th>  Prob (F-statistic):</th>  <td>  0.00</td>  \n",
       "</tr>\n",
       "<tr>\n",
       "  <th>Time:</th>                 <td>17:35:56</td>     <th>  Log-Likelihood:    </th> <td> -14596.</td> \n",
       "</tr>\n",
       "<tr>\n",
       "  <th>No. Observations:</th>      <td> 10000</td>      <th>  AIC:               </th> <td>2.920e+04</td>\n",
       "</tr>\n",
       "<tr>\n",
       "  <th>Df Residuals:</th>          <td>  9996</td>      <th>  BIC:               </th> <td>2.923e+04</td>\n",
       "</tr>\n",
       "<tr>\n",
       "  <th>Df Model:</th>              <td>     3</td>      <th>                     </th>     <td> </td>    \n",
       "</tr>\n",
       "<tr>\n",
       "  <th>Covariance Type:</th>      <td>nonrobust</td>    <th>                     </th>     <td> </td>    \n",
       "</tr>\n",
       "</table>\n",
       "<table class=\"simpletable\">\n",
       "<tr>\n",
       "          <td></td>            <th>coef</th>     <th>std err</th>      <th>t</th>      <th>P>|t|</th>  <th>[0.025</th>    <th>0.975]</th>  \n",
       "</tr>\n",
       "<tr>\n",
       "  <th>const</th>            <td>    0.8209</td> <td>    0.014</td> <td>   57.728</td> <td> 0.000</td> <td>    0.793</td> <td>    0.849</td>\n",
       "</tr>\n",
       "<tr>\n",
       "  <th>children</th>         <td>    0.3754</td> <td>    0.008</td> <td>   48.224</td> <td> 0.000</td> <td>    0.360</td> <td>    0.391</td>\n",
       "</tr>\n",
       "<tr>\n",
       "  <th>controversiality</th> <td>   -1.0858</td> <td>    0.097</td> <td>  -11.198</td> <td> 0.000</td> <td>   -1.276</td> <td>   -0.896</td>\n",
       "</tr>\n",
       "<tr>\n",
       "  <th>is_root</th>          <td>   -0.2263</td> <td>    0.021</td> <td>  -10.702</td> <td> 0.000</td> <td>   -0.268</td> <td>   -0.185</td>\n",
       "</tr>\n",
       "</table>\n",
       "<table class=\"simpletable\">\n",
       "<tr>\n",
       "  <th>Omnibus:</th>       <td>2159.929</td> <th>  Durbin-Watson:     </th> <td>   2.022</td> \n",
       "</tr>\n",
       "<tr>\n",
       "  <th>Prob(Omnibus):</th>  <td> 0.000</td>  <th>  Jarque-Bera (JB):  </th> <td>23032.908</td>\n",
       "</tr>\n",
       "<tr>\n",
       "  <th>Skew:</th>           <td> 0.729</td>  <th>  Prob(JB):          </th> <td>    0.00</td> \n",
       "</tr>\n",
       "<tr>\n",
       "  <th>Kurtosis:</th>       <td>10.291</td>  <th>  Cond. No.          </th> <td>    13.7</td> \n",
       "</tr>\n",
       "</table><br/><br/>Warnings:<br/>[1] Standard Errors assume that the covariance matrix of the errors is correctly specified."
      ],
      "text/plain": [
       "<class 'statsmodels.iolib.summary.Summary'>\n",
       "\"\"\"\n",
       "                            OLS Regression Results                            \n",
       "==============================================================================\n",
       "Dep. Variable:       popularity_score   R-squared:                       0.206\n",
       "Model:                            OLS   Adj. R-squared:                  0.206\n",
       "Method:                 Least Squares   F-statistic:                     863.7\n",
       "Date:                Sun, 20 Jan 2019   Prob (F-statistic):               0.00\n",
       "Time:                        17:35:56   Log-Likelihood:                -14596.\n",
       "No. Observations:               10000   AIC:                         2.920e+04\n",
       "Df Residuals:                    9996   BIC:                         2.923e+04\n",
       "Df Model:                           3                                         \n",
       "Covariance Type:            nonrobust                                         \n",
       "====================================================================================\n",
       "                       coef    std err          t      P>|t|      [0.025      0.975]\n",
       "------------------------------------------------------------------------------------\n",
       "const                0.8209      0.014     57.728      0.000       0.793       0.849\n",
       "children             0.3754      0.008     48.224      0.000       0.360       0.391\n",
       "controversiality    -1.0858      0.097    -11.198      0.000      -1.276      -0.896\n",
       "is_root             -0.2263      0.021    -10.702      0.000      -0.268      -0.185\n",
       "==============================================================================\n",
       "Omnibus:                     2159.929   Durbin-Watson:                   2.022\n",
       "Prob(Omnibus):                  0.000   Jarque-Bera (JB):            23032.908\n",
       "Skew:                           0.729   Prob(JB):                         0.00\n",
       "Kurtosis:                      10.291   Cond. No.                         13.7\n",
       "==============================================================================\n",
       "\n",
       "Warnings:\n",
       "[1] Standard Errors assume that the covariance matrix of the errors is correctly specified.\n",
       "\"\"\""
      ]
     },
     "execution_count": 67,
     "metadata": {},
     "output_type": "execute_result"
    }
   ],
   "source": [
    "y = df['popularity_score']\n",
    "X = df[['children', 'controversiality', 'is_root']]\n",
    "X = sm.add_constant(X)\n",
    "analysis = sm.OLS(y, X).fit()\n",
    "analysis.summary()"
   ]
  },
  {
   "cell_type": "code",
   "execution_count": 68,
   "metadata": {},
   "outputs": [],
   "source": [
    "def parseMyFeatures(dataVector, wordCountFunction, numberOfTextFeatures, featureType): \n",
    "    y = []\n",
    "    childrenFeature = []\n",
    "    controversialityFeature = []\n",
    "    isRootFeature = []\n",
    "    rootChildren = []\n",
    "    processedTextFeature = []\n",
    "    identityFeature = []\n",
    "    c = 0\n",
    "    lenV = len(dataVector)\n",
    "    for dataPoint in dataVector: \n",
    "        \n",
    "        # Basic Features\n",
    "        y.append(float(dataPoint['popularity_score']))\n",
    "        childrenVar = 0\n",
    "        if 'children' in featureType: \n",
    "            childrenVar = numpy.log(dataPoint['children']) if dataPoint['children'] != 0 else numpy.log(0.5)\n",
    "            childrenFeature.append(childrenVar)\n",
    "        if 'controv' in featureType: \n",
    "            controversialityFeature.append(float(dataPoint['controversiality']))\n",
    "        identityFeature.append(1.0)\n",
    "        isRootVar = -1.0\n",
    "        if 'isRoot' in featureType: \n",
    "            if dataPoint['is_root'] == True: \n",
    "                isRootVar = 1.0\n",
    "                isRootFeature.append(isRootVar)\n",
    "            else: \n",
    "                isRootVar = 0.0\n",
    "                isRootFeature.append(isRootVar)\n",
    "                \n",
    "        # Text Features: 0 to shut down text feature\n",
    "        if numberOfTextFeatures > 0 and 'text' in featureType: \n",
    "            processedTextFeature.append(wordCountFunction(dataPoint['text'], numberOfTextFeatures))\n",
    "        \n",
    "        # Extra Features\n",
    "        if 'rc' in featureType: \n",
    "            rootChildren.append(float(dataPoint['controversiality']) * childrenVar)\n",
    "        \n",
    "        # Process Bar\n",
    "        sys.stdout.write('\\r')\n",
    "        count = int((float(c) / float(lenV)) * 100)\n",
    "        sys.stdout.write(\"[%-20s] %d%%\" % ('='*int(count / 5), count))\n",
    "        sleep(0.001)\n",
    "        sys.stdout.flush()\n",
    "        c = c + 1\n",
    "    if len(processedTextFeature) > 0: \n",
    "        processedTextFeature = pythonListTranspose(processedTextFeature)\n",
    "    returnTotal = [childrenFeature, controversialityFeature, isRootFeature, rootChildren] + processedTextFeature + [identityFeature]\n",
    "    return pythonListTranspose([x for x in returnTotal if len(x) > 0]), pythonListTranspose([y])"
   ]
  },
  {
   "cell_type": "code",
   "execution_count": 69,
   "metadata": {},
   "outputs": [
    {
     "name": "stdout",
     "output_type": "stream",
     "text": [
      "[=================== ] 99%"
     ]
    }
   ],
   "source": [
    "trainFeaturesMy = parseMyFeatures(data[:10000], wordCountNaive, 60, ['children', 'controv', 'isRoot', 'rc', 'text'])\n",
    "validationFeaturesMy = parseMyFeatures(data[10000:11000], wordCountNaive, 60, ['children', 'controv', 'isRoot', 'rc', 'text'])\n",
    "testFeaturesMy = parseMyFeatures(data[11000:12000], wordCountNaive, 60, ['children', 'controv', 'isRoot', 'rc', 'text'])"
   ]
  },
  {
   "cell_type": "code",
   "execution_count": 70,
   "metadata": {},
   "outputs": [
    {
     "name": "stdout",
     "output_type": "stream",
     "text": [
      "error of closed form: \n",
      " 1.020489356432128\n",
      "error of closed form: train \n",
      " 1.0438776190466201\n"
     ]
    }
   ],
   "source": [
    "resultClosedMy = closedFormLinearRegression(trainFeaturesMy[0], trainFeaturesMy[1])\n",
    "errorClosedMy = meanSquareError(validationFeaturesMy[0], validationFeaturesMy[1], resultClosedMy)\n",
    "errorTrainedMy = meanSquareError(trainFeaturesMy[0], trainFeaturesMy[1], resultClosedMy)\n",
    "print('error of closed form: \\n', errorClosedMy)\n",
    "print('error of closed form: train \\n', errorTrainedMy)"
   ]
  },
  {
   "cell_type": "markdown",
   "metadata": {},
   "source": [
    "### Forward Selection"
   ]
  },
  {
   "cell_type": "code",
   "execution_count": 73,
   "metadata": {},
   "outputs": [
    {
     "name": "stdout",
     "output_type": "stream",
     "text": [
      "[=================== ] 99%"
     ]
    }
   ],
   "source": [
    "import pandas\n",
    "allData = parseFeatures(data[:11000], wordCountNaive, 60, ['children', 'controv', 'isRoot', 'text'])\n",
    "train = pandas.DataFrame(allData[0])"
   ]
  },
  {
   "cell_type": "code",
   "execution_count": 74,
   "metadata": {},
   "outputs": [
    {
     "data": {
      "text/plain": [
       "[[1.254698160267241],\n",
       " [0.5098127108953306],\n",
       " [0.37082680372624166],\n",
       " [-0.272842545494951],\n",
       " [0.5601496777971341]]"
      ]
     },
     "execution_count": 74,
     "metadata": {},
     "output_type": "execute_result"
    }
   ],
   "source": [
    "allData[1][:5]"
   ]
  },
  {
   "cell_type": "code",
   "execution_count": 75,
   "metadata": {},
   "outputs": [
    {
     "name": "stdout",
     "output_type": "stream",
     "text": [
      "{0, 1, 2, 3, 4, 5, 6, 7, 8, 9, 10, 11, 12, 13, 14, 15, 16, 17, 18, 19, 20, 21, 22, 23, 24, 25, 26, 27, 28, 29, 30, 31, 32, 33, 34, 35, 36, 37, 38, 39, 40, 41, 42, 43, 44, 45, 46, 47, 48, 49, 50, 51, 52, 53, 54, 55, 56, 57, 58, 59, 60, 61, 62, 63}\n",
      "[=================== ] 95%[1.329952589487065, {0, 1, 2, 3, 4, 5, 6, 7, 8, 9, 10, 11, 12, 13, 14, 15, 16, 17, 18, 19, 20, 21, 22, 23, 24, 25, 26, 27, 28, 29, 30, 31, 32, 33, 34, 35, 36, 37, 38, 39, 40, 41, 42, 43, 44, 45, 46, 47, 48, 49, 50, 51, 52, 53, 54, 55, 56, 57, 58, 59, 60, 61, 62}]\n"
     ]
    }
   ],
   "source": [
    "fullPredictors = set([i for i in range(0, 64)])\n",
    "print(fullPredictors)\n",
    "levelBest = [[sys.float_info.max, set()]]\n",
    "c = 0\n",
    "for k in range(1, 64): \n",
    "    \n",
    "    prevBest = levelBest[-1][1]\n",
    "    currentPredictors = fullPredictors - prevBest\n",
    "    mseVal = []\n",
    "    \n",
    "    for predictor in currentPredictors: \n",
    "        selected = prevBest | set([predictor])\n",
    "        \n",
    "        trainX = (train[list(selected)].values)[:10000]\n",
    "        validX = (train[list(selected)].values)[10000:11000]\n",
    "        trainY = allData[1][:10000]\n",
    "        validY = allData[1][10000:11000]\n",
    "        \n",
    "        try: \n",
    "            resultW = closedFormLinearRegression(trainX, trainY)\n",
    "        except: \n",
    "            continue\n",
    "        mseVal.append([meanSquareError(validX, validY, resultW), selected])\n",
    "    \n",
    "    if len(mseVal) > 0: \n",
    "        levelBest.append(min(mseVal, key = lambda x: x[1]))\n",
    "    \n",
    "    # Process Bar\n",
    "    sys.stdout.write('\\r')\n",
    "    count = int((float(c) / float(65)) * 100)\n",
    "    sys.stdout.write(\"[%-20s] %d%%\" % ('='*int(count / 5), count))\n",
    "    sleep(0.001)\n",
    "    sys.stdout.flush()\n",
    "    c = c + 1\n",
    "\n",
    "trainX = (train[list(fullPredictors)].values)[:10000]\n",
    "validX = (train[list(fullPredictors)].values)[10000:11000]\n",
    "trainY = allData[1][:10000]\n",
    "validY = allData[1][10000:11000]\n",
    "resultW = closedFormLinearRegression(trainX, trainY)\n",
    "mseVal.append([selected, meanSquareError(validX, validY, resultW)])\n",
    "\n",
    "bestOfAll = sorted(levelBest, key = lambda v: v[0])[0]\n",
    "\n",
    "print(bestOfAll)"
   ]
  },
  {
   "cell_type": "code",
   "execution_count": 220,
   "metadata": {},
   "outputs": [
    {
     "data": {
      "text/plain": [
       "<matplotlib.collections.PathCollection at 0x1c206d3f60>"
      ]
     },
     "execution_count": 220,
     "metadata": {},
     "output_type": "execute_result"
    },
    {
     "data": {
      "image/png": "[encoded data removed]",
      "text/plain": [
       "<Figure size 432x288 with 1 Axes>"
      ]
     },
     "metadata": {},
     "output_type": "display_data"
    }
   ],
   "source": [
    "import matplotlib.pyplot as plt\n",
    "plt.scatter(numpy.transpose(trainFeaturesMy[0])[0], numpy.transpose(trainFeaturesMy[1]), alpha = 0.05)"
   ]
  },
  {
   "cell_type": "code",
   "execution_count": 221,
   "metadata": {},
   "outputs": [
    {
     "data": {
      "text/plain": [
       "<matplotlib.collections.PathCollection at 0x1c21dd5470>"
      ]
     },
     "execution_count": 221,
     "metadata": {},
     "output_type": "execute_result"
    },
    {
     "data": {
      "image/png": "[encoded data removed]",
      "text/plain": [
       "<Figure size 432x288 with 1 Axes>"
      ]
     },
     "metadata": {},
     "output_type": "display_data"
    }
   ],
   "source": [
    "plt.scatter(numpy.transpose(trainFeaturesMy[0])[1], numpy.transpose(trainFeaturesMy[1]), alpha = 0.05)"
   ]
  },
  {
   "cell_type": "code",
   "execution_count": 222,
   "metadata": {},
   "outputs": [
    {
     "data": {
      "text/plain": [
       "<matplotlib.collections.PathCollection at 0x1c21e66668>"
      ]
     },
     "execution_count": 222,
     "metadata": {},
     "output_type": "execute_result"
    },
    {
     "data": {
      "image/png": "[encoded data removed]",
      "text/plain": [
       "<Figure size 432x288 with 1 Axes>"
      ]
     },
     "metadata": {},
     "output_type": "display_data"
    }
   ],
   "source": [
    "plt.scatter(numpy.transpose(trainFeaturesMy[0])[2], numpy.transpose(trainFeaturesMy[1]), alpha = 0.05)"
   ]
  },
  {
   "cell_type": "code",
   "execution_count": 223,
   "metadata": {},
   "outputs": [
    {
     "data": {
      "text/plain": [
       "<matplotlib.collections.PathCollection at 0x1c21efb8d0>"
      ]
     },
     "execution_count": 223,
     "metadata": {},
     "output_type": "execute_result"
    },
    {
     "data": {
      "image/png": "[encoded data removed]",
      "text/plain": [
       "<Figure size 432x288 with 1 Axes>"
      ]
     },
     "metadata": {},
     "output_type": "display_data"
    }
   ],
   "source": [
    "plt.scatter(numpy.transpose(trainFeaturesMy[0])[3], numpy.transpose(trainFeaturesMy[1]), alpha = 0.05)"
   ]
  },
  {
   "cell_type": "code",
   "execution_count": 225,
   "metadata": {},
   "outputs": [
    {
     "name": "stderr",
     "output_type": "stream",
     "text": [
      "/Users/yuxiangma/anaconda3/lib/python3.6/site-packages/ipykernel_launcher.py:1: RuntimeWarning: divide by zero encountered in log\n",
      "  \"\"\"Entry point for launching an IPython kernel.\n",
      "/Users/yuxiangma/anaconda3/lib/python3.6/site-packages/ipykernel_launcher.py:1: RuntimeWarning: invalid value encountered in log\n",
      "  \"\"\"Entry point for launching an IPython kernel.\n"
     ]
    },
    {
     "data": {
      "text/plain": [
       "<matplotlib.collections.PathCollection at 0x1c22fbc438>"
      ]
     },
     "execution_count": 225,
     "metadata": {},
     "output_type": "execute_result"
    },
    {
     "data": {
      "image/png": "[encoded data removed]",
      "text/plain": [
       "<Figure size 432x288 with 1 Axes>"
      ]
     },
     "metadata": {},
     "output_type": "display_data"
    }
   ],
   "source": [
    "plt.scatter(numpy.log(numpy.transpose(trainFeaturesMy[0]))[4], numpy.transpose(trainFeaturesMy[1]))"
   ]
  },
  {
   "cell_type": "code",
   "execution_count": null,
   "metadata": {},
   "outputs": [],
   "source": []
  }
 ],
 "metadata": {
  "kernelspec": {
   "display_name": "Python 3",
   "language": "python",
   "name": "python3"
  },
  "language_info": {
   "codemirror_mode": {
    "name": "ipython",
    "version": 3
   },
   "file_extension": ".py",
   "mimetype": "text/x-python",
   "name": "python",
   "nbconvert_exporter": "python",
   "pygments_lexer": "ipython3",
   "version": "3.6.5"
  }
 },
 "nbformat": 4,
 "nbformat_minor": 2
}
