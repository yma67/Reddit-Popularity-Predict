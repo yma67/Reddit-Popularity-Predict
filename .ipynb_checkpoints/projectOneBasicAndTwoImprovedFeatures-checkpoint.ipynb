{
 "cells": [
  {
   "cell_type": "code",
   "execution_count": 1,
   "metadata": {},
   "outputs": [],
   "source": [
    "import json\n",
    "import nltk\n",
    "import re\n",
    "import itertools\n",
    "from time import sleep\n",
    "import sys\n",
    "import numpy\n",
    "import scipy\n",
    "from nltk.corpus import stopwords\n",
    "from nltk.tokenize import RegexpTokenizer\n",
    "from collections import Counter\n",
    "with open(\"proj1_data.json\") as fp:\n",
    "    data = json.load(fp)"
   ]
  },
  {
   "cell_type": "code",
   "execution_count": 2,
   "metadata": {},
   "outputs": [],
   "source": [
    "train = data[:10000]\n",
    "validation = data[10000:11000]\n",
    "test = data[11000:12000]"
   ]
  },
  {
   "cell_type": "markdown",
   "metadata": {},
   "source": [
    "## Part 1: feature extraction"
   ]
  },
  {
   "cell_type": "code",
   "execution_count": 3,
   "metadata": {},
   "outputs": [],
   "source": [
    "def countAllFrequencyNaive(dataSet): \n",
    "    totalString = str()\n",
    "    for d in dataSet: \n",
    "        totalString = totalString + ' ' + d['text']\n",
    "    countNaive = Counter([s for s in totalString.lower().strip().split()])\n",
    "    totalCount = []\n",
    "    return list(map(lambda v: v[0], countNaive.most_common(160)))"
   ]
  },
  {
   "cell_type": "code",
   "execution_count": 4,
   "metadata": {},
   "outputs": [],
   "source": [
    "def countAllFrequencyStopWord(dataSet): \n",
    "    \n",
    "    totalString = str()\n",
    "    \n",
    "    for d in dataSet: \n",
    "        totalString = totalString + ' ' + d['text']\n",
    "        \n",
    "    tokenizer = RegexpTokenizer(r'\\w+')\n",
    "    withoutPunc = tokenizer.tokenize(totalString)\n",
    "    \n",
    "    stopwordsSet = set(stopwords.words())\n",
    "    \n",
    "    countDict = Counter(s.lower() for s in withoutPunc if s.lower() not in stopwordsSet)\n",
    "    \n",
    "    return list(map(lambda v: v[0], countDict.most_common(160)))"
   ]
  },
  {
   "cell_type": "code",
   "execution_count": 5,
   "metadata": {},
   "outputs": [],
   "source": [
    "# word count, no removal of punctuations\n",
    "# @Param: singleText: text to process, numberOfFeatures: 0, 60, 160?\n",
    "# @Return: vector of count (x in description)\n",
    "def wordCountNaive(singleText, numberOfFeatures, totalCount): \n",
    "    \n",
    "    countNaive = Counter([s.lower() for s in singleText.split()])\n",
    "    returnVector = []\n",
    "    for word in totalCount[:numberOfFeatures]: \n",
    "        returnVector.append(float(countNaive[word]))\n",
    "    return returnVector\n",
    "\n",
    "\n",
    "# word count, remove punc and stopwords to imporve model\n",
    "# @Param: singleText: text to process, numberOfFeatures: 0, 60, 160?\n",
    "# @Return: vector of count (x in description)\n",
    "def wordCountWithStopwords(singleText, numberOfFeatures, totalCount): \n",
    "    \n",
    "    tokenizer = RegexpTokenizer(r'\\w+')\n",
    "    withoutPunc = tokenizer.tokenize(singleText)\n",
    "    \n",
    "    stopwordsSet = set(stopwords.words())\n",
    "    \n",
    "    countDict = Counter([s.lower() for s in withoutPunc if s.lower() not in stopwordsSet])\n",
    "    \n",
    "    returnVector = []\n",
    "    for word in totalCount[:numberOfFeatures]: \n",
    "        returnVector.append(float(countDict[word]))\n",
    "    \n",
    "    return returnVector"
   ]
  },
  {
   "cell_type": "code",
   "execution_count": 6,
   "metadata": {},
   "outputs": [],
   "source": [
    "def pythonListTranspose(xl): \n",
    "    return list(map(list, itertools.zip_longest(*xl)))"
   ]
  },
  {
   "cell_type": "code",
   "execution_count": 63,
   "metadata": {},
   "outputs": [],
   "source": [
    "# Feature Parser\n",
    "# @Param: dataVector: sliced original dataset, wordCountFunction: <str> -> ndarray<float>, \n",
    "# wordPOSFunction: str -> list<float>, numberOfTextFeature: 0 to shut down Text Processing (Text Features)\n",
    "# featureType: \n",
    "# @Return: tuple<ndarray, list>: xEngineered, yExtracted: rows: vector<samplePoint>, samplePoint[0->2]: basic Features, \n",
    "# samplePoint[3->162]: text, samplePoint[163->167]: extra\n",
    "def parseFeatures(dataVector, wordCountFunction, numberOfTextFeatures, featureType): \n",
    "    y = []\n",
    "    childrenFeature = []\n",
    "    controversialityFeature = []\n",
    "    isRootFeature = []\n",
    "    processedTextFeature = []\n",
    "    verbFeature = []\n",
    "    nounFeature = []\n",
    "    adjFeature = []\n",
    "    urlFeature = []\n",
    "    childAndControv = []\n",
    "    childAndisRoot = []\n",
    "    allInteracted = []\n",
    "    controvAndisRoot = []\n",
    "    identityFeature = []\n",
    "    c = 0\n",
    "    lenV = len(dataVector)\n",
    "    for dataPoint in dataVector: \n",
    "        \n",
    "        # Basic Features\n",
    "        y.append(float(dataPoint['popularity_score']))\n",
    "        if 'children' in featureType: \n",
    "            childrenFeature.append(float(dataPoint['children']))\n",
    "        if 'controv' in featureType: \n",
    "            controversialityFeature.append(float(dataPoint['controversiality']))\n",
    "        identityFeature.append(1.0)\n",
    "        isRootVar = -1.0\n",
    "        if 'isRoot' in featureType: \n",
    "            if dataPoint['is_root'] == True: \n",
    "                isRootVar = 1.0\n",
    "                isRootFeature.append(isRootVar)\n",
    "            else: \n",
    "                isRootVar = 0.0\n",
    "                isRootFeature.append(isRootVar)\n",
    "        \n",
    "        # Text Features: 0 to shut down text feature\n",
    "        if numberOfTextFeatures > 0 and 'text' in featureType: \n",
    "            processedTextFeature.append(wordCountFunction(dataPoint['text'], numberOfTextFeatures))\n",
    "        \n",
    "        # Extra Features\n",
    "        if 'noun' in featureType or 'verb' in featureType or 'adj' in featureType: \n",
    "            wordAnalysis = wordPOSCountWithStopwords(dataPoint['text'])\n",
    "        if 'verb' in featureType: \n",
    "            verbFeature.append(wordAnalysis[0])\n",
    "        if 'noun' in featureType: \n",
    "            nounFeature.append(wordAnalysis[1])\n",
    "        if 'adj' in featureType: \n",
    "            adjFeature.append(wordAnalysis[2])\n",
    "        if 'url' in featureType: \n",
    "            urlFeature.append(hasURL(dataPoint['text']))\n",
    "            \n",
    "        # Interaction Effect: \n",
    "        if 'child and controv' in featureType: \n",
    "            childAndControv.append(float(dataPoint['children']) * float(dataPoint['controversiality']))\n",
    "        if 'child and isRoot' in featureType: \n",
    "            childAndisRoot.append(float(dataPoint['children']) * isRootVar)\n",
    "        if 'all interacted' in featureType: \n",
    "            allInteracted.append(float(dataPoint['children']) * isRootVar  * float(dataPoint['controversiality']))\n",
    "        if 'controv and isRoot' in featureType: \n",
    "            controvAndisRoot.append(isRootVar  * float(dataPoint['controversiality']))\n",
    "        \n",
    "        # Process Bar\n",
    "        sys.stdout.write('\\r')\n",
    "        count = int((float(c) / float(lenV)) * 100)\n",
    "        sys.stdout.write(\"[%-20s] %d%%\" % ('='*int(count / 5), count))\n",
    "        sleep(0.001)\n",
    "        sys.stdout.flush()\n",
    "        c = c + 1\n",
    "    if len(processedTextFeature) > 0: \n",
    "        processedTextFeature = pythonListTranspose(processedTextFeature)\n",
    "    returnTotal = [childrenFeature, controversialityFeature, isRootFeature, verbFeature, nounFeature, adjFeature, urlFeature, childAndControv, childAndisRoot, allInteracted, controvAndisRoot, identityFeature] + processedTextFeature\n",
    "    return pythonListTranspose([x for x in returnTotal if len(x) > 0]), pythonListTranspose([y])"
   ]
  },
  {
   "cell_type": "code",
   "execution_count": 157,
   "metadata": {},
   "outputs": [],
   "source": [
    "def parseTransformedFeatures(dataVector, wordCountFunction, numberOfTextFeatures, featureType): \n",
    "    y = []\n",
    "    childrenFeature = []\n",
    "    controversialityFeature = []\n",
    "    isRootFeature = []\n",
    "    processedTextFeature = []\n",
    "    verbFeature = []\n",
    "    nounFeature = []\n",
    "    adjFeature = []\n",
    "    urlFeature = []\n",
    "    childAndControv = []\n",
    "    childAndisRoot = []\n",
    "    allInteracted = []\n",
    "    controvAndisRoot = []\n",
    "    identityFeature = []\n",
    "    c = 0\n",
    "    lenV = len(dataVector)\n",
    "    for dataPoint in dataVector: \n",
    "        \n",
    "        # Basic Features\n",
    "        y.append(float(dataPoint['popularity_score']))\n",
    "        if 'children' in featureType: \n",
    "            childrenFeature.append(1.0 - numpy.exp(-0.04 * float(dataPoint['children'])))\n",
    "        if 'controv' in featureType: \n",
    "            controversialityFeature.append(float(dataPoint['controversiality']))\n",
    "        identityFeature.append(1.0)\n",
    "        isRootVar = -1.0\n",
    "        if 'isRoot' in featureType: \n",
    "            if dataPoint['is_root'] == True: \n",
    "                isRootVar = 1.0\n",
    "                isRootFeature.append(isRootVar)\n",
    "            else: \n",
    "                isRootVar = 0.0\n",
    "                isRootFeature.append(isRootVar)\n",
    "        \n",
    "        # Text Features: 0 to shut down text feature\n",
    "        if numberOfTextFeatures > 0 and 'text' in featureType: \n",
    "            processedTextFeature.append([numpy.exp(-0.04 * (a)) * numpy.cos(3 * a) for a in wordCountFunction(dataPoint['text'], numberOfTextFeatures)])\n",
    "            #  \n",
    "        \n",
    "        # Extra Features\n",
    "        if 'noun' in featureType or 'verb' in featureType or 'adj' in featureType: \n",
    "            wordAnalysis = wordPOSCountWithStopwords(dataPoint['text'])\n",
    "        if 'verb' in featureType: \n",
    "            verbFeature.append(wordAnalysis[0])\n",
    "        if 'noun' in featureType: \n",
    "            nounFeature.append(wordAnalysis[1])\n",
    "        if 'adj' in featureType: \n",
    "            adjFeature.append(wordAnalysis[2])\n",
    "        if 'url' in featureType: \n",
    "            urlFeature.append(hasURL(dataPoint['text']))\n",
    "            \n",
    "        # Interaction Effect: \n",
    "        if 'child and controv' in featureType: \n",
    "            childAndControv.append(float(dataPoint['children']) * float(dataPoint['controversiality']))\n",
    "        if 'child and isRoot' in featureType: \n",
    "            childAndisRoot.append(float(dataPoint['children']) * isRootVar)\n",
    "        if 'all interacted' in featureType: \n",
    "            allInteracted.append(float(dataPoint['children']) * isRootVar * float(dataPoint['controversiality']))\n",
    "        if 'controv and isRoot' in featureType: \n",
    "            controvAndisRoot.append(isRootVar  * float(dataPoint['controversiality']))\n",
    "        \n",
    "        # Process Bar\n",
    "        sys.stdout.write('\\r')\n",
    "        count = int((float(c) / float(lenV)) * 100)\n",
    "        sys.stdout.write(\"[%-20s] %d%%\" % ('='*int(count / 5), count))\n",
    "        sleep(0.001)\n",
    "        sys.stdout.flush()\n",
    "        c = c + 1\n",
    "    \n",
    "    if len(processedTextFeature) > 0: \n",
    "        processedTextFeature = pythonListTranspose(processedTextFeature)\n",
    "        \n",
    "    returnTotal = [childrenFeature, controversialityFeature, isRootFeature, verbFeature, nounFeature, adjFeature, urlFeature, childAndControv, childAndisRoot, allInteracted, controvAndisRoot, identityFeature] + processedTextFeature\n",
    "    return pythonListTranspose([x for x in returnTotal if len(x) > 0]), pythonListTranspose([y])"
   ]
  },
  {
   "cell_type": "markdown",
   "metadata": {},
   "source": [
    "## Part 2: Regression Algorithms"
   ]
  },
  {
   "cell_type": "code",
   "execution_count": 9,
   "metadata": {},
   "outputs": [],
   "source": [
    "def meanSquareError(valX, valY, w): \n",
    "    diffenence = numpy.power(numpy.transpose(numpy.subtract(valY, numpy.matmul(valX, w)))[0], 2)\n",
    "    return numpy.divide(numpy.sum(diffenence), len(valY))"
   ]
  },
  {
   "cell_type": "code",
   "execution_count": 10,
   "metadata": {},
   "outputs": [],
   "source": [
    "def closedFormLinearRegression(x, y): \n",
    "    xT = numpy.transpose(numpy.array(x))\n",
    "    return numpy.matmul(numpy.matmul(scipy.linalg.inv(numpy.matmul(xT, numpy.array(x))), xT), numpy.array(y))"
   ]
  },
  {
   "cell_type": "code",
   "execution_count": 11,
   "metadata": {},
   "outputs": [],
   "source": [
    "def gradientDescentLinearRegression(learnRateFunction, x, y, tol): \n",
    "    i = 1\n",
    "    weight = numpy.array([[0.0] for l in range(len(x[0]))])\n",
    "    weightN = numpy.array([[0.0] for l in range(len(x[0]))])\n",
    "    xT = numpy.transpose(x)\n",
    "    xTx = numpy.matmul(xT, x)\n",
    "    xTy = numpy.matmul(xT, y)\n",
    "    while True: \n",
    "        weight = weightN\n",
    "        weightN = numpy.subtract(weight, 2 * learnRateFunction(i) * numpy.subtract(numpy.matmul(xTx, weight), xTy))\n",
    "        i = i + 1\n",
    "        if numpy.linalg.norm(numpy.subtract(weightN, weight), 2) <= tol: \n",
    "            break\n",
    "    return weightN"
   ]
  },
  {
   "cell_type": "markdown",
   "metadata": {},
   "source": [
    "## Part 3: Closed Form and Gradient Descent"
   ]
  },
  {
   "cell_type": "code",
   "execution_count": 12,
   "metadata": {},
   "outputs": [
    {
     "name": "stdout",
     "output_type": "stream",
     "text": [
      "[=================== ] 99%"
     ]
    }
   ],
   "source": [
    "trainFeatures = parseFeatures(train, lambda u, v: wordCountNaive(u, v, tFreq), 0, ['children', 'controv', 'isRoot'])\n",
    "validationFeatures = parseFeatures(validation, lambda u, v: wordCountNaive(u, v, vFreq), 0, ['children', 'controv', 'isRoot'])"
   ]
  },
  {
   "cell_type": "code",
   "execution_count": 13,
   "metadata": {},
   "outputs": [
    {
     "name": "stdout",
     "output_type": "stream",
     "text": [
      "result of closed form: \n",
      " [[ 0.37536403]\n",
      " [-1.08584747]\n",
      " [-0.22627679]\n",
      " [ 0.82092517]]\n",
      "error of closed form: \n",
      " 1.0203266848431447\n",
      "error of closed trained: \n",
      " 1.0846830709157251\n"
     ]
    }
   ],
   "source": [
    "resultClosed = closedFormLinearRegression(trainFeatures[0], trainFeatures[1])\n",
    "errorClosed = meanSquareError(validationFeatures[0], validationFeatures[1], resultClosed)\n",
    "errorTrained = meanSquareError(trainFeatures[0], trainFeatures[1], resultClosed)\n",
    "print('result of closed form: \\n', resultClosed)\n",
    "print('error of closed form: \\n', errorClosed)\n",
    "print('error of closed trained: \\n', errorTrained)"
   ]
  },
  {
   "cell_type": "code",
   "execution_count": 14,
   "metadata": {},
   "outputs": [
    {
     "name": "stdout",
     "output_type": "stream",
     "text": [
      "result of gradient descent: \n",
      " [[ 0.37533109]\n",
      " [-1.07323872]\n",
      " [-0.22619048]\n",
      " [ 0.8207526 ]]\n",
      "error of gradient descent: \n",
      " 1.020380306032347\n"
     ]
    }
   ],
   "source": [
    "resultGradient = gradientDescentLinearRegression(lambda v: float(0.0020 / (float(v) + 7.0)), trainFeatures[0], trainFeatures[1], 0.00000005)\n",
    "errorGradient = meanSquareError(validationFeatures[0], validationFeatures[1], resultGradient)\n",
    "print('result of gradient descent: \\n', resultGradient)\n",
    "print('error of gradient descent: \\n', errorGradient)"
   ]
  },
  {
   "cell_type": "markdown",
   "metadata": {},
   "source": [
    "conclusion: closed form gives less error"
   ]
  },
  {
   "cell_type": "markdown",
   "metadata": {},
   "source": [
    "## Part 3: 60 and 160 text features"
   ]
  },
  {
   "cell_type": "code",
   "execution_count": 15,
   "metadata": {},
   "outputs": [
    {
     "name": "stdout",
     "output_type": "stream",
     "text": [
      "[=================== ] 99%"
     ]
    }
   ],
   "source": [
    "tFreq = countAllFrequencyNaive(train)\n",
    "trainFeatures60 = parseFeatures(train, lambda u, v: wordCountNaive(u, v, tFreq), 60, ['children', 'controv', 'isRoot', 'text'])\n",
    "trainFeatures160 = parseFeatures(train, lambda u, v: wordCountNaive(u, v, tFreq), 160, ['children', 'controv', 'isRoot', 'text'])"
   ]
  },
  {
   "cell_type": "code",
   "execution_count": 16,
   "metadata": {},
   "outputs": [
    {
     "name": "stdout",
     "output_type": "stream",
     "text": [
      "[=================== ] 99%"
     ]
    }
   ],
   "source": [
    "vFreq = countAllFrequencyNaive(validation)\n",
    "validationFeatures60 = parseFeatures(validation, lambda u, v: wordCountNaive(u, v, tFreq), 60, ['children', 'controv', 'isRoot', 'text'])\n",
    "validationFeatures160 = parseFeatures(validation, lambda u, v: wordCountNaive(u, v, tFreq), 160, ['children', 'controv', 'isRoot', 'text'])"
   ]
  },
  {
   "cell_type": "code",
   "execution_count": 17,
   "metadata": {},
   "outputs": [
    {
     "name": "stdout",
     "output_type": "stream",
     "text": [
      "error of closed form: \n",
      " 0.9839397297217665\n",
      "error of closed trained: \n",
      " 1.060429141685383\n"
     ]
    }
   ],
   "source": [
    "resultClosed60 = closedFormLinearRegression(trainFeatures60[0], trainFeatures60[1])\n",
    "errorClosed60 = meanSquareError(validationFeatures60[0], validationFeatures60[1], resultClosed60)\n",
    "errorTrained60 = meanSquareError(trainFeatures60[0], trainFeatures60[1], resultClosed60)\n",
    "# print('result of closed form: \\n', resultClosed60)\n",
    "print('error of closed form: \\n', errorClosed60)\n",
    "print('error of closed trained: \\n', errorTrained60)"
   ]
  },
  {
   "cell_type": "code",
   "execution_count": 18,
   "metadata": {},
   "outputs": [
    {
     "name": "stdout",
     "output_type": "stream",
     "text": [
      "error of closed form: \n",
      " 0.9950693970669264\n",
      "error of closed trained: \n",
      " 1.0477763217987115\n"
     ]
    },
    {
     "data": {
      "text/plain": [
       "10000"
      ]
     },
     "execution_count": 18,
     "metadata": {},
     "output_type": "execute_result"
    }
   ],
   "source": [
    "resultClosed160 = closedFormLinearRegression(trainFeatures160[0], trainFeatures160[1])\n",
    "errorClosed160 = meanSquareError(validationFeatures160[0], validationFeatures160[1], resultClosed160)\n",
    "errorTrained160 = meanSquareError(trainFeatures160[0], trainFeatures160[1], resultClosed160)\n",
    "# print('result of closed form: \\n', resultClosed160)\n",
    "print('error of closed form: \\n', errorClosed160)\n",
    "print('error of closed trained: \\n', errorTrained160)\n",
    "len(trainFeatures160[1])"
   ]
  },
  {
   "cell_type": "markdown",
   "metadata": {},
   "source": [
    "conclusion: 60 features are better than 160, validation error larger than closed form in 160: potentially overfitting"
   ]
  },
  {
   "cell_type": "markdown",
   "metadata": {},
   "source": [
    "## Extra experiment: count word frequencies and eliminate stopwords"
   ]
  },
  {
   "cell_type": "code",
   "execution_count": 19,
   "metadata": {},
   "outputs": [
    {
     "name": "stdout",
     "output_type": "stream",
     "text": [
      "[=================== ] 99%"
     ]
    }
   ],
   "source": [
    "tFreqS = countAllFrequencyStopWord(train)\n",
    "trainFeatures60S = parseFeatures(data[:10000], lambda u, v: wordCountWithStopwords(u, v, tFreqS), 60, ['children', 'controv', 'isRoot', 'text'])\n",
    "trainFeatures160S = parseFeatures(data[:10000], lambda u, v: wordCountWithStopwords(u, v, tFreqS), 160, ['children', 'controv', 'isRoot', 'text'])"
   ]
  },
  {
   "cell_type": "code",
   "execution_count": 20,
   "metadata": {},
   "outputs": [
    {
     "name": "stdout",
     "output_type": "stream",
     "text": [
      "[=================== ] 99%"
     ]
    }
   ],
   "source": [
    "validationFeatures60S = parseFeatures(validation, lambda u, v: wordCountWithStopwords(u, v, tFreqS), 60, ['children', 'controv', 'isRoot', 'text'])\n",
    "validationFeatures160S = parseFeatures(validation, lambda u, v: wordCountWithStopwords(u, v, tFreqS), 160, ['children', 'controv', 'isRoot', 'text'])"
   ]
  },
  {
   "cell_type": "code",
   "execution_count": 21,
   "metadata": {},
   "outputs": [
    {
     "name": "stdout",
     "output_type": "stream",
     "text": [
      "error of closed form: \n",
      " 1.0160834359569333\n",
      "error of closed trained: \n",
      " 1.0690435344142226\n"
     ]
    }
   ],
   "source": [
    "resultClosed60S = closedFormLinearRegression(trainFeatures60S[0], trainFeatures60S[1])\n",
    "errorClosed60S = meanSquareError(validationFeatures60S[0], validationFeatures60S[1], resultClosed60S)\n",
    "errorTrained60S = meanSquareError(trainFeatures60S[0], trainFeatures60S[1], resultClosed60S)\n",
    "# print('result of closed form: \\n', resultClosed60S)\n",
    "print('error of closed form: \\n', errorClosed60S)\n",
    "print('error of closed trained: \\n', errorTrained60S)"
   ]
  },
  {
   "cell_type": "code",
   "execution_count": 22,
   "metadata": {},
   "outputs": [
    {
     "name": "stdout",
     "output_type": "stream",
     "text": [
      "error of closed form: \n",
      " 1.0377809673400562\n",
      "error of closed trained: \n",
      " 1.0504238189332942\n"
     ]
    },
    {
     "data": {
      "text/plain": [
       "10000"
      ]
     },
     "execution_count": 22,
     "metadata": {},
     "output_type": "execute_result"
    }
   ],
   "source": [
    "resultClosed160S = closedFormLinearRegression(trainFeatures160S[0], trainFeatures160S[1])\n",
    "errorClosed160S = meanSquareError(validationFeatures160S[0], validationFeatures160S[1], resultClosed160S)\n",
    "errorTrained160S = meanSquareError(trainFeatures160S[0], trainFeatures160S[1], resultClosed160S)\n",
    "# print('result of closed form: \\n', resultClosed160S)\n",
    "print('error of closed form: \\n', errorClosed160S)\n",
    "print('error of closed trained: \\n', errorTrained160S)\n",
    "len(trainFeatures160[1])"
   ]
  },
  {
   "cell_type": "markdown",
   "metadata": {},
   "source": [
    "conclusion: eliminating stopwords does not gives better result"
   ]
  },
  {
   "cell_type": "markdown",
   "metadata": {},
   "source": [
    "## Experimenting with new features: fraction of noun and existence of URL"
   ]
  },
  {
   "cell_type": "code",
   "execution_count": 23,
   "metadata": {},
   "outputs": [],
   "source": [
    "# word pos count, remove punc and stopwords to imporve model\n",
    "# @Param: singleText: text to process\n",
    "# @Return: vector of [verbcount, nouncount, adjcount]\n",
    "def wordPOSCountWithStopwords(singleText): \n",
    "    \n",
    "    tokenizer = RegexpTokenizer(r'\\w+')\n",
    "    withoutPunc = tokenizer.tokenize(singleText)\n",
    "    setOfStop = set(stopwords.words())\n",
    "    tagged = nltk.pos_tag([s.lower() for s in withoutPunc if s.lower() not in setOfStop])\n",
    "    \n",
    "    verbTotal, nounTotal, adjTotal = 0, 0, 0\n",
    "    counts = Counter(tag for wordType, tag in tagged)\n",
    "    totalCount = len(singleText.split())\n",
    "    \n",
    "    for key, value in counts.items(): \n",
    "        if 'NN' in key: \n",
    "            nounTotal = nounTotal + 1\n",
    "        elif 'VB' in key: \n",
    "            verbTotal = verbTotal + 1\n",
    "        elif 'JJ' in key: \n",
    "            adjTotal = adjTotal + 1\n",
    "            \n",
    "    if totalCount > 0: \n",
    "        return [float(verbTotal) / totalCount, float(nounTotal) / totalCount, float(adjTotal) / totalCount]\n",
    "    else: \n",
    "        return [0.0, 0.0, 0.0]\n",
    "# Test: \n",
    "# print(wordPOSCountWithStopwords(data[3]['text']))\n",
    "# print(data[3]['text'])\n",
    "\n",
    "\n",
    "def hasURL(text): \n",
    "    if re.match(r\"(http://[^ ]+)\", text) != None: \n",
    "        return 1.0\n",
    "    else: \n",
    "        return 0.0"
   ]
  },
  {
   "cell_type": "markdown",
   "metadata": {},
   "source": [
    "### With fraction of noun in whole words"
   ]
  },
  {
   "cell_type": "code",
   "execution_count": 24,
   "metadata": {},
   "outputs": [
    {
     "name": "stdout",
     "output_type": "stream",
     "text": [
      "[=================== ] 99%"
     ]
    }
   ],
   "source": [
    "trainMyFeatures60 = parseFeatures(train, lambda u, v: wordCountNaive(u, v, tFreq), 60, ['children', 'controv', 'isRoot', 'noun'])"
   ]
  },
  {
   "cell_type": "code",
   "execution_count": 25,
   "metadata": {},
   "outputs": [
    {
     "name": "stdout",
     "output_type": "stream",
     "text": [
      "[=================== ] 99%"
     ]
    }
   ],
   "source": [
    "# vFreq = countAllFrequencyNaive(validation)\n",
    "validationMyFeatures60 = parseFeatures(validation, lambda u, v: wordCountNaive(u, v, tFreq), 60, ['children', 'controv', 'isRoot', 'noun'])"
   ]
  },
  {
   "cell_type": "code",
   "execution_count": 26,
   "metadata": {},
   "outputs": [
    {
     "name": "stdout",
     "output_type": "stream",
     "text": [
      "error of closed form: \n",
      " 1.0205294940039473\n",
      "error of closed trained: \n",
      " 1.0846431658913824\n"
     ]
    }
   ],
   "source": [
    "resultMyClosed = closedFormLinearRegression(trainMyFeatures60[0], trainMyFeatures60[1])\n",
    "errorMyClosed = meanSquareError(validationMyFeatures60[0], validationMyFeatures60[1], resultMyClosed)\n",
    "errorMyTrained = meanSquareError(trainMyFeatures60[0], trainMyFeatures60[1], resultMyClosed)\n",
    "# print('result of closed form: \\n', resultMyClosed)\n",
    "print('error of closed form: \\n', errorMyClosed)\n",
    "print('error of closed trained: \\n', errorMyTrained)"
   ]
  },
  {
   "cell_type": "markdown",
   "metadata": {},
   "source": [
    "### With URL"
   ]
  },
  {
   "cell_type": "code",
   "execution_count": 30,
   "metadata": {},
   "outputs": [
    {
     "name": "stdout",
     "output_type": "stream",
     "text": [
      "[=================== ] 99%"
     ]
    }
   ],
   "source": [
    "trainMyFeaturesURL60 = parseFeatures(train, lambda u, v: wordCountNaive(u, v, tFreq), 60, ['children', 'controv', 'isRoot', 'url'])\n",
    "validationMyFeaturesURL60 = parseFeatures(validation, lambda u, v: wordCountNaive(u, v, tFreq), 60, ['children', 'controv', 'isRoot', 'url'])"
   ]
  },
  {
   "cell_type": "code",
   "execution_count": 31,
   "metadata": {},
   "outputs": [
    {
     "name": "stdout",
     "output_type": "stream",
     "text": [
      "error of closed form: \n",
      " 1.0206699968316335\n",
      "error of closed trained: \n",
      " 1.0846292895663272\n"
     ]
    }
   ],
   "source": [
    "resultMyClosedURL = closedFormLinearRegression(trainMyFeaturesURL60[0], trainMyFeaturesURL60[1])\n",
    "errorMyClosedURL = meanSquareError(validationMyFeaturesURL60[0], validationMyFeaturesURL60[1], resultMyClosedURL)\n",
    "errorMyTrainedURL = meanSquareError(trainMyFeaturesURL60[0], trainMyFeaturesURL60[1], resultMyClosedURL)\n",
    "# print('result of closed form: \\n', resultMyClosedURL)\n",
    "print('error of closed form: \\n', errorMyClosedURL)\n",
    "print('error of closed trained: \\n', errorMyTrainedURL)"
   ]
  },
  {
   "cell_type": "markdown",
   "metadata": {},
   "source": [
    "## With all"
   ]
  },
  {
   "cell_type": "code",
   "execution_count": 32,
   "metadata": {},
   "outputs": [
    {
     "name": "stdout",
     "output_type": "stream",
     "text": [
      "[=================== ] 99%"
     ]
    }
   ],
   "source": [
    "trainMyFeaturesALL60 = parseFeatures(train, lambda u, v: wordCountNaive(u, v, tFreq), 60, ['children', 'controv', 'isRoot', 'noun', 'url'])\n",
    "validationMyFeaturesALL60 = parseFeatures(validation, lambda u, v: wordCountNaive(u, v, tFreq), 60, ['children', 'controv', 'isRoot', 'noun', 'url'])"
   ]
  },
  {
   "cell_type": "code",
   "execution_count": 33,
   "metadata": {},
   "outputs": [
    {
     "name": "stdout",
     "output_type": "stream",
     "text": [
      "error of closed form: \n",
      " 1.0208223075830674\n",
      "error of closed trained: \n",
      " 1.084599876507505\n"
     ]
    }
   ],
   "source": [
    "resultMyClosedALL = closedFormLinearRegression(trainMyFeaturesALL60[0], trainMyFeaturesALL60[1])\n",
    "errorMyClosedALL = meanSquareError(validationMyFeaturesALL60[0], validationMyFeaturesALL60[1], resultMyClosedALL)\n",
    "errorMyTrainedALL = meanSquareError(trainMyFeaturesALL60[0], trainMyFeaturesALL60[1], resultMyClosedALL)\n",
    "# print('result of closed form: \\n', resultMyClosedALL)\n",
    "print('error of closed form: \\n', errorMyClosedALL)\n",
    "print('error of closed trained: \\n', errorMyTrainedALL)"
   ]
  },
  {
   "cell_type": "markdown",
   "metadata": {},
   "source": [
    "conclusion: adding extra features does not help with accuracy"
   ]
  },
  {
   "cell_type": "markdown",
   "metadata": {},
   "source": [
    "x4(noun) and x5(url) has no significant coefficient"
   ]
  },
  {
   "cell_type": "markdown",
   "metadata": {},
   "source": [
    "### Test of coefficient (Hastie. et, al)"
   ]
  },
  {
   "cell_type": "code",
   "execution_count": 34,
   "metadata": {},
   "outputs": [
    {
     "data": {
      "text/html": [
       "<table class=\"simpletable\">\n",
       "<caption>OLS Regression Results</caption>\n",
       "<tr>\n",
       "  <th>Dep. Variable:</th>            <td>y</td>        <th>  R-squared:         </th> <td>   0.206</td> \n",
       "</tr>\n",
       "<tr>\n",
       "  <th>Model:</th>                   <td>OLS</td>       <th>  Adj. R-squared:    </th> <td>   0.206</td> \n",
       "</tr>\n",
       "<tr>\n",
       "  <th>Method:</th>             <td>Least Squares</td>  <th>  F-statistic:       </th> <td>   518.3</td> \n",
       "</tr>\n",
       "<tr>\n",
       "  <th>Date:</th>             <td>Mon, 21 Jan 2019</td> <th>  Prob (F-statistic):</th>  <td>  0.00</td>  \n",
       "</tr>\n",
       "<tr>\n",
       "  <th>Time:</th>                 <td>15:26:42</td>     <th>  Log-Likelihood:    </th> <td> -14595.</td> \n",
       "</tr>\n",
       "<tr>\n",
       "  <th>No. Observations:</th>      <td> 10000</td>      <th>  AIC:               </th> <td>2.920e+04</td>\n",
       "</tr>\n",
       "<tr>\n",
       "  <th>Df Residuals:</th>          <td>  9994</td>      <th>  BIC:               </th> <td>2.925e+04</td>\n",
       "</tr>\n",
       "<tr>\n",
       "  <th>Df Model:</th>              <td>     5</td>      <th>                     </th>     <td> </td>    \n",
       "</tr>\n",
       "<tr>\n",
       "  <th>Covariance Type:</th>      <td>nonrobust</td>    <th>                     </th>     <td> </td>    \n",
       "</tr>\n",
       "</table>\n",
       "<table class=\"simpletable\">\n",
       "<tr>\n",
       "    <td></td>       <th>coef</th>     <th>std err</th>      <th>t</th>      <th>P>|t|</th>  <th>[0.025</th>    <th>0.975]</th>  \n",
       "</tr>\n",
       "<tr>\n",
       "  <th>x1</th>    <td>    0.3755</td> <td>    0.008</td> <td>   48.207</td> <td> 0.000</td> <td>    0.360</td> <td>    0.391</td>\n",
       "</tr>\n",
       "<tr>\n",
       "  <th>x2</th>    <td>   -1.0856</td> <td>    0.097</td> <td>  -11.195</td> <td> 0.000</td> <td>   -1.276</td> <td>   -0.896</td>\n",
       "</tr>\n",
       "<tr>\n",
       "  <th>x3</th>    <td>   -0.2272</td> <td>    0.021</td> <td>  -10.710</td> <td> 0.000</td> <td>   -0.269</td> <td>   -0.186</td>\n",
       "</tr>\n",
       "<tr>\n",
       "  <th>x4</th>    <td>    0.0246</td> <td>    0.047</td> <td>    0.521</td> <td> 0.603</td> <td>   -0.068</td> <td>    0.117</td>\n",
       "</tr>\n",
       "<tr>\n",
       "  <th>x5</th>    <td>    0.2212</td> <td>    0.350</td> <td>    0.632</td> <td> 0.528</td> <td>   -0.465</td> <td>    0.908</td>\n",
       "</tr>\n",
       "<tr>\n",
       "  <th>const</th> <td>    0.8172</td> <td>    0.016</td> <td>   51.946</td> <td> 0.000</td> <td>    0.786</td> <td>    0.848</td>\n",
       "</tr>\n",
       "</table>\n",
       "<table class=\"simpletable\">\n",
       "<tr>\n",
       "  <th>Omnibus:</th>       <td>2161.667</td> <th>  Durbin-Watson:     </th> <td>   2.022</td> \n",
       "</tr>\n",
       "<tr>\n",
       "  <th>Prob(Omnibus):</th>  <td> 0.000</td>  <th>  Jarque-Bera (JB):  </th> <td>23058.853</td>\n",
       "</tr>\n",
       "<tr>\n",
       "  <th>Skew:</th>           <td> 0.730</td>  <th>  Prob(JB):          </th> <td>    0.00</td> \n",
       "</tr>\n",
       "<tr>\n",
       "  <th>Kurtosis:</th>       <td>10.295</td>  <th>  Cond. No.          </th> <td>    49.4</td> \n",
       "</tr>\n",
       "</table><br/><br/>Warnings:<br/>[1] Standard Errors assume that the covariance matrix of the errors is correctly specified."
      ],
      "text/plain": [
       "<class 'statsmodels.iolib.summary.Summary'>\n",
       "\"\"\"\n",
       "                            OLS Regression Results                            \n",
       "==============================================================================\n",
       "Dep. Variable:                      y   R-squared:                       0.206\n",
       "Model:                            OLS   Adj. R-squared:                  0.206\n",
       "Method:                 Least Squares   F-statistic:                     518.3\n",
       "Date:                Mon, 21 Jan 2019   Prob (F-statistic):               0.00\n",
       "Time:                        15:26:42   Log-Likelihood:                -14595.\n",
       "No. Observations:               10000   AIC:                         2.920e+04\n",
       "Df Residuals:                    9994   BIC:                         2.925e+04\n",
       "Df Model:                           5                                         \n",
       "Covariance Type:            nonrobust                                         \n",
       "==============================================================================\n",
       "                 coef    std err          t      P>|t|      [0.025      0.975]\n",
       "------------------------------------------------------------------------------\n",
       "x1             0.3755      0.008     48.207      0.000       0.360       0.391\n",
       "x2            -1.0856      0.097    -11.195      0.000      -1.276      -0.896\n",
       "x3            -0.2272      0.021    -10.710      0.000      -0.269      -0.186\n",
       "x4             0.0246      0.047      0.521      0.603      -0.068       0.117\n",
       "x5             0.2212      0.350      0.632      0.528      -0.465       0.908\n",
       "const          0.8172      0.016     51.946      0.000       0.786       0.848\n",
       "==============================================================================\n",
       "Omnibus:                     2161.667   Durbin-Watson:                   2.022\n",
       "Prob(Omnibus):                  0.000   Jarque-Bera (JB):            23058.853\n",
       "Skew:                           0.730   Prob(JB):                         0.00\n",
       "Kurtosis:                      10.295   Cond. No.                         49.4\n",
       "==============================================================================\n",
       "\n",
       "Warnings:\n",
       "[1] Standard Errors assume that the covariance matrix of the errors is correctly specified.\n",
       "\"\"\""
      ]
     },
     "execution_count": 34,
     "metadata": {},
     "output_type": "execute_result"
    }
   ],
   "source": [
    "import statsmodels.api as sm\n",
    "sm.OLS(trainMyFeaturesALL60[1], trainMyFeaturesALL60[0]).fit().summary()"
   ]
  },
  {
   "cell_type": "markdown",
   "metadata": {},
   "source": [
    "### (Improved!) Interaction Effect among basic features"
   ]
  },
  {
   "cell_type": "code",
   "execution_count": 45,
   "metadata": {},
   "outputs": [
    {
     "name": "stdout",
     "output_type": "stream",
     "text": [
      "[=================== ] 99%"
     ]
    }
   ],
   "source": [
    "trainFeaturesI = parseTransformedFeatures(train, lambda u, v: wordCountNaive(u, v, tFreq), 0, ['children', 'controv', 'isRoot', 'child and controv', 'child and isRoot', 'all interacted', 'controv and isRoot'])\n",
    "validationFeaturesI = parseTransformedFeatures(validation, lambda u, v: wordCountNaive(u, v, tFreq), 0, ['children', 'controv', 'isRoot', 'child and controv', 'child and isRoot', 'all interacted', 'controv and isRoot']) "
   ]
  },
  {
   "cell_type": "code",
   "execution_count": 36,
   "metadata": {},
   "outputs": [
    {
     "name": "stdout",
     "output_type": "stream",
     "text": [
      "result of closed form: \n",
      " [[14.32482055]\n",
      " [-0.68521679]\n",
      " [-0.18567247]\n",
      " [-0.54724021]\n",
      " [-0.02352103]\n",
      " [ 0.33900498]\n",
      " [-0.32725931]\n",
      " [ 0.74635056]]\n",
      "error of closed form: \n",
      " 1.00268783014828\n",
      "error of closed trained: \n",
      " 1.042929619951173\n"
     ]
    }
   ],
   "source": [
    "resultClosedI = closedFormLinearRegression(trainFeaturesI[0], trainFeaturesI[1])\n",
    "errorClosedI = meanSquareError(validationFeaturesI[0], validationFeaturesI[1], resultClosedI)\n",
    "errorTrainedI = meanSquareError(trainFeaturesI[0], trainFeaturesI[1], resultClosedI)\n",
    "print('result of closed form: \\n', resultClosedI)\n",
    "print('error of closed form: \\n', errorClosedI)\n",
    "print('error of closed trained: \\n', errorTrainedI)"
   ]
  },
  {
   "cell_type": "markdown",
   "metadata": {},
   "source": [
    "Conclusion: use of g(x) = 1-exp(-0.04x) to transform children variable, and interact the transformed children with isRoot decreases loss"
   ]
  },
  {
   "cell_type": "code",
   "execution_count": 37,
   "metadata": {},
   "outputs": [
    {
     "data": {
      "text/html": [
       "<table class=\"simpletable\">\n",
       "<caption>OLS Regression Results</caption>\n",
       "<tr>\n",
       "  <th>Dep. Variable:</th>            <td>y</td>        <th>  R-squared:         </th> <td>   0.236</td> \n",
       "</tr>\n",
       "<tr>\n",
       "  <th>Model:</th>                   <td>OLS</td>       <th>  Adj. R-squared:    </th> <td>   0.236</td> \n",
       "</tr>\n",
       "<tr>\n",
       "  <th>Method:</th>             <td>Least Squares</td>  <th>  F-statistic:       </th> <td>   442.0</td> \n",
       "</tr>\n",
       "<tr>\n",
       "  <th>Date:</th>             <td>Mon, 21 Jan 2019</td> <th>  Prob (F-statistic):</th>  <td>  0.00</td>  \n",
       "</tr>\n",
       "<tr>\n",
       "  <th>Time:</th>                 <td>15:27:00</td>     <th>  Log-Likelihood:    </th> <td> -14400.</td> \n",
       "</tr>\n",
       "<tr>\n",
       "  <th>No. Observations:</th>      <td> 10000</td>      <th>  AIC:               </th> <td>2.882e+04</td>\n",
       "</tr>\n",
       "<tr>\n",
       "  <th>Df Residuals:</th>          <td>  9992</td>      <th>  BIC:               </th> <td>2.887e+04</td>\n",
       "</tr>\n",
       "<tr>\n",
       "  <th>Df Model:</th>              <td>     7</td>      <th>                     </th>     <td> </td>    \n",
       "</tr>\n",
       "<tr>\n",
       "  <th>Covariance Type:</th>      <td>nonrobust</td>    <th>                     </th>     <td> </td>    \n",
       "</tr>\n",
       "</table>\n",
       "<table class=\"simpletable\">\n",
       "<tr>\n",
       "    <td></td>       <th>coef</th>     <th>std err</th>      <th>t</th>      <th>P>|t|</th>  <th>[0.025</th>    <th>0.975]</th>  \n",
       "</tr>\n",
       "<tr>\n",
       "  <th>x1</th>    <td>   14.3248</td> <td>    0.355</td> <td>   40.364</td> <td> 0.000</td> <td>   13.629</td> <td>   15.020</td>\n",
       "</tr>\n",
       "<tr>\n",
       "  <th>x2</th>    <td>   -0.6852</td> <td>    0.150</td> <td>   -4.576</td> <td> 0.000</td> <td>   -0.979</td> <td>   -0.392</td>\n",
       "</tr>\n",
       "<tr>\n",
       "  <th>x3</th>    <td>   -0.1857</td> <td>    0.022</td> <td>   -8.543</td> <td> 0.000</td> <td>   -0.228</td> <td>   -0.143</td>\n",
       "</tr>\n",
       "<tr>\n",
       "  <th>x4</th>    <td>   -0.5472</td> <td>    0.113</td> <td>   -4.840</td> <td> 0.000</td> <td>   -0.769</td> <td>   -0.326</td>\n",
       "</tr>\n",
       "<tr>\n",
       "  <th>x5</th>    <td>   -0.0235</td> <td>    0.015</td> <td>   -1.600</td> <td> 0.110</td> <td>   -0.052</td> <td>    0.005</td>\n",
       "</tr>\n",
       "<tr>\n",
       "  <th>x6</th>    <td>    0.3390</td> <td>    0.260</td> <td>    1.302</td> <td> 0.193</td> <td>   -0.172</td> <td>    0.850</td>\n",
       "</tr>\n",
       "<tr>\n",
       "  <th>x7</th>    <td>   -0.3273</td> <td>    0.285</td> <td>   -1.150</td> <td> 0.250</td> <td>   -0.885</td> <td>    0.231</td>\n",
       "</tr>\n",
       "<tr>\n",
       "  <th>const</th> <td>    0.7464</td> <td>    0.015</td> <td>   50.254</td> <td> 0.000</td> <td>    0.717</td> <td>    0.775</td>\n",
       "</tr>\n",
       "</table>\n",
       "<table class=\"simpletable\">\n",
       "<tr>\n",
       "  <th>Omnibus:</th>       <td>1948.028</td> <th>  Durbin-Watson:     </th> <td>   2.023</td> \n",
       "</tr>\n",
       "<tr>\n",
       "  <th>Prob(Omnibus):</th>  <td> 0.000</td>  <th>  Jarque-Bera (JB):  </th> <td>18201.749</td>\n",
       "</tr>\n",
       "<tr>\n",
       "  <th>Skew:</th>           <td> 0.666</td>  <th>  Prob(JB):          </th> <td>    0.00</td> \n",
       "</tr>\n",
       "<tr>\n",
       "  <th>Kurtosis:</th>       <td> 9.474</td>  <th>  Cond. No.          </th> <td>    41.1</td> \n",
       "</tr>\n",
       "</table><br/><br/>Warnings:<br/>[1] Standard Errors assume that the covariance matrix of the errors is correctly specified."
      ],
      "text/plain": [
       "<class 'statsmodels.iolib.summary.Summary'>\n",
       "\"\"\"\n",
       "                            OLS Regression Results                            \n",
       "==============================================================================\n",
       "Dep. Variable:                      y   R-squared:                       0.236\n",
       "Model:                            OLS   Adj. R-squared:                  0.236\n",
       "Method:                 Least Squares   F-statistic:                     442.0\n",
       "Date:                Mon, 21 Jan 2019   Prob (F-statistic):               0.00\n",
       "Time:                        15:27:00   Log-Likelihood:                -14400.\n",
       "No. Observations:               10000   AIC:                         2.882e+04\n",
       "Df Residuals:                    9992   BIC:                         2.887e+04\n",
       "Df Model:                           7                                         \n",
       "Covariance Type:            nonrobust                                         \n",
       "==============================================================================\n",
       "                 coef    std err          t      P>|t|      [0.025      0.975]\n",
       "------------------------------------------------------------------------------\n",
       "x1            14.3248      0.355     40.364      0.000      13.629      15.020\n",
       "x2            -0.6852      0.150     -4.576      0.000      -0.979      -0.392\n",
       "x3            -0.1857      0.022     -8.543      0.000      -0.228      -0.143\n",
       "x4            -0.5472      0.113     -4.840      0.000      -0.769      -0.326\n",
       "x5            -0.0235      0.015     -1.600      0.110      -0.052       0.005\n",
       "x6             0.3390      0.260      1.302      0.193      -0.172       0.850\n",
       "x7            -0.3273      0.285     -1.150      0.250      -0.885       0.231\n",
       "const          0.7464      0.015     50.254      0.000       0.717       0.775\n",
       "==============================================================================\n",
       "Omnibus:                     1948.028   Durbin-Watson:                   2.023\n",
       "Prob(Omnibus):                  0.000   Jarque-Bera (JB):            18201.749\n",
       "Skew:                           0.666   Prob(JB):                         0.00\n",
       "Kurtosis:                       9.474   Cond. No.                         41.1\n",
       "==============================================================================\n",
       "\n",
       "Warnings:\n",
       "[1] Standard Errors assume that the covariance matrix of the errors is correctly specified.\n",
       "\"\"\""
      ]
     },
     "execution_count": 37,
     "metadata": {},
     "output_type": "execute_result"
    }
   ],
   "source": [
    "sm.OLS(trainFeaturesI[1], trainFeaturesI[0]).fit().summary()"
   ]
  },
  {
   "cell_type": "markdown",
   "metadata": {},
   "source": [
    "conclusion: interaction terms are not significant (all p-values are not smaller than 0.001)"
   ]
  },
  {
   "cell_type": "markdown",
   "metadata": {},
   "source": [
    "## Extra experiment: Forward Selection"
   ]
  },
  {
   "cell_type": "code",
   "execution_count": 158,
   "metadata": {},
   "outputs": [
    {
     "name": "stdout",
     "output_type": "stream",
     "text": [
      "[=================== ] 99%"
     ]
    }
   ],
   "source": [
    "import pandas\n",
    "trainMyFeatures60 = parseTransformedFeatures(train, lambda u, v: wordCountNaive(u, v, tFreq), 160, ['children', 'controv', 'isRoot', 'child and controv', 'text']) # , 'child and controv', 'text'\n",
    "validationMyFeatures60 = parseTransformedFeatures(validation, lambda u, v: wordCountNaive(u, v, tFreq), 160, ['children', 'controv', 'child and controv', 'isRoot', 'text'])\n",
    "testMyFeatures60 = parseTransformedFeatures(test, lambda u, v: wordCountNaive(u, v, tFreq), 160, ['children', 'controv', 'isRoot', 'child and controv', 'text'])\n",
    "# , 'noun', 'url'"
   ]
  },
  {
   "cell_type": "code",
   "execution_count": 159,
   "metadata": {},
   "outputs": [
    {
     "data": {
      "text/plain": [
       "<matplotlib.collections.PathCollection at 0x1c340c2860>"
      ]
     },
     "execution_count": 159,
     "metadata": {},
     "output_type": "execute_result"
    },
    {
     "data": {
      "image/png": "[encoded data removed]",
      "text/plain": [
       "<Figure size 432x288 with 1 Axes>"
      ]
     },
     "metadata": {},
     "output_type": "display_data"
    }
   ],
   "source": [
    "import matplotlib.pyplot as plt\n",
    "plt.scatter(numpy.transpose(trainMyFeatures60[0])[6], numpy.transpose(trainMyFeatures60[1]), alpha = 0.05)"
   ]
  },
  {
   "cell_type": "code",
   "execution_count": 160,
   "metadata": {},
   "outputs": [
    {
     "data": {
      "text/plain": [
       "((10000, 165), (1000, 165))"
      ]
     },
     "execution_count": 160,
     "metadata": {},
     "output_type": "execute_result"
    }
   ],
   "source": [
    "traindf = pandas.DataFrame(trainMyFeatures60[0])\n",
    "validationdf = pandas.DataFrame(validationMyFeatures60[0])\n",
    "traindf.shape, validationdf.shape"
   ]
  },
  {
   "cell_type": "code",
   "execution_count": 171,
   "metadata": {
    "scrolled": true
   },
   "outputs": [
    {
     "name": "stdout",
     "output_type": "stream",
     "text": [
      "[1.3059350994856351, {4}]\n",
      "[                    ] 0%[1.0305397604612563, {0, 4}]\n",
      "[                    ] 0%[1.0161384363544825, {0, 65, 4}]\n",
      "[                    ] 1%[1.001291750018422, {0, 65, 4, 1}]\n",
      "[                    ] 1%[0.9874824420910996, {0, 65, 1, 2, 4}]\n",
      "[                    ] 2%[0.9777511758368239, {0, 65, 1, 2, 4, 60}]\n",
      "[                    ] 3%[0.9688957650368968, {0, 65, 1, 2, 4, 39, 60}]\n",
      "[                    ] 3%[0.9657637233071891, {0, 65, 1, 2, 4, 39, 60, 46}]\n",
      "[                    ] 4%[0.9631352956649909, {0, 65, 1, 2, 4, 35, 39, 46, 60}]\n",
      "[                    ] 4%[0.9609256954111228, {0, 65, 1, 2, 4, 35, 97, 39, 46, 60}]\n",
      "[=                   ] 5%[0.9589844189783909, {0, 65, 1, 2, 4, 35, 97, 39, 46, 60, 94}]\n",
      "[=                   ] 6%[0.9572889023668658, {0, 65, 1, 2, 4, 35, 97, 39, 46, 121, 60, 94}]\n",
      "[=                   ] 6%[0.9555626388987557, {0, 65, 1, 2, 4, 35, 97, 39, 46, 114, 121, 60, 94}]\n",
      "[=                   ] 7%[0.9540025703303432, {0, 65, 1, 2, 4, 35, 97, 39, 46, 114, 24, 121, 60, 94}]\n",
      "[=                   ] 7%[0.9526339869974025, {0, 65, 1, 2, 4, 35, 97, 39, 103, 46, 114, 24, 121, 60, 94}]\n",
      "[=                   ] 8%[0.9512695958143151, {0, 65, 1, 2, 4, 35, 97, 39, 103, 37, 46, 114, 24, 121, 60, 94}]\n",
      "[=                   ] 9%[0.9500090724694205, {0, 65, 1, 2, 4, 24, 94, 96, 97, 35, 37, 39, 103, 46, 114, 121, 60}]\n",
      "[=                   ] 9%[0.9490319833396089, {0, 65, 1, 2, 4, 83, 24, 94, 96, 97, 35, 37, 39, 103, 46, 114, 121, 60}]\n",
      "[==                  ] 10%[0.9481029912938093, {0, 65, 1, 2, 4, 83, 24, 156, 94, 96, 97, 35, 37, 39, 103, 46, 114, 121, 60}]\n",
      "[==                  ] 10%[0.9471729897381472, {0, 65, 1, 2, 4, 83, 21, 24, 156, 94, 96, 97, 35, 37, 39, 103, 46, 114, 121, 60}]\n",
      "[==                  ] 11%[0.9463720320544681, {0, 65, 1, 2, 4, 78, 83, 21, 24, 156, 94, 96, 97, 35, 37, 39, 103, 46, 114, 121, 60}]\n",
      "[==                  ] 12%[0.9456511871145689, {0, 65, 1, 2, 4, 78, 83, 21, 24, 155, 156, 94, 96, 97, 35, 37, 39, 103, 46, 114, 121, 60}]\n",
      "[==                  ] 12%[0.9449034104075416, {0, 65, 1, 2, 4, 78, 83, 21, 24, 155, 156, 94, 96, 97, 33, 35, 37, 39, 103, 46, 114, 121, 60}]\n",
      "[==                  ] 13%[0.9441652590680469, {0, 65, 1, 2, 4, 78, 83, 21, 24, 155, 156, 27, 94, 96, 97, 33, 35, 37, 39, 103, 46, 114, 121, 60}]\n",
      "[==                  ] 13%[0.9434616246189758, {0, 65, 1, 2, 4, 78, 18, 83, 21, 24, 155, 156, 27, 94, 96, 97, 33, 35, 37, 39, 103, 46, 114, 121, 60}]\n",
      "[==                  ] 14%[0.9426878461232315, {0, 65, 1, 2, 4, 78, 18, 83, 21, 24, 155, 156, 27, 94, 96, 97, 33, 35, 37, 39, 103, 40, 46, 114, 121, 60}]\n",
      "[===                 ] 15%[0.941806228264101, {0, 65, 1, 2, 4, 78, 18, 83, 21, 22, 24, 155, 156, 27, 94, 96, 97, 33, 35, 37, 39, 103, 40, 46, 114, 121, 60}]\n",
      "[===                 ] 15%[0.9409368061648133, {0, 65, 1, 2, 4, 78, 81, 18, 83, 21, 22, 24, 155, 156, 27, 94, 96, 97, 33, 35, 37, 39, 103, 40, 46, 114, 121, 60}]\n",
      "[===                 ] 16%[0.9403326609146085, {0, 65, 1, 2, 4, 78, 81, 18, 83, 21, 22, 24, 25, 155, 156, 27, 94, 96, 97, 33, 35, 37, 39, 103, 40, 46, 114, 121, 60}]\n",
      "[===                 ] 16%[0.9397890464612201, {0, 65, 1, 2, 4, 78, 81, 18, 83, 146, 21, 22, 24, 25, 155, 156, 27, 94, 96, 97, 33, 35, 37, 39, 103, 40, 46, 114, 121, 60}]\n",
      "[===                 ] 17%[0.9393078746817053, {0, 65, 1, 2, 4, 78, 81, 18, 83, 146, 21, 22, 24, 25, 155, 156, 27, 94, 96, 97, 33, 35, 100, 37, 39, 103, 40, 46, 114, 121, 60}]\n",
      "[===                 ] 18%[0.9388214372371501, {0, 65, 1, 2, 4, 78, 81, 18, 83, 146, 21, 22, 24, 25, 155, 156, 27, 94, 96, 97, 33, 35, 100, 37, 36, 39, 103, 40, 46, 114, 121, 60}]\n",
      "[===                 ] 18%[0.9383275953155473, {0, 1, 2, 4, 142, 18, 146, 21, 22, 24, 25, 155, 156, 27, 33, 35, 36, 37, 39, 40, 46, 60, 65, 78, 81, 83, 94, 96, 97, 100, 103, 114, 121}]\n",
      "[===                 ] 19%[0.9378524042145749, {0, 1, 2, 4, 142, 18, 146, 21, 22, 24, 25, 155, 156, 27, 33, 35, 36, 37, 39, 40, 46, 53, 60, 65, 78, 81, 83, 94, 96, 97, 100, 103, 114, 121}]\n",
      "[====                ] 20%[0.9374618046399824, {0, 1, 2, 131, 4, 142, 18, 146, 21, 22, 24, 25, 155, 156, 27, 33, 35, 36, 37, 39, 40, 46, 53, 60, 65, 78, 81, 83, 94, 96, 97, 100, 103, 114, 121}]\n",
      "[====                ] 20%[0.9370294849358531, {0, 1, 2, 131, 4, 142, 18, 146, 21, 22, 24, 25, 155, 156, 27, 33, 35, 36, 37, 39, 40, 46, 53, 60, 65, 78, 81, 83, 94, 96, 97, 100, 103, 114, 120, 121}]\n",
      "[====                ] 21%[0.9366011620440249, {0, 1, 2, 131, 4, 142, 18, 146, 21, 22, 24, 25, 155, 156, 27, 33, 35, 36, 37, 39, 40, 46, 53, 60, 65, 78, 81, 83, 84, 94, 96, 97, 100, 103, 114, 120, 121}]\n",
      "[====                ] 21%[0.936233465302325, {0, 1, 2, 131, 4, 142, 18, 146, 21, 22, 24, 25, 155, 156, 27, 33, 35, 36, 37, 39, 40, 46, 53, 60, 65, 74, 78, 81, 83, 84, 94, 96, 97, 100, 103, 114, 120, 121}]\n",
      "[====                ] 22%[0.9358610042432445, {0, 1, 2, 131, 4, 142, 18, 146, 21, 22, 24, 25, 152, 155, 156, 27, 33, 35, 36, 37, 39, 40, 46, 53, 60, 65, 74, 78, 81, 83, 84, 94, 96, 97, 100, 103, 114, 120, 121}]\n",
      "[====                ] 23%[0.9354000531779241, {0, 1, 2, 131, 4, 10, 142, 18, 146, 21, 22, 24, 25, 152, 155, 156, 27, 33, 35, 36, 37, 39, 40, 46, 53, 60, 65, 74, 78, 81, 83, 84, 94, 96, 97, 100, 103, 114, 120, 121}]\n",
      "[====                ] 23%[0.9350532071251755, {0, 1, 2, 131, 4, 10, 142, 18, 146, 21, 22, 24, 25, 152, 155, 156, 27, 33, 35, 36, 37, 39, 40, 42, 46, 53, 60, 65, 74, 78, 81, 83, 84, 94, 96, 97, 100, 103, 114, 120, 121}]\n",
      "[====                ] 24%[0.9347466968615049, {0, 1, 2, 131, 4, 10, 139, 142, 18, 146, 21, 22, 24, 25, 152, 155, 156, 27, 33, 35, 36, 37, 39, 40, 42, 46, 53, 60, 65, 74, 78, 81, 83, 84, 94, 96, 97, 100, 103, 114, 120, 121}]\n",
      "[====                ] 24%[0.9344372067349258, {0, 1, 2, 131, 4, 10, 139, 142, 18, 146, 21, 22, 24, 25, 152, 155, 156, 27, 33, 35, 36, 37, 39, 40, 42, 44, 46, 53, 60, 65, 74, 78, 81, 83, 84, 94, 96, 97, 100, 103, 114, 120, 121}]\n",
      "[=====               ] 25%[0.9341855504438561, {0, 1, 2, 131, 4, 10, 139, 142, 18, 146, 21, 22, 24, 25, 152, 155, 156, 27, 33, 34, 35, 36, 37, 39, 40, 42, 44, 46, 53, 60, 65, 74, 78, 81, 83, 84, 94, 96, 97, 100, 103, 114, 120, 121}]\n",
      "[=====               ] 26%[0.9339424126783058, {0, 1, 2, 131, 4, 10, 139, 142, 18, 146, 21, 22, 24, 25, 152, 155, 156, 27, 33, 34, 35, 36, 37, 39, 40, 42, 44, 46, 53, 60, 65, 74, 78, 81, 83, 84, 93, 94, 96, 97, 100, 103, 114, 120, 121}]\n",
      "[=====               ] 26%[0.9337154106030373, {0, 1, 2, 131, 4, 10, 139, 142, 18, 146, 21, 22, 24, 25, 152, 155, 156, 27, 33, 34, 35, 36, 37, 39, 40, 42, 44, 46, 53, 56, 60, 65, 74, 78, 81, 83, 84, 93, 94, 96, 97, 100, 103, 114, 120, 121}]\n",
      "[=====               ] 27%[0.9335003569876683, {0, 1, 2, 131, 4, 10, 139, 142, 18, 146, 21, 22, 24, 25, 152, 155, 156, 27, 33, 34, 35, 36, 37, 39, 40, 42, 44, 46, 53, 56, 60, 65, 74, 75, 78, 81, 83, 84, 93, 94, 96, 97, 100, 103, 114, 120, 121}]\n",
      "[=====               ] 27%[0.9332998537926697, {0, 1, 2, 131, 4, 5, 10, 139, 142, 18, 146, 21, 22, 24, 25, 152, 155, 156, 27, 33, 34, 35, 36, 37, 39, 40, 42, 44, 46, 53, 56, 60, 65, 74, 75, 78, 81, 83, 84, 93, 94, 96, 97, 100, 103, 114, 120, 121}]\n",
      "[=====               ] 28%[0.9331014978233295, {0, 1, 2, 131, 4, 5, 10, 139, 142, 18, 146, 21, 22, 24, 25, 152, 155, 156, 27, 31, 33, 34, 35, 36, 37, 39, 40, 42, 44, 46, 53, 56, 60, 65, 74, 75, 78, 81, 83, 84, 93, 94, 96, 97, 100, 103, 114, 120, 121}]\n",
      "[=====               ] 29%[0.9329315283347025, {0, 1, 2, 131, 4, 5, 10, 139, 142, 18, 146, 21, 22, 24, 25, 152, 155, 156, 27, 31, 33, 34, 35, 36, 37, 39, 40, 42, 44, 46, 53, 56, 60, 65, 74, 75, 76, 78, 81, 83, 84, 93, 94, 96, 97, 100, 103, 114, 120, 121}]\n",
      "[=====               ] 29%[0.9327395085520388, {0, 1, 2, 131, 4, 5, 10, 139, 142, 18, 146, 21, 22, 24, 25, 152, 155, 156, 27, 31, 33, 34, 35, 36, 37, 162, 39, 40, 42, 44, 46, 53, 56, 60, 65, 74, 75, 76, 78, 81, 83, 84, 93, 94, 96, 97, 100, 103, 114, 120, 121}]\n",
      "[======              ] 30%[0.9325602156700614, {0, 1, 2, 131, 4, 5, 10, 139, 142, 14, 18, 146, 21, 22, 24, 25, 152, 155, 156, 27, 31, 33, 34, 35, 36, 37, 162, 39, 40, 42, 44, 46, 53, 56, 60, 65, 74, 75, 76, 78, 81, 83, 84, 93, 94, 96, 97, 100, 103, 114, 120, 121}]\n",
      "[======              ] 30%[0.9323955574054504, {0, 1, 2, 131, 4, 5, 10, 139, 142, 14, 18, 146, 21, 22, 24, 25, 152, 155, 156, 27, 31, 33, 34, 35, 36, 37, 162, 39, 40, 42, 44, 46, 53, 56, 59, 60, 65, 74, 75, 76, 78, 81, 83, 84, 93, 94, 96, 97, 100, 103, 114, 120, 121}]\n"
     ]
    },
    {
     "name": "stdout",
     "output_type": "stream",
     "text": [
      "[======              ] 31%[0.9322334614089227, {0, 1, 2, 131, 4, 5, 10, 139, 142, 14, 18, 146, 21, 22, 24, 25, 152, 155, 156, 27, 31, 33, 34, 35, 36, 37, 162, 39, 40, 42, 44, 46, 53, 56, 59, 60, 65, 74, 75, 76, 78, 81, 83, 84, 93, 94, 96, 97, 100, 103, 114, 120, 121, 122}]\n",
      "[======              ] 32%[0.9320834043671794, {0, 1, 2, 131, 4, 5, 10, 139, 142, 14, 15, 18, 146, 21, 22, 24, 25, 152, 155, 156, 27, 31, 33, 34, 35, 36, 37, 162, 39, 40, 42, 44, 46, 53, 56, 59, 60, 65, 74, 75, 76, 78, 81, 83, 84, 93, 94, 96, 97, 100, 103, 114, 120, 121, 122}]\n",
      "[======              ] 32%[0.931938451406691, {0, 1, 2, 131, 4, 5, 130, 10, 139, 142, 14, 15, 18, 146, 21, 22, 24, 25, 152, 155, 156, 27, 31, 33, 34, 35, 36, 37, 162, 39, 40, 42, 44, 46, 53, 56, 59, 60, 65, 74, 75, 76, 78, 81, 83, 84, 93, 94, 96, 97, 100, 103, 114, 120, 121, 122}]\n",
      "[======              ] 33%[0.9318042853623749, {0, 1, 2, 131, 4, 5, 130, 10, 139, 142, 14, 15, 18, 146, 21, 22, 24, 25, 152, 155, 156, 27, 31, 33, 34, 35, 36, 37, 162, 39, 40, 42, 44, 46, 53, 56, 59, 60, 65, 74, 75, 76, 78, 81, 83, 84, 93, 94, 96, 97, 100, 103, 114, 120, 121, 122, 123}]\n",
      "[======              ] 33%[0.9316894680423697, {0, 1, 2, 131, 4, 5, 130, 10, 139, 142, 14, 15, 18, 146, 21, 22, 24, 25, 152, 155, 156, 27, 157, 31, 33, 34, 35, 36, 37, 162, 39, 40, 42, 44, 46, 53, 56, 59, 60, 65, 74, 75, 76, 78, 81, 83, 84, 93, 94, 96, 97, 100, 103, 114, 120, 121, 122, 123}]\n",
      "[======              ] 34%[0.9315778740255731, {0, 1, 2, 131, 4, 5, 130, 10, 139, 142, 14, 15, 18, 146, 21, 22, 24, 25, 152, 155, 156, 27, 157, 31, 33, 34, 35, 36, 37, 162, 39, 40, 42, 44, 46, 53, 56, 59, 60, 62, 65, 74, 75, 76, 78, 81, 83, 84, 93, 94, 96, 97, 100, 103, 114, 120, 121, 122, 123}]\n",
      "[=======             ] 35%[0.9314766088984977, {0, 1, 2, 131, 4, 5, 130, 10, 139, 142, 14, 15, 18, 146, 21, 22, 24, 25, 152, 155, 156, 27, 157, 31, 33, 34, 35, 36, 37, 162, 39, 40, 42, 44, 46, 53, 56, 59, 60, 62, 65, 70, 74, 75, 76, 78, 81, 83, 84, 93, 94, 96, 97, 100, 103, 114, 120, 121, 122, 123}]\n",
      "[=======             ] 35%[0.931384579523398, {0, 1, 2, 131, 4, 5, 130, 10, 139, 142, 14, 15, 18, 146, 21, 22, 24, 25, 152, 155, 156, 27, 157, 31, 33, 34, 35, 36, 37, 162, 39, 40, 42, 44, 46, 53, 56, 59, 60, 62, 65, 67, 70, 74, 75, 76, 78, 81, 83, 84, 93, 94, 96, 97, 100, 103, 114, 120, 121, 122, 123}]\n",
      "[=======             ] 36%[0.9313133414082211, {0, 1, 2, 131, 4, 5, 130, 10, 139, 142, 14, 15, 18, 146, 21, 22, 24, 25, 152, 155, 156, 27, 157, 31, 33, 34, 35, 36, 37, 162, 39, 40, 42, 44, 46, 53, 56, 59, 60, 62, 65, 67, 70, 74, 75, 76, 78, 81, 83, 84, 93, 94, 96, 97, 100, 103, 114, 120, 121, 122, 123, 124}]\n",
      "[=======             ] 36%[0.9312470441550983, {0, 1, 2, 131, 4, 5, 130, 10, 139, 142, 14, 15, 18, 146, 21, 22, 24, 25, 152, 155, 156, 27, 157, 31, 159, 33, 34, 35, 36, 37, 162, 39, 40, 42, 44, 46, 53, 56, 59, 60, 62, 65, 67, 70, 74, 75, 76, 78, 81, 83, 84, 93, 94, 96, 97, 100, 103, 114, 120, 121, 122, 123, 124}]\n",
      "[=======             ] 37%[0.9311689093555615, {0, 1, 2, 131, 4, 5, 130, 10, 139, 142, 14, 15, 18, 146, 21, 22, 24, 25, 152, 155, 156, 27, 157, 31, 159, 33, 34, 35, 36, 37, 162, 39, 40, 42, 44, 46, 53, 56, 59, 60, 62, 65, 67, 70, 74, 75, 76, 78, 79, 81, 83, 84, 93, 94, 96, 97, 100, 103, 114, 120, 121, 122, 123, 124}]\n",
      "[=======             ] 38%[0.9311077155781632, {0, 1, 2, 4, 5, 10, 14, 15, 18, 21, 22, 24, 25, 27, 31, 33, 34, 35, 36, 37, 39, 40, 42, 44, 46, 53, 56, 59, 60, 62, 65, 67, 70, 74, 75, 76, 78, 79, 81, 83, 84, 93, 94, 96, 97, 100, 103, 114, 120, 121, 122, 123, 124, 130, 131, 139, 142, 146, 152, 155, 156, 157, 158, 159, 162}]\n",
      "[=======             ] 38%[0.9310572959464019, {0, 1, 2, 4, 5, 10, 14, 15, 18, 21, 22, 24, 25, 27, 31, 33, 34, 35, 36, 37, 39, 40, 42, 44, 46, 53, 56, 59, 60, 62, 65, 67, 70, 74, 75, 76, 78, 79, 81, 83, 84, 93, 94, 96, 97, 100, 103, 114, 120, 121, 122, 123, 124, 130, 131, 134, 139, 142, 146, 152, 155, 156, 157, 158, 159, 162}]\n",
      "[=======             ] 39%[0.9310213297104437, {0, 1, 2, 4, 5, 10, 14, 15, 18, 21, 22, 24, 25, 27, 31, 33, 34, 35, 36, 37, 39, 40, 42, 44, 46, 53, 55, 56, 59, 60, 62, 65, 67, 70, 74, 75, 76, 78, 79, 81, 83, 84, 93, 94, 96, 97, 100, 103, 114, 120, 121, 122, 123, 124, 130, 131, 134, 139, 142, 146, 152, 155, 156, 157, 158, 159, 162}]\n",
      "[========            ] 40%[0.9309845121251246, {0, 1, 2, 4, 5, 10, 14, 15, 18, 21, 22, 24, 25, 27, 31, 33, 34, 35, 36, 37, 39, 40, 42, 44, 46, 53, 55, 56, 59, 60, 62, 65, 67, 70, 74, 75, 76, 78, 79, 81, 82, 83, 84, 93, 94, 96, 97, 100, 103, 114, 120, 121, 122, 123, 124, 130, 131, 134, 139, 142, 146, 152, 155, 156, 157, 158, 159, 162}]\n",
      "[========            ] 40%[0.9309562053161498, {0, 1, 2, 4, 5, 10, 14, 15, 18, 21, 22, 24, 25, 27, 31, 33, 34, 35, 36, 37, 39, 40, 42, 44, 46, 53, 55, 56, 59, 60, 62, 65, 67, 70, 74, 75, 76, 78, 79, 81, 82, 83, 84, 93, 94, 96, 97, 100, 103, 108, 114, 120, 121, 122, 123, 124, 130, 131, 134, 139, 142, 146, 152, 155, 156, 157, 158, 159, 162}]\n",
      "[========            ] 41%[0.9309347399766357, {0, 1, 2, 4, 5, 10, 14, 15, 18, 21, 22, 24, 25, 27, 31, 33, 34, 35, 36, 37, 39, 40, 42, 44, 46, 53, 55, 56, 59, 60, 62, 65, 67, 70, 74, 75, 76, 78, 79, 81, 82, 83, 84, 89, 93, 94, 96, 97, 100, 103, 108, 114, 120, 121, 122, 123, 124, 130, 131, 134, 139, 142, 146, 152, 155, 156, 157, 158, 159, 162}]\n",
      "[========            ] 41%[0.930919993373881, {0, 1, 2, 4, 5, 10, 14, 15, 18, 21, 22, 24, 25, 27, 31, 33, 34, 35, 36, 37, 39, 40, 42, 44, 46, 49, 53, 55, 56, 59, 60, 62, 65, 67, 70, 74, 75, 76, 78, 79, 81, 82, 83, 84, 89, 93, 94, 96, 97, 100, 103, 108, 114, 120, 121, 122, 123, 124, 130, 131, 134, 139, 142, 146, 152, 155, 156, 157, 158, 159, 162}]\n",
      "[========            ] 42%[0.9309081760246921, {0, 1, 2, 4, 5, 10, 14, 15, 18, 21, 22, 24, 25, 27, 31, 33, 34, 35, 36, 37, 39, 40, 42, 44, 46, 49, 53, 55, 56, 59, 60, 62, 65, 67, 70, 74, 75, 76, 78, 79, 81, 82, 83, 84, 89, 93, 94, 96, 97, 100, 103, 108, 114, 120, 121, 122, 123, 124, 130, 131, 134, 139, 142, 143, 146, 152, 155, 156, 157, 158, 159, 162}]\n",
      "[========            ] 43%[0.9309073299415948, {0, 1, 2, 4, 5, 10, 14, 15, 18, 21, 22, 24, 25, 27, 31, 33, 34, 35, 36, 37, 39, 40, 42, 44, 46, 48, 49, 53, 55, 56, 59, 60, 62, 65, 67, 70, 74, 75, 76, 78, 79, 81, 82, 83, 84, 89, 93, 94, 96, 97, 100, 103, 108, 114, 120, 121, 122, 123, 124, 130, 131, 134, 139, 142, 143, 146, 152, 155, 156, 157, 158, 159, 162}]\n",
      "[========            ] 43%[0.9309131228601032, {0, 1, 2, 4, 5, 10, 14, 15, 18, 21, 22, 24, 25, 27, 31, 33, 34, 35, 36, 37, 39, 40, 42, 44, 46, 48, 49, 53, 55, 56, 59, 60, 62, 65, 67, 70, 74, 75, 76, 78, 79, 81, 82, 83, 84, 89, 93, 94, 96, 97, 100, 103, 108, 110, 114, 120, 121, 122, 123, 124, 130, 131, 134, 139, 142, 143, 146, 152, 155, 156, 157, 158, 159, 162}]\n",
      "[========            ] 44%[0.9309192420291069, {0, 1, 2, 4, 5, 10, 14, 15, 18, 21, 22, 24, 25, 27, 31, 33, 34, 35, 36, 37, 39, 40, 42, 44, 46, 48, 49, 52, 53, 55, 56, 59, 60, 62, 65, 67, 70, 74, 75, 76, 78, 79, 81, 82, 83, 84, 89, 93, 94, 96, 97, 100, 103, 108, 110, 114, 120, 121, 122, 123, 124, 130, 131, 134, 139, 142, 143, 146, 152, 155, 156, 157, 158, 159, 162}]\n",
      "[========            ] 44%[0.9309279568662587, {0, 1, 2, 4, 5, 10, 14, 15, 18, 21, 22, 24, 25, 27, 31, 33, 34, 35, 36, 37, 39, 40, 42, 44, 46, 48, 49, 52, 53, 55, 56, 59, 60, 62, 65, 67, 70, 74, 75, 76, 78, 79, 81, 82, 83, 84, 89, 93, 94, 96, 97, 100, 103, 108, 110, 114, 120, 121, 122, 123, 124, 125, 130, 131, 134, 139, 142, 143, 146, 152, 155, 156, 157, 158, 159, 162}]\n",
      "[=========           ] 45%[0.9309302438913346, {0, 1, 2, 4, 5, 10, 14, 15, 18, 21, 22, 24, 25, 27, 31, 33, 34, 35, 36, 37, 39, 40, 42, 44, 46, 48, 49, 52, 53, 55, 56, 59, 60, 62, 65, 67, 70, 74, 75, 76, 78, 79, 81, 82, 83, 84, 89, 93, 94, 96, 97, 100, 103, 107, 108, 110, 114, 120, 121, 122, 123, 124, 125, 130, 131, 134, 139, 142, 143, 146, 152, 155, 156, 157, 158, 159, 162}]\n",
      "[=========           ] 46%[0.9309374514192656, {0, 1, 2, 4, 5, 10, 14, 15, 18, 21, 22, 24, 25, 27, 31, 33, 34, 35, 36, 37, 39, 40, 42, 44, 46, 48, 49, 52, 53, 55, 56, 59, 60, 62, 65, 67, 70, 74, 75, 76, 78, 79, 81, 82, 83, 84, 89, 93, 94, 96, 97, 100, 103, 107, 108, 110, 114, 120, 121, 122, 123, 124, 125, 130, 131, 134, 139, 141, 142, 143, 146, 152, 155, 156, 157, 158, 159, 162}]\n"
     ]
    },
    {
     "name": "stdout",
     "output_type": "stream",
     "text": [
      "[=========           ] 46%[0.9309391661954018, {0, 1, 2, 4, 5, 10, 14, 15, 18, 21, 22, 24, 25, 27, 31, 33, 34, 35, 36, 37, 39, 40, 41, 42, 44, 46, 48, 49, 52, 53, 55, 56, 59, 60, 62, 65, 67, 70, 74, 75, 76, 78, 79, 81, 82, 83, 84, 89, 93, 94, 96, 97, 100, 103, 107, 108, 110, 114, 120, 121, 122, 123, 124, 125, 130, 131, 134, 139, 141, 142, 143, 146, 152, 155, 156, 157, 158, 159, 162}]\n",
      "[=========           ] 47%[0.9309576162661211, {0, 1, 2, 4, 5, 10, 12, 14, 15, 18, 21, 22, 24, 25, 27, 31, 33, 34, 35, 36, 37, 39, 40, 41, 42, 44, 46, 48, 49, 52, 53, 55, 56, 59, 60, 62, 65, 67, 70, 74, 75, 76, 78, 79, 81, 82, 83, 84, 89, 93, 94, 96, 97, 100, 103, 107, 108, 110, 114, 120, 121, 122, 123, 124, 125, 130, 131, 134, 139, 141, 142, 143, 146, 152, 155, 156, 157, 158, 159, 162}]\n",
      "[=========           ] 47%[0.9309758567787824, {0, 1, 2, 4, 5, 10, 12, 14, 15, 18, 21, 22, 24, 25, 27, 31, 33, 34, 35, 36, 37, 39, 40, 41, 42, 44, 46, 48, 49, 52, 53, 55, 56, 59, 60, 62, 65, 67, 70, 74, 75, 76, 78, 79, 81, 82, 83, 84, 89, 93, 94, 96, 97, 100, 103, 107, 108, 110, 114, 120, 121, 122, 123, 124, 125, 130, 131, 134, 138, 139, 141, 142, 143, 146, 152, 155, 156, 157, 158, 159, 162}]\n",
      "[=========           ] 48%[0.9310005085224882, {0, 1, 2, 4, 5, 10, 12, 14, 15, 18, 21, 22, 24, 25, 27, 31, 33, 34, 35, 36, 37, 39, 40, 41, 42, 44, 46, 48, 49, 52, 53, 55, 56, 59, 60, 62, 65, 67, 70, 74, 75, 76, 78, 79, 81, 82, 83, 84, 89, 93, 94, 96, 97, 100, 103, 107, 108, 110, 114, 120, 121, 122, 123, 124, 125, 129, 130, 131, 134, 138, 139, 141, 142, 143, 146, 152, 155, 156, 157, 158, 159, 162}]\n",
      "[=========           ] 49%[0.9310229736151509, {0, 1, 2, 4, 5, 10, 12, 14, 15, 18, 21, 22, 24, 25, 27, 31, 33, 34, 35, 36, 37, 39, 40, 41, 42, 44, 46, 48, 49, 52, 53, 55, 56, 59, 60, 62, 65, 67, 70, 74, 75, 76, 78, 79, 81, 82, 83, 84, 89, 93, 94, 96, 97, 100, 103, 107, 108, 110, 114, 117, 120, 121, 122, 123, 124, 125, 129, 130, 131, 134, 138, 139, 141, 142, 143, 146, 152, 155, 156, 157, 158, 159, 162}]\n",
      "[=========           ] 49%[0.931043633132489, {0, 1, 2, 4, 5, 10, 12, 14, 15, 18, 21, 22, 24, 25, 27, 31, 33, 34, 35, 36, 37, 39, 40, 41, 42, 44, 46, 48, 49, 52, 53, 55, 56, 59, 60, 62, 65, 67, 70, 74, 75, 76, 78, 79, 81, 82, 83, 84, 89, 93, 94, 96, 97, 100, 103, 107, 108, 110, 114, 117, 120, 121, 122, 123, 124, 125, 129, 130, 131, 134, 138, 139, 141, 142, 143, 145, 146, 152, 155, 156, 157, 158, 159, 162}]\n",
      "[==========          ] 50%[0.9310629839896133, {0, 1, 2, 4, 5, 10, 12, 14, 15, 18, 21, 22, 24, 25, 27, 31, 33, 34, 35, 36, 37, 39, 40, 41, 42, 44, 46, 48, 49, 52, 53, 55, 56, 59, 60, 62, 65, 67, 70, 74, 75, 76, 78, 79, 81, 82, 83, 84, 89, 93, 94, 96, 97, 100, 101, 103, 107, 108, 110, 114, 117, 120, 121, 122, 123, 124, 125, 129, 130, 131, 134, 138, 139, 141, 142, 143, 145, 146, 152, 155, 156, 157, 158, 159, 162}]\n",
      "[==========          ] 50%[0.9311006898824327, {0, 1, 2, 4, 5, 10, 12, 14, 15, 18, 21, 22, 24, 25, 27, 29, 31, 33, 34, 35, 36, 37, 39, 40, 41, 42, 44, 46, 48, 49, 52, 53, 55, 56, 59, 60, 62, 65, 67, 70, 74, 75, 76, 78, 79, 81, 82, 83, 84, 89, 93, 94, 96, 97, 100, 101, 103, 107, 108, 110, 114, 117, 120, 121, 122, 123, 124, 125, 129, 130, 131, 134, 138, 139, 141, 142, 143, 145, 146, 152, 155, 156, 157, 158, 159, 162}]\n",
      "[==========          ] 51%[0.9311409346135183, {0, 1, 2, 4, 5, 10, 12, 14, 15, 18, 21, 22, 24, 25, 27, 29, 31, 33, 34, 35, 36, 37, 39, 40, 41, 42, 44, 46, 48, 49, 52, 53, 55, 56, 59, 60, 62, 65, 67, 70, 74, 75, 76, 78, 79, 81, 82, 83, 84, 89, 93, 94, 96, 97, 100, 101, 103, 107, 108, 110, 114, 117, 120, 121, 122, 123, 124, 125, 129, 130, 131, 134, 138, 139, 141, 142, 143, 145, 146, 152, 155, 156, 157, 158, 159, 162, 164}]\n",
      "[==========          ] 52%[0.9311927653934787, {0, 1, 2, 4, 5, 10, 12, 14, 15, 18, 21, 22, 24, 25, 27, 29, 31, 33, 34, 35, 36, 37, 39, 40, 41, 42, 44, 46, 48, 49, 52, 53, 55, 56, 59, 60, 62, 65, 67, 70, 74, 75, 76, 78, 79, 81, 82, 83, 84, 89, 93, 94, 96, 97, 98, 100, 101, 103, 107, 108, 110, 114, 117, 120, 121, 122, 123, 124, 125, 129, 130, 131, 134, 138, 139, 141, 142, 143, 145, 146, 152, 155, 156, 157, 158, 159, 162, 164}]\n",
      "[==========          ] 52%[0.9312384863804937, {0, 1, 2, 4, 5, 10, 12, 14, 15, 18, 21, 22, 24, 25, 27, 29, 31, 33, 34, 35, 36, 37, 39, 40, 41, 42, 44, 46, 48, 49, 52, 53, 55, 56, 59, 60, 62, 65, 67, 70, 74, 75, 76, 78, 79, 81, 82, 83, 84, 89, 93, 94, 96, 97, 98, 100, 101, 103, 107, 108, 110, 114, 117, 120, 121, 122, 123, 124, 125, 129, 130, 131, 134, 138, 139, 141, 142, 143, 145, 146, 148, 152, 155, 156, 157, 158, 159, 162, 164}]\n",
      "[==========          ] 53%[0.9312999362783952, {0, 1, 2, 4, 5, 10, 12, 14, 15, 18, 21, 22, 24, 25, 27, 29, 31, 33, 34, 35, 36, 37, 39, 40, 41, 42, 44, 46, 48, 49, 52, 53, 55, 56, 59, 60, 62, 65, 67, 70, 74, 75, 76, 78, 79, 81, 82, 83, 84, 89, 93, 94, 96, 97, 98, 100, 101, 103, 107, 108, 110, 112, 114, 117, 120, 121, 122, 123, 124, 125, 129, 130, 131, 134, 138, 139, 141, 142, 143, 145, 146, 148, 152, 155, 156, 157, 158, 159, 162, 164}]\n",
      "[==========          ] 53%[0.9313743321877685, {0, 1, 2, 4, 5, 10, 12, 14, 15, 18, 21, 22, 24, 25, 27, 29, 31, 33, 34, 35, 36, 37, 39, 40, 41, 42, 44, 46, 48, 49, 52, 53, 55, 56, 59, 60, 62, 65, 67, 70, 72, 74, 75, 76, 78, 79, 81, 82, 83, 84, 89, 93, 94, 96, 97, 98, 100, 101, 103, 107, 108, 110, 112, 114, 117, 120, 121, 122, 123, 124, 125, 129, 130, 131, 134, 138, 139, 141, 142, 143, 145, 146, 148, 152, 155, 156, 157, 158, 159, 162, 164}]\n",
      "[==========          ] 54%[0.9314360345750695, {0, 1, 2, 4, 5, 10, 12, 14, 15, 18, 21, 22, 24, 25, 27, 29, 31, 33, 34, 35, 36, 37, 39, 40, 41, 42, 44, 46, 48, 49, 52, 53, 55, 56, 59, 60, 62, 65, 66, 67, 70, 72, 74, 75, 76, 78, 79, 81, 82, 83, 84, 89, 93, 94, 96, 97, 98, 100, 101, 103, 107, 108, 110, 112, 114, 117, 120, 121, 122, 123, 124, 125, 129, 130, 131, 134, 138, 139, 141, 142, 143, 145, 146, 148, 152, 155, 156, 157, 158, 159, 162, 164}]\n",
      "[===========         ] 55%[0.9315117722201468, {0, 1, 2, 4, 5, 10, 12, 14, 15, 16, 18, 21, 22, 24, 25, 27, 29, 31, 33, 34, 35, 36, 37, 39, 40, 41, 42, 44, 46, 48, 49, 52, 53, 55, 56, 59, 60, 62, 65, 66, 67, 70, 72, 74, 75, 76, 78, 79, 81, 82, 83, 84, 89, 93, 94, 96, 97, 98, 100, 101, 103, 107, 108, 110, 112, 114, 117, 120, 121, 122, 123, 124, 125, 129, 130, 131, 134, 138, 139, 141, 142, 143, 145, 146, 148, 152, 155, 156, 157, 158, 159, 162, 164}]\n",
      "[===========         ] 55%[0.931541307768623, {0, 1, 2, 4, 5, 10, 12, 14, 15, 16, 18, 21, 22, 24, 25, 27, 29, 31, 33, 34, 35, 36, 37, 39, 40, 41, 42, 44, 46, 48, 49, 52, 53, 55, 56, 57, 59, 60, 62, 65, 66, 67, 70, 72, 74, 75, 76, 78, 79, 81, 82, 83, 84, 89, 93, 94, 96, 97, 98, 100, 101, 103, 107, 108, 110, 112, 114, 117, 120, 121, 122, 123, 124, 125, 129, 130, 131, 134, 138, 139, 141, 142, 143, 145, 146, 148, 152, 155, 156, 157, 158, 159, 162, 164}]\n",
      "[===========         ] 56%[0.9315999991669309, {0, 1, 2, 4, 5, 10, 12, 14, 15, 16, 18, 21, 22, 24, 25, 27, 29, 31, 33, 34, 35, 36, 37, 39, 40, 41, 42, 44, 46, 48, 49, 52, 53, 55, 56, 57, 59, 60, 62, 65, 66, 67, 70, 72, 74, 75, 76, 78, 79, 81, 82, 83, 84, 89, 93, 94, 96, 97, 98, 100, 101, 103, 107, 108, 110, 112, 114, 117, 120, 121, 122, 123, 124, 125, 129, 130, 131, 134, 138, 139, 141, 142, 143, 145, 146, 148, 149, 152, 155, 156, 157, 158, 159, 162, 164}]\n",
      "[===========         ] 56%[0.9316952637184996, {0, 1, 2, 4, 5, 10, 12, 14, 15, 16, 18, 21, 22, 24, 25, 27, 29, 31, 33, 34, 35, 36, 37, 39, 40, 41, 42, 44, 46, 48, 49, 52, 53, 55, 56, 57, 59, 60, 62, 65, 66, 67, 70, 72, 74, 75, 76, 78, 79, 81, 82, 83, 84, 86, 89, 93, 94, 96, 97, 98, 100, 101, 103, 107, 108, 110, 112, 114, 117, 120, 121, 122, 123, 124, 125, 129, 130, 131, 134, 138, 139, 141, 142, 143, 145, 146, 148, 149, 152, 155, 156, 157, 158, 159, 162, 164}]\n",
      "[===========         ] 57%[0.9318168975056248, {0, 1, 2, 4, 5, 10, 12, 14, 15, 16, 18, 21, 22, 24, 25, 27, 29, 31, 33, 34, 35, 36, 37, 39, 40, 41, 42, 44, 46, 48, 49, 52, 53, 55, 56, 57, 59, 60, 62, 65, 66, 67, 70, 72, 74, 75, 76, 78, 79, 81, 82, 83, 84, 86, 89, 90, 93, 94, 96, 97, 98, 100, 101, 103, 107, 108, 110, 112, 114, 117, 120, 121, 122, 123, 124, 125, 129, 130, 131, 134, 138, 139, 141, 142, 143, 145, 146, 148, 149, 152, 155, 156, 157, 158, 159, 162, 164}]\n",
      "[===========         ] 58%[0.9319387168293256, {0, 1, 2, 4, 5, 10, 12, 14, 15, 16, 18, 21, 22, 24, 25, 27, 29, 31, 33, 34, 35, 36, 37, 39, 40, 41, 42, 44, 46, 48, 49, 52, 53, 55, 56, 57, 59, 60, 62, 65, 66, 67, 70, 72, 74, 75, 76, 78, 79, 81, 82, 83, 84, 86, 89, 90, 93, 94, 96, 97, 98, 100, 101, 103, 107, 108, 110, 112, 114, 117, 118, 120, 121, 122, 123, 124, 125, 129, 130, 131, 134, 138, 139, 141, 142, 143, 145, 146, 148, 149, 152, 155, 156, 157, 158, 159, 162, 164}]\n"
     ]
    },
    {
     "name": "stdout",
     "output_type": "stream",
     "text": [
      "[===========         ] 58%[0.9320702201622704, {0, 1, 2, 4, 5, 8, 10, 12, 14, 15, 16, 18, 21, 22, 24, 25, 27, 29, 31, 33, 34, 35, 36, 37, 39, 40, 41, 42, 44, 46, 48, 49, 52, 53, 55, 56, 57, 59, 60, 62, 65, 66, 67, 70, 72, 74, 75, 76, 78, 79, 81, 82, 83, 84, 86, 89, 90, 93, 94, 96, 97, 98, 100, 101, 103, 107, 108, 110, 112, 114, 117, 118, 120, 121, 122, 123, 124, 125, 129, 130, 131, 134, 138, 139, 141, 142, 143, 145, 146, 148, 149, 152, 155, 156, 157, 158, 159, 162, 164}]\n",
      "[===========         ] 59%[0.9322028048431247, {0, 1, 2, 4, 5, 8, 10, 12, 14, 15, 16, 18, 21, 22, 24, 25, 27, 29, 31, 33, 34, 35, 36, 37, 39, 40, 41, 42, 44, 46, 48, 49, 52, 53, 54, 55, 56, 57, 59, 60, 62, 65, 66, 67, 70, 72, 74, 75, 76, 78, 79, 81, 82, 83, 84, 86, 89, 90, 93, 94, 96, 97, 98, 100, 101, 103, 107, 108, 110, 112, 114, 117, 118, 120, 121, 122, 123, 124, 125, 129, 130, 131, 134, 138, 139, 141, 142, 143, 145, 146, 148, 149, 152, 155, 156, 157, 158, 159, 162, 164}]\n",
      "[============        ] 60%[0.9323411282429713, {0, 1, 2, 4, 5, 8, 10, 12, 14, 15, 16, 18, 21, 22, 24, 25, 27, 29, 31, 33, 34, 35, 36, 37, 39, 40, 41, 42, 44, 46, 48, 49, 52, 53, 54, 55, 56, 57, 59, 60, 62, 65, 66, 67, 70, 72, 74, 75, 76, 78, 79, 81, 82, 83, 84, 86, 89, 90, 93, 94, 96, 97, 98, 100, 101, 103, 107, 108, 110, 112, 114, 116, 117, 118, 120, 121, 122, 123, 124, 125, 129, 130, 131, 134, 138, 139, 141, 142, 143, 145, 146, 148, 149, 152, 155, 156, 157, 158, 159, 162, 164}]\n",
      "[============        ] 60%[0.9325139711529347, {0, 1, 2, 4, 5, 8, 10, 12, 14, 15, 16, 18, 21, 22, 24, 25, 27, 29, 31, 33, 34, 35, 36, 37, 39, 40, 41, 42, 44, 46, 48, 49, 52, 53, 54, 55, 56, 57, 59, 60, 61, 62, 65, 66, 67, 70, 72, 74, 75, 76, 78, 79, 81, 82, 83, 84, 86, 89, 90, 93, 94, 96, 97, 98, 100, 101, 103, 107, 108, 110, 112, 114, 116, 117, 118, 120, 121, 122, 123, 124, 125, 129, 130, 131, 134, 138, 139, 141, 142, 143, 145, 146, 148, 149, 152, 155, 156, 157, 158, 159, 162, 164}]\n",
      "[============        ] 61%[0.9327067495387176, {0, 1, 2, 4, 5, 8, 10, 12, 14, 15, 16, 18, 21, 22, 24, 25, 27, 29, 31, 33, 34, 35, 36, 37, 39, 40, 41, 42, 44, 46, 48, 49, 52, 53, 54, 55, 56, 57, 59, 60, 61, 62, 65, 66, 67, 70, 72, 74, 75, 76, 78, 79, 81, 82, 83, 84, 86, 89, 90, 91, 93, 94, 96, 97, 98, 100, 101, 103, 107, 108, 110, 112, 114, 116, 117, 118, 120, 121, 122, 123, 124, 125, 129, 130, 131, 134, 138, 139, 141, 142, 143, 145, 146, 148, 149, 152, 155, 156, 157, 158, 159, 162, 164}]\n",
      "[============        ] 61%[0.9328675639419681, {0, 1, 2, 4, 5, 8, 10, 12, 14, 15, 16, 18, 21, 22, 24, 25, 27, 29, 31, 33, 34, 35, 36, 37, 39, 40, 41, 42, 44, 46, 48, 49, 52, 53, 54, 55, 56, 57, 59, 60, 61, 62, 65, 66, 67, 70, 72, 74, 75, 76, 78, 79, 81, 82, 83, 84, 86, 89, 90, 91, 93, 94, 96, 97, 98, 100, 101, 103, 104, 107, 108, 110, 112, 114, 116, 117, 118, 120, 121, 122, 123, 124, 125, 129, 130, 131, 134, 138, 139, 141, 142, 143, 145, 146, 148, 149, 152, 155, 156, 157, 158, 159, 162, 164}]\n",
      "[============        ] 62%[0.9330627291836882, {0, 1, 2, 4, 5, 8, 10, 12, 14, 15, 16, 18, 21, 22, 24, 25, 27, 29, 31, 33, 34, 35, 36, 37, 39, 40, 41, 42, 44, 46, 48, 49, 52, 53, 54, 55, 56, 57, 59, 60, 61, 62, 65, 66, 67, 70, 72, 74, 75, 76, 78, 79, 81, 82, 83, 84, 86, 89, 90, 91, 93, 94, 96, 97, 98, 100, 101, 103, 104, 107, 108, 110, 112, 114, 116, 117, 118, 120, 121, 122, 123, 124, 125, 129, 130, 131, 134, 138, 139, 141, 142, 143, 145, 146, 148, 149, 150, 152, 155, 156, 157, 158, 159, 162, 164}]\n",
      "[============        ] 63%[0.9332467941630701, {0, 1, 2, 4, 5, 8, 9, 10, 12, 14, 15, 16, 18, 21, 22, 24, 25, 27, 29, 31, 33, 34, 35, 36, 37, 39, 40, 41, 42, 44, 46, 48, 49, 52, 53, 54, 55, 56, 57, 59, 60, 61, 62, 65, 66, 67, 70, 72, 74, 75, 76, 78, 79, 81, 82, 83, 84, 86, 89, 90, 91, 93, 94, 96, 97, 98, 100, 101, 103, 104, 107, 108, 110, 112, 114, 116, 117, 118, 120, 121, 122, 123, 124, 125, 129, 130, 131, 134, 138, 139, 141, 142, 143, 145, 146, 148, 149, 150, 152, 155, 156, 157, 158, 159, 162, 164}]\n",
      "[============        ] 63%[0.9334659779803028, {0, 1, 2, 4, 5, 8, 9, 10, 12, 14, 15, 16, 18, 21, 22, 24, 25, 27, 29, 31, 33, 34, 35, 36, 37, 39, 40, 41, 42, 44, 46, 48, 49, 52, 53, 54, 55, 56, 57, 59, 60, 61, 62, 65, 66, 67, 70, 72, 74, 75, 76, 78, 79, 81, 82, 83, 84, 86, 88, 89, 90, 91, 93, 94, 96, 97, 98, 100, 101, 103, 104, 107, 108, 110, 112, 114, 116, 117, 118, 120, 121, 122, 123, 124, 125, 129, 130, 131, 134, 138, 139, 141, 142, 143, 145, 146, 148, 149, 150, 152, 155, 156, 157, 158, 159, 162, 164}]\n",
      "[============        ] 64%[0.9336751030895681, {0, 1, 2, 4, 5, 8, 9, 10, 12, 14, 15, 16, 18, 21, 22, 24, 25, 27, 29, 31, 33, 34, 35, 36, 37, 39, 40, 41, 42, 44, 46, 48, 49, 52, 53, 54, 55, 56, 57, 59, 60, 61, 62, 65, 66, 67, 70, 72, 73, 74, 75, 76, 78, 79, 81, 82, 83, 84, 86, 88, 89, 90, 91, 93, 94, 96, 97, 98, 100, 101, 103, 104, 107, 108, 110, 112, 114, 116, 117, 118, 120, 121, 122, 123, 124, 125, 129, 130, 131, 134, 138, 139, 141, 142, 143, 145, 146, 148, 149, 150, 152, 155, 156, 157, 158, 159, 162, 164}]\n",
      "[============        ] 64%[0.933918718516162, {0, 1, 2, 4, 5, 8, 9, 10, 12, 14, 15, 16, 18, 21, 22, 24, 25, 27, 29, 31, 33, 34, 35, 36, 37, 39, 40, 41, 42, 44, 46, 48, 49, 52, 53, 54, 55, 56, 57, 59, 60, 61, 62, 65, 66, 67, 70, 71, 72, 73, 74, 75, 76, 78, 79, 81, 82, 83, 84, 86, 88, 89, 90, 91, 93, 94, 96, 97, 98, 100, 101, 103, 104, 107, 108, 110, 112, 114, 116, 117, 118, 120, 121, 122, 123, 124, 125, 129, 130, 131, 134, 138, 139, 141, 142, 143, 145, 146, 148, 149, 150, 152, 155, 156, 157, 158, 159, 162, 164}]\n",
      "[=============       ] 65%[0.9341313000821913, {0, 1, 2, 4, 5, 8, 9, 10, 12, 14, 15, 16, 18, 21, 22, 24, 25, 27, 29, 31, 33, 34, 35, 36, 37, 39, 40, 41, 42, 44, 46, 48, 49, 52, 53, 54, 55, 56, 57, 59, 60, 61, 62, 65, 66, 67, 70, 71, 72, 73, 74, 75, 76, 78, 79, 81, 82, 83, 84, 86, 88, 89, 90, 91, 93, 94, 96, 97, 98, 100, 101, 103, 104, 107, 108, 110, 112, 114, 116, 117, 118, 120, 121, 122, 123, 124, 125, 129, 130, 131, 134, 137, 138, 139, 141, 142, 143, 145, 146, 148, 149, 150, 152, 155, 156, 157, 158, 159, 162, 164}]\n",
      "[=============       ] 66%[0.9343163737389536, {0, 1, 2, 4, 5, 8, 9, 10, 12, 14, 15, 16, 18, 21, 22, 24, 25, 27, 29, 31, 33, 34, 35, 36, 37, 39, 40, 41, 42, 44, 46, 48, 49, 52, 53, 54, 55, 56, 57, 59, 60, 61, 62, 64, 65, 66, 67, 70, 71, 72, 73, 74, 75, 76, 78, 79, 81, 82, 83, 84, 86, 88, 89, 90, 91, 93, 94, 96, 97, 98, 100, 101, 103, 104, 107, 108, 110, 112, 114, 116, 117, 118, 120, 121, 122, 123, 124, 125, 129, 130, 131, 134, 137, 138, 139, 141, 142, 143, 145, 146, 148, 149, 150, 152, 155, 156, 157, 158, 159, 162, 164}]\n",
      "[=============       ] 66%[0.934538660232038, {0, 1, 2, 4, 5, 8, 9, 10, 12, 14, 15, 16, 18, 21, 22, 24, 25, 27, 29, 31, 33, 34, 35, 36, 37, 39, 40, 41, 42, 44, 46, 48, 49, 52, 53, 54, 55, 56, 57, 59, 60, 61, 62, 64, 65, 66, 67, 70, 71, 72, 73, 74, 75, 76, 78, 79, 81, 82, 83, 84, 86, 88, 89, 90, 91, 93, 94, 95, 96, 97, 98, 100, 101, 103, 104, 107, 108, 110, 112, 114, 116, 117, 118, 120, 121, 122, 123, 124, 125, 129, 130, 131, 134, 137, 138, 139, 141, 142, 143, 145, 146, 148, 149, 150, 152, 155, 156, 157, 158, 159, 162, 164}]\n",
      "[=============       ] 67%[0.9347824139521363, {0, 1, 2, 4, 5, 8, 9, 10, 12, 14, 15, 16, 18, 21, 22, 24, 25, 27, 29, 31, 33, 34, 35, 36, 37, 38, 39, 40, 41, 42, 44, 46, 48, 49, 52, 53, 54, 55, 56, 57, 59, 60, 61, 62, 64, 65, 66, 67, 70, 71, 72, 73, 74, 75, 76, 78, 79, 81, 82, 83, 84, 86, 88, 89, 90, 91, 93, 94, 95, 96, 97, 98, 100, 101, 103, 104, 107, 108, 110, 112, 114, 116, 117, 118, 120, 121, 122, 123, 124, 125, 129, 130, 131, 134, 137, 138, 139, 141, 142, 143, 145, 146, 148, 149, 150, 152, 155, 156, 157, 158, 159, 162, 164}]\n",
      "[=============       ] 67%[0.9350321493047463, {0, 1, 2, 4, 5, 8, 9, 10, 12, 14, 15, 16, 18, 21, 22, 24, 25, 27, 29, 31, 33, 34, 35, 36, 37, 38, 39, 40, 41, 42, 44, 46, 48, 49, 52, 53, 54, 55, 56, 57, 59, 60, 61, 62, 64, 65, 66, 67, 70, 71, 72, 73, 74, 75, 76, 78, 79, 81, 82, 83, 84, 86, 88, 89, 90, 91, 93, 94, 95, 96, 97, 98, 99, 100, 101, 103, 104, 107, 108, 110, 112, 114, 116, 117, 118, 120, 121, 122, 123, 124, 125, 129, 130, 131, 134, 137, 138, 139, 141, 142, 143, 145, 146, 148, 149, 150, 152, 155, 156, 157, 158, 159, 162, 164}]\n",
      "[=============       ] 68%[0.9352737624153774, {0, 1, 2, 4, 5, 8, 9, 10, 12, 14, 15, 16, 18, 21, 22, 24, 25, 27, 29, 31, 33, 34, 35, 36, 37, 38, 39, 40, 41, 42, 44, 46, 48, 49, 52, 53, 54, 55, 56, 57, 59, 60, 61, 62, 64, 65, 66, 67, 70, 71, 72, 73, 74, 75, 76, 78, 79, 81, 82, 83, 84, 86, 88, 89, 90, 91, 93, 94, 95, 96, 97, 98, 99, 100, 101, 103, 104, 107, 108, 110, 112, 114, 116, 117, 118, 120, 121, 122, 123, 124, 125, 129, 130, 131, 132, 134, 137, 138, 139, 141, 142, 143, 145, 146, 148, 149, 150, 152, 155, 156, 157, 158, 159, 162, 164}]\n"
     ]
    },
    {
     "name": "stdout",
     "output_type": "stream",
     "text": [
      "[=============       ] 69%[0.935500771997567, {0, 1, 2, 4, 5, 8, 9, 10, 12, 14, 15, 16, 18, 21, 22, 24, 25, 27, 29, 31, 33, 34, 35, 36, 37, 38, 39, 40, 41, 42, 44, 46, 48, 49, 52, 53, 54, 55, 56, 57, 59, 60, 61, 62, 64, 65, 66, 67, 70, 71, 72, 73, 74, 75, 76, 78, 79, 81, 82, 83, 84, 86, 88, 89, 90, 91, 93, 94, 95, 96, 97, 98, 99, 100, 101, 102, 103, 104, 107, 108, 110, 112, 114, 116, 117, 118, 120, 121, 122, 123, 124, 125, 129, 130, 131, 132, 134, 137, 138, 139, 141, 142, 143, 145, 146, 148, 149, 150, 152, 155, 156, 157, 158, 159, 162, 164}]\n",
      "[=============       ] 69%[0.9358116928389657, {0, 1, 2, 4, 5, 8, 9, 10, 12, 14, 15, 16, 18, 21, 22, 24, 25, 27, 29, 31, 33, 34, 35, 36, 37, 38, 39, 40, 41, 42, 43, 44, 46, 48, 49, 52, 53, 54, 55, 56, 57, 59, 60, 61, 62, 64, 65, 66, 67, 70, 71, 72, 73, 74, 75, 76, 78, 79, 81, 82, 83, 84, 86, 88, 89, 90, 91, 93, 94, 95, 96, 97, 98, 99, 100, 101, 102, 103, 104, 107, 108, 110, 112, 114, 116, 117, 118, 120, 121, 122, 123, 124, 125, 129, 130, 131, 132, 134, 137, 138, 139, 141, 142, 143, 145, 146, 148, 149, 150, 152, 155, 156, 157, 158, 159, 162, 164}]\n",
      "[==============      ] 70%[0.9361652522154281, {0, 1, 2, 4, 5, 8, 9, 10, 11, 12, 14, 15, 16, 18, 21, 22, 24, 25, 27, 29, 31, 33, 34, 35, 36, 37, 38, 39, 40, 41, 42, 43, 44, 46, 48, 49, 52, 53, 54, 55, 56, 57, 59, 60, 61, 62, 64, 65, 66, 67, 70, 71, 72, 73, 74, 75, 76, 78, 79, 81, 82, 83, 84, 86, 88, 89, 90, 91, 93, 94, 95, 96, 97, 98, 99, 100, 101, 102, 103, 104, 107, 108, 110, 112, 114, 116, 117, 118, 120, 121, 122, 123, 124, 125, 129, 130, 131, 132, 134, 137, 138, 139, 141, 142, 143, 145, 146, 148, 149, 150, 152, 155, 156, 157, 158, 159, 162, 164}]\n",
      "[==============      ] 70%[0.9364700268926565, {0, 1, 2, 4, 5, 8, 9, 10, 11, 12, 14, 15, 16, 18, 21, 22, 24, 25, 27, 29, 31, 33, 34, 35, 36, 37, 38, 39, 40, 41, 42, 43, 44, 46, 48, 49, 52, 53, 54, 55, 56, 57, 59, 60, 61, 62, 64, 65, 66, 67, 70, 71, 72, 73, 74, 75, 76, 78, 79, 81, 82, 83, 84, 86, 88, 89, 90, 91, 93, 94, 95, 96, 97, 98, 99, 100, 101, 102, 103, 104, 107, 108, 110, 112, 114, 116, 117, 118, 120, 121, 122, 123, 124, 125, 129, 130, 131, 132, 134, 137, 138, 139, 140, 141, 142, 143, 145, 146, 148, 149, 150, 152, 155, 156, 157, 158, 159, 162, 164}]\n",
      "[==============      ] 71%[0.936819135047893, {0, 1, 2, 4, 5, 8, 9, 10, 11, 12, 14, 15, 16, 18, 20, 21, 22, 24, 25, 27, 29, 31, 33, 34, 35, 36, 37, 38, 39, 40, 41, 42, 43, 44, 46, 48, 49, 52, 53, 54, 55, 56, 57, 59, 60, 61, 62, 64, 65, 66, 67, 70, 71, 72, 73, 74, 75, 76, 78, 79, 81, 82, 83, 84, 86, 88, 89, 90, 91, 93, 94, 95, 96, 97, 98, 99, 100, 101, 102, 103, 104, 107, 108, 110, 112, 114, 116, 117, 118, 120, 121, 122, 123, 124, 125, 129, 130, 131, 132, 134, 137, 138, 139, 140, 141, 142, 143, 145, 146, 148, 149, 150, 152, 155, 156, 157, 158, 159, 162, 164}]\n",
      "[==============      ] 72%[0.9371655725823345, {0, 1, 2, 4, 5, 8, 9, 10, 11, 12, 14, 15, 16, 18, 20, 21, 22, 24, 25, 27, 29, 31, 32, 33, 34, 35, 36, 37, 38, 39, 40, 41, 42, 43, 44, 46, 48, 49, 52, 53, 54, 55, 56, 57, 59, 60, 61, 62, 64, 65, 66, 67, 70, 71, 72, 73, 74, 75, 76, 78, 79, 81, 82, 83, 84, 86, 88, 89, 90, 91, 93, 94, 95, 96, 97, 98, 99, 100, 101, 102, 103, 104, 107, 108, 110, 112, 114, 116, 117, 118, 120, 121, 122, 123, 124, 125, 129, 130, 131, 132, 134, 137, 138, 139, 140, 141, 142, 143, 145, 146, 148, 149, 150, 152, 155, 156, 157, 158, 159, 162, 164}]\n",
      "[==============      ] 72%[0.9375344468807302, {0, 1, 2, 4, 5, 8, 9, 10, 11, 12, 14, 15, 16, 18, 20, 21, 22, 24, 25, 27, 29, 31, 32, 33, 34, 35, 36, 37, 38, 39, 40, 41, 42, 43, 44, 46, 48, 49, 52, 53, 54, 55, 56, 57, 59, 60, 61, 62, 64, 65, 66, 67, 70, 71, 72, 73, 74, 75, 76, 78, 79, 81, 82, 83, 84, 86, 88, 89, 90, 91, 93, 94, 95, 96, 97, 98, 99, 100, 101, 102, 103, 104, 107, 108, 110, 112, 114, 116, 117, 118, 120, 121, 122, 123, 124, 125, 126, 129, 130, 131, 132, 134, 137, 138, 139, 140, 141, 142, 143, 145, 146, 148, 149, 150, 152, 155, 156, 157, 158, 159, 162, 164}]\n",
      "[==============      ] 73%[0.9379174799715063, {0, 1, 2, 4, 5, 7, 8, 9, 10, 11, 12, 14, 15, 16, 18, 20, 21, 22, 24, 25, 27, 29, 31, 32, 33, 34, 35, 36, 37, 38, 39, 40, 41, 42, 43, 44, 46, 48, 49, 52, 53, 54, 55, 56, 57, 59, 60, 61, 62, 64, 65, 66, 67, 70, 71, 72, 73, 74, 75, 76, 78, 79, 81, 82, 83, 84, 86, 88, 89, 90, 91, 93, 94, 95, 96, 97, 98, 99, 100, 101, 102, 103, 104, 107, 108, 110, 112, 114, 116, 117, 118, 120, 121, 122, 123, 124, 125, 126, 129, 130, 131, 132, 134, 137, 138, 139, 140, 141, 142, 143, 145, 146, 148, 149, 150, 152, 155, 156, 157, 158, 159, 162, 164}]\n",
      "[==============      ] 73%[0.9382938535633696, {0, 1, 2, 4, 5, 7, 8, 9, 10, 11, 12, 14, 15, 16, 18, 20, 21, 22, 24, 25, 27, 29, 31, 32, 33, 34, 35, 36, 37, 38, 39, 40, 41, 42, 43, 44, 46, 48, 49, 52, 53, 54, 55, 56, 57, 59, 60, 61, 62, 64, 65, 66, 67, 70, 71, 72, 73, 74, 75, 76, 78, 79, 81, 82, 83, 84, 86, 88, 89, 90, 91, 93, 94, 95, 96, 97, 98, 99, 100, 101, 102, 103, 104, 107, 108, 110, 112, 114, 116, 117, 118, 120, 121, 122, 123, 124, 125, 126, 129, 130, 131, 132, 134, 137, 138, 139, 140, 141, 142, 143, 145, 146, 148, 149, 150, 152, 153, 155, 156, 157, 158, 159, 162, 164}]\n",
      "[==============      ] 74%[0.938548565227585, {0, 1, 2, 4, 5, 7, 8, 9, 10, 11, 12, 14, 15, 16, 18, 20, 21, 22, 24, 25, 27, 29, 31, 32, 33, 34, 35, 36, 37, 38, 39, 40, 41, 42, 43, 44, 46, 48, 49, 52, 53, 54, 55, 56, 57, 59, 60, 61, 62, 64, 65, 66, 67, 70, 71, 72, 73, 74, 75, 76, 78, 79, 81, 82, 83, 84, 86, 88, 89, 90, 91, 93, 94, 95, 96, 97, 98, 99, 100, 101, 102, 103, 104, 107, 108, 110, 112, 114, 116, 117, 118, 120, 121, 122, 123, 124, 125, 126, 129, 130, 131, 132, 134, 137, 138, 139, 140, 141, 142, 143, 145, 146, 148, 149, 150, 152, 153, 154, 155, 156, 157, 158, 159, 162, 164}]\n",
      "[===============     ] 75%[0.9388622249381315, {0, 1, 2, 4, 5, 7, 8, 9, 10, 11, 12, 14, 15, 16, 18, 20, 21, 22, 24, 25, 27, 29, 31, 32, 33, 34, 35, 36, 37, 38, 39, 40, 41, 42, 43, 44, 46, 48, 49, 52, 53, 54, 55, 56, 57, 59, 60, 61, 62, 64, 65, 66, 67, 70, 71, 72, 73, 74, 75, 76, 78, 79, 81, 82, 83, 84, 86, 88, 89, 90, 91, 93, 94, 95, 96, 97, 98, 99, 100, 101, 102, 103, 104, 107, 108, 110, 112, 114, 116, 117, 118, 120, 121, 122, 123, 124, 125, 126, 128, 129, 130, 131, 132, 134, 137, 138, 139, 140, 141, 142, 143, 145, 146, 148, 149, 150, 152, 153, 154, 155, 156, 157, 158, 159, 162, 164}]\n",
      "[===============     ] 75%[0.9391739039375646, {0, 1, 2, 4, 5, 6, 7, 8, 9, 10, 11, 12, 14, 15, 16, 18, 20, 21, 22, 24, 25, 27, 29, 31, 32, 33, 34, 35, 36, 37, 38, 39, 40, 41, 42, 43, 44, 46, 48, 49, 52, 53, 54, 55, 56, 57, 59, 60, 61, 62, 64, 65, 66, 67, 70, 71, 72, 73, 74, 75, 76, 78, 79, 81, 82, 83, 84, 86, 88, 89, 90, 91, 93, 94, 95, 96, 97, 98, 99, 100, 101, 102, 103, 104, 107, 108, 110, 112, 114, 116, 117, 118, 120, 121, 122, 123, 124, 125, 126, 128, 129, 130, 131, 132, 134, 137, 138, 139, 140, 141, 142, 143, 145, 146, 148, 149, 150, 152, 153, 154, 155, 156, 157, 158, 159, 162, 164}]\n",
      "[===============     ] 76%[0.9394521041492923, {0, 1, 2, 4, 5, 6, 7, 8, 9, 10, 11, 12, 14, 15, 16, 18, 20, 21, 22, 24, 25, 27, 29, 31, 32, 33, 34, 35, 36, 37, 38, 39, 40, 41, 42, 43, 44, 46, 48, 49, 52, 53, 54, 55, 56, 57, 59, 60, 61, 62, 64, 65, 66, 67, 70, 71, 72, 73, 74, 75, 76, 78, 79, 81, 82, 83, 84, 86, 88, 89, 90, 91, 93, 94, 95, 96, 97, 98, 99, 100, 101, 102, 103, 104, 107, 108, 110, 112, 114, 116, 117, 118, 120, 121, 122, 123, 124, 125, 126, 127, 128, 129, 130, 131, 132, 134, 137, 138, 139, 140, 141, 142, 143, 145, 146, 148, 149, 150, 152, 153, 154, 155, 156, 157, 158, 159, 162, 164}]\n",
      "[===============     ] 76%[0.9398260054233933, {0, 1, 2, 4, 5, 6, 7, 8, 9, 10, 11, 12, 14, 15, 16, 18, 20, 21, 22, 24, 25, 27, 29, 31, 32, 33, 34, 35, 36, 37, 38, 39, 40, 41, 42, 43, 44, 46, 48, 49, 52, 53, 54, 55, 56, 57, 59, 60, 61, 62, 64, 65, 66, 67, 70, 71, 72, 73, 74, 75, 76, 78, 79, 81, 82, 83, 84, 86, 88, 89, 90, 91, 93, 94, 95, 96, 97, 98, 99, 100, 101, 102, 103, 104, 106, 107, 108, 110, 112, 114, 116, 117, 118, 120, 121, 122, 123, 124, 125, 126, 127, 128, 129, 130, 131, 132, 134, 137, 138, 139, 140, 141, 142, 143, 145, 146, 148, 149, 150, 152, 153, 154, 155, 156, 157, 158, 159, 162, 164}]\n",
      "[===============     ] 77%[0.9402140710449133, {0, 1, 2, 4, 5, 6, 7, 8, 9, 10, 11, 12, 14, 15, 16, 18, 20, 21, 22, 24, 25, 27, 29, 31, 32, 33, 34, 35, 36, 37, 38, 39, 40, 41, 42, 43, 44, 45, 46, 48, 49, 52, 53, 54, 55, 56, 57, 59, 60, 61, 62, 64, 65, 66, 67, 70, 71, 72, 73, 74, 75, 76, 78, 79, 81, 82, 83, 84, 86, 88, 89, 90, 91, 93, 94, 95, 96, 97, 98, 99, 100, 101, 102, 103, 104, 106, 107, 108, 110, 112, 114, 116, 117, 118, 120, 121, 122, 123, 124, 125, 126, 127, 128, 129, 130, 131, 132, 134, 137, 138, 139, 140, 141, 142, 143, 145, 146, 148, 149, 150, 152, 153, 154, 155, 156, 157, 158, 159, 162, 164}]\n"
     ]
    },
    {
     "name": "stdout",
     "output_type": "stream",
     "text": [
      "[===============     ] 78%[0.9406142653146944, {0, 1, 2, 4, 5, 6, 7, 8, 9, 10, 11, 12, 14, 15, 16, 18, 20, 21, 22, 24, 25, 27, 29, 31, 32, 33, 34, 35, 36, 37, 38, 39, 40, 41, 42, 43, 44, 45, 46, 48, 49, 52, 53, 54, 55, 56, 57, 59, 60, 61, 62, 64, 65, 66, 67, 70, 71, 72, 73, 74, 75, 76, 78, 79, 81, 82, 83, 84, 86, 87, 88, 89, 90, 91, 93, 94, 95, 96, 97, 98, 99, 100, 101, 102, 103, 104, 106, 107, 108, 110, 112, 114, 116, 117, 118, 120, 121, 122, 123, 124, 125, 126, 127, 128, 129, 130, 131, 132, 134, 137, 138, 139, 140, 141, 142, 143, 145, 146, 148, 149, 150, 152, 153, 154, 155, 156, 157, 158, 159, 162, 164}]\n",
      "[===============     ] 78%[0.9409658838945217, {0, 1, 2, 4, 5, 6, 7, 8, 9, 10, 11, 12, 14, 15, 16, 18, 20, 21, 22, 24, 25, 27, 29, 31, 32, 33, 34, 35, 36, 37, 38, 39, 40, 41, 42, 43, 44, 45, 46, 48, 49, 52, 53, 54, 55, 56, 57, 58, 59, 60, 61, 62, 64, 65, 66, 67, 70, 71, 72, 73, 74, 75, 76, 78, 79, 81, 82, 83, 84, 86, 87, 88, 89, 90, 91, 93, 94, 95, 96, 97, 98, 99, 100, 101, 102, 103, 104, 106, 107, 108, 110, 112, 114, 116, 117, 118, 120, 121, 122, 123, 124, 125, 126, 127, 128, 129, 130, 131, 132, 134, 137, 138, 139, 140, 141, 142, 143, 145, 146, 148, 149, 150, 152, 153, 154, 155, 156, 157, 158, 159, 162, 164}]\n",
      "[===============     ] 79%[0.9413651445854226, {0, 1, 2, 4, 5, 6, 7, 8, 9, 10, 11, 12, 14, 15, 16, 18, 20, 21, 22, 24, 25, 27, 29, 31, 32, 33, 34, 35, 36, 37, 38, 39, 40, 41, 42, 43, 44, 45, 46, 48, 49, 51, 52, 53, 54, 55, 56, 57, 58, 59, 60, 61, 62, 64, 65, 66, 67, 70, 71, 72, 73, 74, 75, 76, 78, 79, 81, 82, 83, 84, 86, 87, 88, 89, 90, 91, 93, 94, 95, 96, 97, 98, 99, 100, 101, 102, 103, 104, 106, 107, 108, 110, 112, 114, 116, 117, 118, 120, 121, 122, 123, 124, 125, 126, 127, 128, 129, 130, 131, 132, 134, 137, 138, 139, 140, 141, 142, 143, 145, 146, 148, 149, 150, 152, 153, 154, 155, 156, 157, 158, 159, 162, 164}]\n",
      "[================    ] 80%[0.9417938179237024, {0, 1, 2, 4, 5, 6, 7, 8, 9, 10, 11, 12, 14, 15, 16, 18, 20, 21, 22, 24, 25, 27, 29, 31, 32, 33, 34, 35, 36, 37, 38, 39, 40, 41, 42, 43, 44, 45, 46, 48, 49, 51, 52, 53, 54, 55, 56, 57, 58, 59, 60, 61, 62, 64, 65, 66, 67, 70, 71, 72, 73, 74, 75, 76, 78, 79, 81, 82, 83, 84, 86, 87, 88, 89, 90, 91, 93, 94, 95, 96, 97, 98, 99, 100, 101, 102, 103, 104, 106, 107, 108, 110, 112, 114, 116, 117, 118, 120, 121, 122, 123, 124, 125, 126, 127, 128, 129, 130, 131, 132, 134, 135, 137, 138, 139, 140, 141, 142, 143, 145, 146, 148, 149, 150, 152, 153, 154, 155, 156, 157, 158, 159, 162, 164}]\n",
      "[================    ] 80%[0.9422323146034483, {0, 1, 2, 4, 5, 6, 7, 8, 9, 10, 11, 12, 14, 15, 16, 17, 18, 20, 21, 22, 24, 25, 27, 29, 31, 32, 33, 34, 35, 36, 37, 38, 39, 40, 41, 42, 43, 44, 45, 46, 48, 49, 51, 52, 53, 54, 55, 56, 57, 58, 59, 60, 61, 62, 64, 65, 66, 67, 70, 71, 72, 73, 74, 75, 76, 78, 79, 81, 82, 83, 84, 86, 87, 88, 89, 90, 91, 93, 94, 95, 96, 97, 98, 99, 100, 101, 102, 103, 104, 106, 107, 108, 110, 112, 114, 116, 117, 118, 120, 121, 122, 123, 124, 125, 126, 127, 128, 129, 130, 131, 132, 134, 135, 137, 138, 139, 140, 141, 142, 143, 145, 146, 148, 149, 150, 152, 153, 154, 155, 156, 157, 158, 159, 162, 164}]\n",
      "[================    ] 81%[0.9426840495675515, {0, 1, 2, 4, 5, 6, 7, 8, 9, 10, 11, 12, 14, 15, 16, 17, 18, 20, 21, 22, 24, 25, 27, 28, 29, 31, 32, 33, 34, 35, 36, 37, 38, 39, 40, 41, 42, 43, 44, 45, 46, 48, 49, 51, 52, 53, 54, 55, 56, 57, 58, 59, 60, 61, 62, 64, 65, 66, 67, 70, 71, 72, 73, 74, 75, 76, 78, 79, 81, 82, 83, 84, 86, 87, 88, 89, 90, 91, 93, 94, 95, 96, 97, 98, 99, 100, 101, 102, 103, 104, 106, 107, 108, 110, 112, 114, 116, 117, 118, 120, 121, 122, 123, 124, 125, 126, 127, 128, 129, 130, 131, 132, 134, 135, 137, 138, 139, 140, 141, 142, 143, 145, 146, 148, 149, 150, 152, 153, 154, 155, 156, 157, 158, 159, 162, 164}]\n",
      "[================    ] 81%[0.9431410372356759, {0, 1, 2, 4, 5, 6, 7, 8, 9, 10, 11, 12, 14, 15, 16, 17, 18, 20, 21, 22, 24, 25, 27, 28, 29, 31, 32, 33, 34, 35, 36, 37, 38, 39, 40, 41, 42, 43, 44, 45, 46, 48, 49, 51, 52, 53, 54, 55, 56, 57, 58, 59, 60, 61, 62, 64, 65, 66, 67, 70, 71, 72, 73, 74, 75, 76, 78, 79, 81, 82, 83, 84, 86, 87, 88, 89, 90, 91, 93, 94, 95, 96, 97, 98, 99, 100, 101, 102, 103, 104, 106, 107, 108, 110, 112, 114, 115, 116, 117, 118, 120, 121, 122, 123, 124, 125, 126, 127, 128, 129, 130, 131, 132, 134, 135, 137, 138, 139, 140, 141, 142, 143, 145, 146, 148, 149, 150, 152, 153, 154, 155, 156, 157, 158, 159, 162, 164}]\n",
      "[================    ] 82%[0.9436276993767025, {0, 1, 2, 4, 5, 6, 7, 8, 9, 10, 11, 12, 14, 15, 16, 17, 18, 20, 21, 22, 24, 25, 27, 28, 29, 31, 32, 33, 34, 35, 36, 37, 38, 39, 40, 41, 42, 43, 44, 45, 46, 48, 49, 51, 52, 53, 54, 55, 56, 57, 58, 59, 60, 61, 62, 64, 65, 66, 67, 70, 71, 72, 73, 74, 75, 76, 78, 79, 81, 82, 83, 84, 86, 87, 88, 89, 90, 91, 92, 93, 94, 95, 96, 97, 98, 99, 100, 101, 102, 103, 104, 106, 107, 108, 110, 112, 114, 115, 116, 117, 118, 120, 121, 122, 123, 124, 125, 126, 127, 128, 129, 130, 131, 132, 134, 135, 137, 138, 139, 140, 141, 142, 143, 145, 146, 148, 149, 150, 152, 153, 154, 155, 156, 157, 158, 159, 162, 164}]\n",
      "[================    ] 83%[0.9442226318042324, {0, 1, 2, 4, 5, 6, 7, 8, 9, 10, 11, 12, 14, 15, 16, 17, 18, 20, 21, 22, 23, 24, 25, 27, 28, 29, 31, 32, 33, 34, 35, 36, 37, 38, 39, 40, 41, 42, 43, 44, 45, 46, 48, 49, 51, 52, 53, 54, 55, 56, 57, 58, 59, 60, 61, 62, 64, 65, 66, 67, 70, 71, 72, 73, 74, 75, 76, 78, 79, 81, 82, 83, 84, 86, 87, 88, 89, 90, 91, 92, 93, 94, 95, 96, 97, 98, 99, 100, 101, 102, 103, 104, 106, 107, 108, 110, 112, 114, 115, 116, 117, 118, 120, 121, 122, 123, 124, 125, 126, 127, 128, 129, 130, 131, 132, 134, 135, 137, 138, 139, 140, 141, 142, 143, 145, 146, 148, 149, 150, 152, 153, 154, 155, 156, 157, 158, 159, 162, 164}]\n",
      "[================    ] 83%[0.9448141932455085, {0, 1, 2, 4, 5, 6, 7, 8, 9, 10, 11, 12, 14, 15, 16, 17, 18, 20, 21, 22, 23, 24, 25, 27, 28, 29, 31, 32, 33, 34, 35, 36, 37, 38, 39, 40, 41, 42, 43, 44, 45, 46, 48, 49, 51, 52, 53, 54, 55, 56, 57, 58, 59, 60, 61, 62, 64, 65, 66, 67, 70, 71, 72, 73, 74, 75, 76, 77, 78, 79, 81, 82, 83, 84, 86, 87, 88, 89, 90, 91, 92, 93, 94, 95, 96, 97, 98, 99, 100, 101, 102, 103, 104, 106, 107, 108, 110, 112, 114, 115, 116, 117, 118, 120, 121, 122, 123, 124, 125, 126, 127, 128, 129, 130, 131, 132, 134, 135, 137, 138, 139, 140, 141, 142, 143, 145, 146, 148, 149, 150, 152, 153, 154, 155, 156, 157, 158, 159, 162, 164}]\n",
      "[================    ] 84%[0.9454294270087549, {0, 1, 2, 4, 5, 6, 7, 8, 9, 10, 11, 12, 14, 15, 16, 17, 18, 20, 21, 22, 23, 24, 25, 27, 28, 29, 31, 32, 33, 34, 35, 36, 37, 38, 39, 40, 41, 42, 43, 44, 45, 46, 48, 49, 51, 52, 53, 54, 55, 56, 57, 58, 59, 60, 61, 62, 64, 65, 66, 67, 70, 71, 72, 73, 74, 75, 76, 77, 78, 79, 81, 82, 83, 84, 85, 86, 87, 88, 89, 90, 91, 92, 93, 94, 95, 96, 97, 98, 99, 100, 101, 102, 103, 104, 106, 107, 108, 110, 112, 114, 115, 116, 117, 118, 120, 121, 122, 123, 124, 125, 126, 127, 128, 129, 130, 131, 132, 134, 135, 137, 138, 139, 140, 141, 142, 143, 145, 146, 148, 149, 150, 152, 153, 154, 155, 156, 157, 158, 159, 162, 164}]\n",
      "[================    ] 84%[0.9460196287720057, {0, 1, 2, 4, 5, 6, 7, 8, 9, 10, 11, 12, 14, 15, 16, 17, 18, 20, 21, 22, 23, 24, 25, 27, 28, 29, 31, 32, 33, 34, 35, 36, 37, 38, 39, 40, 41, 42, 43, 44, 45, 46, 48, 49, 51, 52, 53, 54, 55, 56, 57, 58, 59, 60, 61, 62, 64, 65, 66, 67, 70, 71, 72, 73, 74, 75, 76, 77, 78, 79, 81, 82, 83, 84, 85, 86, 87, 88, 89, 90, 91, 92, 93, 94, 95, 96, 97, 98, 99, 100, 101, 102, 103, 104, 106, 107, 108, 110, 112, 114, 115, 116, 117, 118, 120, 121, 122, 123, 124, 125, 126, 127, 128, 129, 130, 131, 132, 134, 135, 136, 137, 138, 139, 140, 141, 142, 143, 145, 146, 148, 149, 150, 152, 153, 154, 155, 156, 157, 158, 159, 162, 164}]\n",
      "[=================   ] 85%[0.9465271211630725, {0, 1, 2, 4, 5, 6, 7, 8, 9, 10, 11, 12, 14, 15, 16, 17, 18, 20, 21, 22, 23, 24, 25, 27, 28, 29, 31, 32, 33, 34, 35, 36, 37, 38, 39, 40, 41, 42, 43, 44, 45, 46, 48, 49, 51, 52, 53, 54, 55, 56, 57, 58, 59, 60, 61, 62, 64, 65, 66, 67, 70, 71, 72, 73, 74, 75, 76, 77, 78, 79, 81, 82, 83, 84, 85, 86, 87, 88, 89, 90, 91, 92, 93, 94, 95, 96, 97, 98, 99, 100, 101, 102, 103, 104, 106, 107, 108, 110, 112, 114, 115, 116, 117, 118, 120, 121, 122, 123, 124, 125, 126, 127, 128, 129, 130, 131, 132, 134, 135, 136, 137, 138, 139, 140, 141, 142, 143, 145, 146, 148, 149, 150, 152, 153, 154, 155, 156, 157, 158, 159, 162, 163, 164}]\n"
     ]
    },
    {
     "name": "stdout",
     "output_type": "stream",
     "text": [
      "[=================   ] 86%[0.9470950011711334, {0, 1, 2, 4, 5, 6, 7, 8, 9, 10, 11, 12, 14, 15, 16, 17, 18, 20, 21, 22, 23, 24, 25, 27, 28, 29, 31, 32, 33, 34, 35, 36, 37, 38, 39, 40, 41, 42, 43, 44, 45, 46, 48, 49, 51, 52, 53, 54, 55, 56, 57, 58, 59, 60, 61, 62, 64, 65, 66, 67, 70, 71, 72, 73, 74, 75, 76, 77, 78, 79, 81, 82, 83, 84, 85, 86, 87, 88, 89, 90, 91, 92, 93, 94, 95, 96, 97, 98, 99, 100, 101, 102, 103, 104, 106, 107, 108, 110, 112, 114, 115, 116, 117, 118, 120, 121, 122, 123, 124, 125, 126, 127, 128, 129, 130, 131, 132, 133, 134, 135, 136, 137, 138, 139, 140, 141, 142, 143, 145, 146, 148, 149, 150, 152, 153, 154, 155, 156, 157, 158, 159, 162, 163, 164}]\n",
      "[=================   ] 86%[0.9478342347451776, {0, 1, 2, 4, 5, 6, 7, 8, 9, 10, 11, 12, 14, 15, 16, 17, 18, 20, 21, 22, 23, 24, 25, 27, 28, 29, 31, 32, 33, 34, 35, 36, 37, 38, 39, 40, 41, 42, 43, 44, 45, 46, 48, 49, 51, 52, 53, 54, 55, 56, 57, 58, 59, 60, 61, 62, 64, 65, 66, 67, 70, 71, 72, 73, 74, 75, 76, 77, 78, 79, 81, 82, 83, 84, 85, 86, 87, 88, 89, 90, 91, 92, 93, 94, 95, 96, 97, 98, 99, 100, 101, 102, 103, 104, 105, 106, 107, 108, 110, 112, 114, 115, 116, 117, 118, 120, 121, 122, 123, 124, 125, 126, 127, 128, 129, 130, 131, 132, 133, 134, 135, 136, 137, 138, 139, 140, 141, 142, 143, 145, 146, 148, 149, 150, 152, 153, 154, 155, 156, 157, 158, 159, 162, 163, 164}]\n",
      "[=================   ] 87%[0.9486447390064265, {0, 1, 2, 4, 5, 6, 7, 8, 9, 10, 11, 12, 14, 15, 16, 17, 18, 20, 21, 22, 23, 24, 25, 27, 28, 29, 31, 32, 33, 34, 35, 36, 37, 38, 39, 40, 41, 42, 43, 44, 45, 46, 48, 49, 51, 52, 53, 54, 55, 56, 57, 58, 59, 60, 61, 62, 63, 64, 65, 66, 67, 70, 71, 72, 73, 74, 75, 76, 77, 78, 79, 81, 82, 83, 84, 85, 86, 87, 88, 89, 90, 91, 92, 93, 94, 95, 96, 97, 98, 99, 100, 101, 102, 103, 104, 105, 106, 107, 108, 110, 112, 114, 115, 116, 117, 118, 120, 121, 122, 123, 124, 125, 126, 127, 128, 129, 130, 131, 132, 133, 134, 135, 136, 137, 138, 139, 140, 141, 142, 143, 145, 146, 148, 149, 150, 152, 153, 154, 155, 156, 157, 158, 159, 162, 163, 164}]\n",
      "[=================   ] 87%[0.9493563943731054, {0, 1, 2, 4, 5, 6, 7, 8, 9, 10, 11, 12, 14, 15, 16, 17, 18, 20, 21, 22, 23, 24, 25, 27, 28, 29, 31, 32, 33, 34, 35, 36, 37, 38, 39, 40, 41, 42, 43, 44, 45, 46, 48, 49, 51, 52, 53, 54, 55, 56, 57, 58, 59, 60, 61, 62, 63, 64, 65, 66, 67, 70, 71, 72, 73, 74, 75, 76, 77, 78, 79, 81, 82, 83, 84, 85, 86, 87, 88, 89, 90, 91, 92, 93, 94, 95, 96, 97, 98, 99, 100, 101, 102, 103, 104, 105, 106, 107, 108, 110, 112, 113, 114, 115, 116, 117, 118, 120, 121, 122, 123, 124, 125, 126, 127, 128, 129, 130, 131, 132, 133, 134, 135, 136, 137, 138, 139, 140, 141, 142, 143, 145, 146, 148, 149, 150, 152, 153, 154, 155, 156, 157, 158, 159, 162, 163, 164}]\n",
      "[=================   ] 88%[0.9503431822533569, {0, 1, 2, 4, 5, 6, 7, 8, 9, 10, 11, 12, 14, 15, 16, 17, 18, 20, 21, 22, 23, 24, 25, 27, 28, 29, 31, 32, 33, 34, 35, 36, 37, 38, 39, 40, 41, 42, 43, 44, 45, 46, 48, 49, 51, 52, 53, 54, 55, 56, 57, 58, 59, 60, 61, 62, 63, 64, 65, 66, 67, 70, 71, 72, 73, 74, 75, 76, 77, 78, 79, 81, 82, 83, 84, 85, 86, 87, 88, 89, 90, 91, 92, 93, 94, 95, 96, 97, 98, 99, 100, 101, 102, 103, 104, 105, 106, 107, 108, 110, 112, 113, 114, 115, 116, 117, 118, 120, 121, 122, 123, 124, 125, 126, 127, 128, 129, 130, 131, 132, 133, 134, 135, 136, 137, 138, 139, 140, 141, 142, 143, 145, 146, 148, 149, 150, 151, 152, 153, 154, 155, 156, 157, 158, 159, 162, 163, 164}]\n",
      "[=================   ] 89%[0.9514060809441632, {0, 1, 2, 4, 5, 6, 7, 8, 9, 10, 11, 12, 14, 15, 16, 17, 18, 20, 21, 22, 23, 24, 25, 27, 28, 29, 31, 32, 33, 34, 35, 36, 37, 38, 39, 40, 41, 42, 43, 44, 45, 46, 48, 49, 51, 52, 53, 54, 55, 56, 57, 58, 59, 60, 61, 62, 63, 64, 65, 66, 67, 70, 71, 72, 73, 74, 75, 76, 77, 78, 79, 81, 82, 83, 84, 85, 86, 87, 88, 89, 90, 91, 92, 93, 94, 95, 96, 97, 98, 99, 100, 101, 102, 103, 104, 105, 106, 107, 108, 110, 112, 113, 114, 115, 116, 117, 118, 120, 121, 122, 123, 124, 125, 126, 127, 128, 129, 130, 131, 132, 133, 134, 135, 136, 137, 138, 139, 140, 141, 142, 143, 145, 146, 148, 149, 150, 151, 152, 153, 154, 155, 156, 157, 158, 159, 161, 162, 163, 164}]\n",
      "[=================   ] 89%[0.9524500832936323, {0, 1, 2, 3, 4, 5, 6, 7, 8, 9, 10, 11, 12, 14, 15, 16, 17, 18, 20, 21, 22, 23, 24, 25, 27, 28, 29, 31, 32, 33, 34, 35, 36, 37, 38, 39, 40, 41, 42, 43, 44, 45, 46, 48, 49, 51, 52, 53, 54, 55, 56, 57, 58, 59, 60, 61, 62, 63, 64, 65, 66, 67, 70, 71, 72, 73, 74, 75, 76, 77, 78, 79, 81, 82, 83, 84, 85, 86, 87, 88, 89, 90, 91, 92, 93, 94, 95, 96, 97, 98, 99, 100, 101, 102, 103, 104, 105, 106, 107, 108, 110, 112, 113, 114, 115, 116, 117, 118, 120, 121, 122, 123, 124, 125, 126, 127, 128, 129, 130, 131, 132, 133, 134, 135, 136, 137, 138, 139, 140, 141, 142, 143, 145, 146, 148, 149, 150, 151, 152, 153, 154, 155, 156, 157, 158, 159, 161, 162, 163, 164}]\n",
      "[==================  ] 90%[0.9536569095032158, {0, 1, 2, 3, 4, 5, 6, 7, 8, 9, 10, 11, 12, 14, 15, 16, 17, 18, 20, 21, 22, 23, 24, 25, 27, 28, 29, 31, 32, 33, 34, 35, 36, 37, 38, 39, 40, 41, 42, 43, 44, 45, 46, 48, 49, 51, 52, 53, 54, 55, 56, 57, 58, 59, 60, 61, 62, 63, 64, 65, 66, 67, 70, 71, 72, 73, 74, 75, 76, 77, 78, 79, 81, 82, 83, 84, 85, 86, 87, 88, 89, 90, 91, 92, 93, 94, 95, 96, 97, 98, 99, 100, 101, 102, 103, 104, 105, 106, 107, 108, 110, 112, 113, 114, 115, 116, 117, 118, 119, 120, 121, 122, 123, 124, 125, 126, 127, 128, 129, 130, 131, 132, 133, 134, 135, 136, 137, 138, 139, 140, 141, 142, 143, 145, 146, 148, 149, 150, 151, 152, 153, 154, 155, 156, 157, 158, 159, 161, 162, 163, 164}]\n",
      "[==================  ] 90%[0.9548798066599127, {0, 1, 2, 3, 4, 5, 6, 7, 8, 9, 10, 11, 12, 14, 15, 16, 17, 18, 20, 21, 22, 23, 24, 25, 26, 27, 28, 29, 31, 32, 33, 34, 35, 36, 37, 38, 39, 40, 41, 42, 43, 44, 45, 46, 48, 49, 51, 52, 53, 54, 55, 56, 57, 58, 59, 60, 61, 62, 63, 64, 65, 66, 67, 70, 71, 72, 73, 74, 75, 76, 77, 78, 79, 81, 82, 83, 84, 85, 86, 87, 88, 89, 90, 91, 92, 93, 94, 95, 96, 97, 98, 99, 100, 101, 102, 103, 104, 105, 106, 107, 108, 110, 112, 113, 114, 115, 116, 117, 118, 119, 120, 121, 122, 123, 124, 125, 126, 127, 128, 129, 130, 131, 132, 133, 134, 135, 136, 137, 138, 139, 140, 141, 142, 143, 145, 146, 148, 149, 150, 151, 152, 153, 154, 155, 156, 157, 158, 159, 161, 162, 163, 164}]\n",
      "[==================  ] 91%[0.9563434433692305, {0, 1, 2, 3, 4, 5, 6, 7, 8, 9, 10, 11, 12, 14, 15, 16, 17, 18, 20, 21, 22, 23, 24, 25, 26, 27, 28, 29, 31, 32, 33, 34, 35, 36, 37, 38, 39, 40, 41, 42, 43, 44, 45, 46, 48, 49, 51, 52, 53, 54, 55, 56, 57, 58, 59, 60, 61, 62, 63, 64, 65, 66, 67, 70, 71, 72, 73, 74, 75, 76, 77, 78, 79, 80, 81, 82, 83, 84, 85, 86, 87, 88, 89, 90, 91, 92, 93, 94, 95, 96, 97, 98, 99, 100, 101, 102, 103, 104, 105, 106, 107, 108, 110, 112, 113, 114, 115, 116, 117, 118, 119, 120, 121, 122, 123, 124, 125, 126, 127, 128, 129, 130, 131, 132, 133, 134, 135, 136, 137, 138, 139, 140, 141, 142, 143, 145, 146, 148, 149, 150, 151, 152, 153, 154, 155, 156, 157, 158, 159, 161, 162, 163, 164}]\n",
      "[==================  ] 92%[0.9578216694550654, {0, 1, 2, 3, 4, 5, 6, 7, 8, 9, 10, 11, 12, 14, 15, 16, 17, 18, 19, 20, 21, 22, 23, 24, 25, 26, 27, 28, 29, 31, 32, 33, 34, 35, 36, 37, 38, 39, 40, 41, 42, 43, 44, 45, 46, 48, 49, 51, 52, 53, 54, 55, 56, 57, 58, 59, 60, 61, 62, 63, 64, 65, 66, 67, 70, 71, 72, 73, 74, 75, 76, 77, 78, 79, 80, 81, 82, 83, 84, 85, 86, 87, 88, 89, 90, 91, 92, 93, 94, 95, 96, 97, 98, 99, 100, 101, 102, 103, 104, 105, 106, 107, 108, 110, 112, 113, 114, 115, 116, 117, 118, 119, 120, 121, 122, 123, 124, 125, 126, 127, 128, 129, 130, 131, 132, 133, 134, 135, 136, 137, 138, 139, 140, 141, 142, 143, 145, 146, 148, 149, 150, 151, 152, 153, 154, 155, 156, 157, 158, 159, 161, 162, 163, 164}]\n",
      "[==================  ] 92%[0.9597542690867351, {0, 1, 2, 3, 4, 5, 6, 7, 8, 9, 10, 11, 12, 14, 15, 16, 17, 18, 19, 20, 21, 22, 23, 24, 25, 26, 27, 28, 29, 31, 32, 33, 34, 35, 36, 37, 38, 39, 40, 41, 42, 43, 44, 45, 46, 48, 49, 50, 51, 52, 53, 54, 55, 56, 57, 58, 59, 60, 61, 62, 63, 64, 65, 66, 67, 70, 71, 72, 73, 74, 75, 76, 77, 78, 79, 80, 81, 82, 83, 84, 85, 86, 87, 88, 89, 90, 91, 92, 93, 94, 95, 96, 97, 98, 99, 100, 101, 102, 103, 104, 105, 106, 107, 108, 110, 112, 113, 114, 115, 116, 117, 118, 119, 120, 121, 122, 123, 124, 125, 126, 127, 128, 129, 130, 131, 132, 133, 134, 135, 136, 137, 138, 139, 140, 141, 142, 143, 145, 146, 148, 149, 150, 151, 152, 153, 154, 155, 156, 157, 158, 159, 161, 162, 163, 164}]\n"
     ]
    },
    {
     "name": "stdout",
     "output_type": "stream",
     "text": [
      "[==================  ] 93%[0.9617417306318764, {0, 1, 2, 3, 4, 5, 6, 7, 8, 9, 10, 11, 12, 14, 15, 16, 17, 18, 19, 20, 21, 22, 23, 24, 25, 26, 27, 28, 29, 31, 32, 33, 34, 35, 36, 37, 38, 39, 40, 41, 42, 43, 44, 45, 46, 48, 49, 50, 51, 52, 53, 54, 55, 56, 57, 58, 59, 60, 61, 62, 63, 64, 65, 66, 67, 70, 71, 72, 73, 74, 75, 76, 77, 78, 79, 80, 81, 82, 83, 84, 85, 86, 87, 88, 89, 90, 91, 92, 93, 94, 95, 96, 97, 98, 99, 100, 101, 102, 103, 104, 105, 106, 107, 108, 110, 112, 113, 114, 115, 116, 117, 118, 119, 120, 121, 122, 123, 124, 125, 126, 127, 128, 129, 130, 131, 132, 133, 134, 135, 136, 137, 138, 139, 140, 141, 142, 143, 145, 146, 147, 148, 149, 150, 151, 152, 153, 154, 155, 156, 157, 158, 159, 161, 162, 163, 164}]\n",
      "[==================  ] 93%[0.9638273507147158, {0, 1, 2, 3, 4, 5, 6, 7, 8, 9, 10, 11, 12, 14, 15, 16, 17, 18, 19, 20, 21, 22, 23, 24, 25, 26, 27, 28, 29, 31, 32, 33, 34, 35, 36, 37, 38, 39, 40, 41, 42, 43, 44, 45, 46, 48, 49, 50, 51, 52, 53, 54, 55, 56, 57, 58, 59, 60, 61, 62, 63, 64, 65, 66, 67, 70, 71, 72, 73, 74, 75, 76, 77, 78, 79, 80, 81, 82, 83, 84, 85, 86, 87, 88, 89, 90, 91, 92, 93, 94, 95, 96, 97, 98, 99, 100, 101, 102, 103, 104, 105, 106, 107, 108, 109, 110, 112, 113, 114, 115, 116, 117, 118, 119, 120, 121, 122, 123, 124, 125, 126, 127, 128, 129, 130, 131, 132, 133, 134, 135, 136, 137, 138, 139, 140, 141, 142, 143, 145, 146, 147, 148, 149, 150, 151, 152, 153, 154, 155, 156, 157, 158, 159, 161, 162, 163, 164}]\n",
      "[==================  ] 94%[0.965915661445705, {0, 1, 2, 3, 4, 5, 6, 7, 8, 9, 10, 11, 12, 14, 15, 16, 17, 18, 19, 20, 21, 22, 23, 24, 25, 26, 27, 28, 29, 30, 31, 32, 33, 34, 35, 36, 37, 38, 39, 40, 41, 42, 43, 44, 45, 46, 48, 49, 50, 51, 52, 53, 54, 55, 56, 57, 58, 59, 60, 61, 62, 63, 64, 65, 66, 67, 70, 71, 72, 73, 74, 75, 76, 77, 78, 79, 80, 81, 82, 83, 84, 85, 86, 87, 88, 89, 90, 91, 92, 93, 94, 95, 96, 97, 98, 99, 100, 101, 102, 103, 104, 105, 106, 107, 108, 109, 110, 112, 113, 114, 115, 116, 117, 118, 119, 120, 121, 122, 123, 124, 125, 126, 127, 128, 129, 130, 131, 132, 133, 134, 135, 136, 137, 138, 139, 140, 141, 142, 143, 145, 146, 147, 148, 149, 150, 151, 152, 153, 154, 155, 156, 157, 158, 159, 161, 162, 163, 164}]\n",
      "[=================== ] 95%[0.9680235562724152, {0, 1, 2, 3, 4, 5, 6, 7, 8, 9, 10, 11, 12, 14, 15, 16, 17, 18, 19, 20, 21, 22, 23, 24, 25, 26, 27, 28, 29, 30, 31, 32, 33, 34, 35, 36, 37, 38, 39, 40, 41, 42, 43, 44, 45, 46, 48, 49, 50, 51, 52, 53, 54, 55, 56, 57, 58, 59, 60, 61, 62, 63, 64, 65, 66, 67, 70, 71, 72, 73, 74, 75, 76, 77, 78, 79, 80, 81, 82, 83, 84, 85, 86, 87, 88, 89, 90, 91, 92, 93, 94, 95, 96, 97, 98, 99, 100, 101, 102, 103, 104, 105, 106, 107, 108, 109, 110, 112, 113, 114, 115, 116, 117, 118, 119, 120, 121, 122, 123, 124, 125, 126, 127, 128, 129, 130, 131, 132, 133, 134, 135, 136, 137, 138, 139, 140, 141, 142, 143, 144, 145, 146, 147, 148, 149, 150, 151, 152, 153, 154, 155, 156, 157, 158, 159, 161, 162, 163, 164}]\n",
      "[=================== ] 95%[0.9702516266406125, {0, 1, 2, 3, 4, 5, 6, 7, 8, 9, 10, 11, 12, 14, 15, 16, 17, 18, 19, 20, 21, 22, 23, 24, 25, 26, 27, 28, 29, 30, 31, 32, 33, 34, 35, 36, 37, 38, 39, 40, 41, 42, 43, 44, 45, 46, 48, 49, 50, 51, 52, 53, 54, 55, 56, 57, 58, 59, 60, 61, 62, 63, 64, 65, 66, 67, 69, 70, 71, 72, 73, 74, 75, 76, 77, 78, 79, 80, 81, 82, 83, 84, 85, 86, 87, 88, 89, 90, 91, 92, 93, 94, 95, 96, 97, 98, 99, 100, 101, 102, 103, 104, 105, 106, 107, 108, 109, 110, 112, 113, 114, 115, 116, 117, 118, 119, 120, 121, 122, 123, 124, 125, 126, 127, 128, 129, 130, 131, 132, 133, 134, 135, 136, 137, 138, 139, 140, 141, 142, 143, 144, 145, 146, 147, 148, 149, 150, 151, 152, 153, 154, 155, 156, 157, 158, 159, 161, 162, 163, 164}]\n",
      "[=================== ] 96%[0.9727038765458871, {0, 1, 2, 3, 4, 5, 6, 7, 8, 9, 10, 11, 12, 14, 15, 16, 17, 18, 19, 20, 21, 22, 23, 24, 25, 26, 27, 28, 29, 30, 31, 32, 33, 34, 35, 36, 37, 38, 39, 40, 41, 42, 43, 44, 45, 46, 48, 49, 50, 51, 52, 53, 54, 55, 56, 57, 58, 59, 60, 61, 62, 63, 64, 65, 66, 67, 69, 70, 71, 72, 73, 74, 75, 76, 77, 78, 79, 80, 81, 82, 83, 84, 85, 86, 87, 88, 89, 90, 91, 92, 93, 94, 95, 96, 97, 98, 99, 100, 101, 102, 103, 104, 105, 106, 107, 108, 109, 110, 112, 113, 114, 115, 116, 117, 118, 119, 120, 121, 122, 123, 124, 125, 126, 127, 128, 129, 130, 131, 132, 133, 134, 135, 136, 137, 138, 139, 140, 141, 142, 143, 144, 145, 146, 147, 148, 149, 150, 151, 152, 153, 154, 155, 156, 157, 158, 159, 160, 161, 162, 163, 164}]\n",
      "[=================== ] 96%[0.9750614860113187, {0, 1, 2, 3, 4, 5, 6, 7, 8, 9, 10, 11, 12, 14, 15, 16, 17, 18, 19, 20, 21, 22, 23, 24, 25, 26, 27, 28, 29, 30, 31, 32, 33, 34, 35, 36, 37, 38, 39, 40, 41, 42, 43, 44, 45, 46, 48, 49, 50, 51, 52, 53, 54, 55, 56, 57, 58, 59, 60, 61, 62, 63, 64, 65, 66, 67, 68, 69, 70, 71, 72, 73, 74, 75, 76, 77, 78, 79, 80, 81, 82, 83, 84, 85, 86, 87, 88, 89, 90, 91, 92, 93, 94, 95, 96, 97, 98, 99, 100, 101, 102, 103, 104, 105, 106, 107, 108, 109, 110, 112, 113, 114, 115, 116, 117, 118, 119, 120, 121, 122, 123, 124, 125, 126, 127, 128, 129, 130, 131, 132, 133, 134, 135, 136, 137, 138, 139, 140, 141, 142, 143, 144, 145, 146, 147, 148, 149, 150, 151, 152, 153, 154, 155, 156, 157, 158, 159, 160, 161, 162, 163, 164}]\n",
      "[=================== ] 97%[0.9777198501424741, {0, 1, 2, 3, 4, 5, 6, 7, 8, 9, 10, 11, 12, 14, 15, 16, 17, 18, 19, 20, 21, 22, 23, 24, 25, 26, 27, 28, 29, 30, 31, 32, 33, 34, 35, 36, 37, 38, 39, 40, 41, 42, 43, 44, 45, 46, 48, 49, 50, 51, 52, 53, 54, 55, 56, 57, 58, 59, 60, 61, 62, 63, 64, 65, 66, 67, 68, 69, 70, 71, 72, 73, 74, 75, 76, 77, 78, 79, 80, 81, 82, 83, 84, 85, 86, 87, 88, 89, 90, 91, 92, 93, 94, 95, 96, 97, 98, 99, 100, 101, 102, 103, 104, 105, 106, 107, 108, 109, 110, 111, 112, 113, 114, 115, 116, 117, 118, 119, 120, 121, 122, 123, 124, 125, 126, 127, 128, 129, 130, 131, 132, 133, 134, 135, 136, 137, 138, 139, 140, 141, 142, 143, 144, 145, 146, 147, 148, 149, 150, 151, 152, 153, 154, 155, 156, 157, 158, 159, 160, 161, 162, 163, 164}]\n",
      "[=================== ] 98%[0.9821900083383127, {0, 1, 2, 3, 4, 5, 6, 7, 8, 9, 10, 11, 12, 14, 15, 16, 17, 18, 19, 20, 21, 22, 23, 24, 25, 26, 27, 28, 29, 30, 31, 32, 33, 34, 35, 36, 37, 38, 39, 40, 41, 42, 43, 44, 45, 46, 47, 48, 49, 50, 51, 52, 53, 54, 55, 56, 57, 58, 59, 60, 61, 62, 63, 64, 65, 66, 67, 68, 69, 70, 71, 72, 73, 74, 75, 76, 77, 78, 79, 80, 81, 82, 83, 84, 85, 86, 87, 88, 89, 90, 91, 92, 93, 94, 95, 96, 97, 98, 99, 100, 101, 102, 103, 104, 105, 106, 107, 108, 109, 110, 111, 112, 113, 114, 115, 116, 117, 118, 119, 120, 121, 122, 123, 124, 125, 126, 127, 128, 129, 130, 131, 132, 133, 134, 135, 136, 137, 138, 139, 140, 141, 142, 143, 144, 145, 146, 147, 148, 149, 150, 151, 152, 153, 154, 155, 156, 157, 158, 159, 160, 161, 162, 163, 164}]\n",
      "[=================== ] 98%"
     ]
    }
   ],
   "source": [
    "fullPredictors = set([i for i in range(0, 165)])\n",
    "levelBest = [[sys.float_info.max, set()]]\n",
    "c = 0\n",
    "for k in range(1, len(fullPredictors)): \n",
    "    \n",
    "    prevBest = min([l for l in levelBest if len(l[1]) == k - 1], key = lambda x: x[0])[1]\n",
    "    currentPredictors = fullPredictors - prevBest\n",
    "    mseVal = []\n",
    "    \n",
    "    for predictor in currentPredictors: \n",
    "        selected = prevBest | set([predictor])\n",
    "        \n",
    "        trainX = traindf[list(selected)].values\n",
    "        validX = validationdf[list(selected)].values\n",
    "        trainY = trainMyFeatures60[1]\n",
    "        validY = validationMyFeatures60[1]\n",
    "        \n",
    "        try: \n",
    "            resultW = closedFormLinearRegression(trainX, trainY)\n",
    "        except: \n",
    "            continue\n",
    "        mseVal.append([meanSquareError(validX, validY, resultW), selected])\n",
    "    \n",
    "    currentBest = min(mseVal, key = lambda x: x[0])\n",
    "    \n",
    "    if len(mseVal) > 0: \n",
    "        levelBest.append(currentBest)\n",
    "        print(currentBest)\n",
    "    \n",
    "    # Process Bar\n",
    "    sys.stdout.write('\\r')\n",
    "    count = int((float(c) / float(len(fullPredictors))) * 100)\n",
    "    sys.stdout.write(\"[%-20s] %d%%\" % ('='*int(count / 5), count))\n",
    "    sleep(0.001)\n",
    "    sys.stdout.flush()\n",
    "    c = c + 1\n",
    "    \n",
    "\n",
    "trainX = traindf[list(fullPredictors)].values\n",
    "validX = validationdf[list(fullPredictors)].values\n",
    "trainY = trainMyFeatures60[1]\n",
    "validY = validationMyFeatures60[1]\n",
    "ok = True\n",
    "try: \n",
    "    resultW = closedFormLinearRegression(trainX, trainY)\n",
    "except: \n",
    "    ok = False\n",
    "if ok: \n",
    "    mseVal.append([meanSquareError(validX, validY, resultW), selected])\n",
    "bestOfAll = sorted(levelBest, key = lambda v: v[0])[0]"
   ]
  },
  {
   "cell_type": "code",
   "execution_count": 172,
   "metadata": {
    "scrolled": true
   },
   "outputs": [
    {
     "name": "stdout",
     "output_type": "stream",
     "text": [
      "best set of predictors with interaction term: \n",
      " 0.9309073299415948\n",
      "error: \n",
      " {0, 1, 2, 4, 5, 10, 14, 15, 18, 21, 22, 24, 25, 27, 31, 33, 34, 35, 36, 37, 39, 40, 42, 44, 46, 48, 49, 53, 55, 56, 59, 60, 62, 65, 67, 70, 74, 75, 76, 78, 79, 81, 82, 83, 84, 89, 93, 94, 96, 97, 100, 103, 108, 114, 120, 121, 122, 123, 124, 130, 131, 134, 139, 142, 143, 146, 152, 155, 156, 157, 158, 159, 162}\n"
     ]
    }
   ],
   "source": [
    "print('best set of predictors with interaction term: \\n', bestOfAll[0])\n",
    "print('error: \\n', bestOfAll[1])"
   ]
  },
  {
   "cell_type": "markdown",
   "metadata": {},
   "source": [
    "## Final Performance"
   ]
  },
  {
   "cell_type": "code",
   "execution_count": 173,
   "metadata": {},
   "outputs": [
    {
     "data": {
      "text/plain": [
       "1.2326260186187583"
      ]
     },
     "execution_count": 173,
     "metadata": {},
     "output_type": "execute_result"
    }
   ],
   "source": [
    "resultClosedFinal = closedFormLinearRegression(numpy.array(trainMyFeatures60[0])[:,list(bestOfAll[1])], trainMyFeatures60[1])\n",
    "meanSquareError(numpy.array(testMyFeatures60[0])[:,list(bestOfAll[1])], testMyFeatures60[1], resultClosedFinal)"
   ]
  },
  {
   "cell_type": "markdown",
   "metadata": {},
   "source": [
    "Conclusion: overfits validation set (meta-overfitting)"
   ]
  }
 ],
 "metadata": {
  "kernelspec": {
   "display_name": "Python 3",
   "language": "python",
   "name": "python3"
  },
  "language_info": {
   "codemirror_mode": {
    "name": "ipython",
    "version": 3
   },
   "file_extension": ".py",
   "mimetype": "text/x-python",
   "name": "python",
   "nbconvert_exporter": "python",
   "pygments_lexer": "ipython3",
   "version": "3.6.5"
  }
 },
 "nbformat": 4,
 "nbformat_minor": 2
}
