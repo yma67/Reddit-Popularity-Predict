{
 "cells": [
  {
   "cell_type": "code",
   "execution_count": 1,
   "metadata": {},
   "outputs": [],
   "source": [
    "import json\n",
    "import nltk\n",
    "import re\n",
    "import itertools\n",
    "from time import sleep\n",
    "import sys\n",
    "import numpy\n",
    "import scipy\n",
    "import time\n",
    "from nltk.corpus import stopwords\n",
    "from nltk.tokenize import RegexpTokenizer\n",
    "from collections import Counter\n",
    "with open(\"proj1_data.json\") as fp:\n",
    "    data = json.load(fp)"
   ]
  },
  {
   "cell_type": "code",
   "execution_count": 2,
   "metadata": {},
   "outputs": [],
   "source": [
    "train = data[:10000]\n",
    "validation = data[10000:11000]\n",
    "test = data[11000:12000]"
   ]
  },
  {
   "cell_type": "markdown",
   "metadata": {},
   "source": [
    "## Part 1: feature extraction"
   ]
  },
  {
   "cell_type": "code",
   "execution_count": 3,
   "metadata": {},
   "outputs": [],
   "source": [
    "def countAllFrequencyNaive(dataSet): \n",
    "    totalString = str()\n",
    "    for d in dataSet: \n",
    "        totalString = totalString + ' ' + d['text']\n",
    "    countNaive = Counter([s for s in totalString.lower().strip().split()])\n",
    "    totalCount = []\n",
    "    return list(map(lambda v: v[0], countNaive.most_common(160)))"
   ]
  },
  {
   "cell_type": "code",
   "execution_count": 4,
   "metadata": {},
   "outputs": [],
   "source": [
    "def countAllFrequencyStopWord(dataSet): \n",
    "    \n",
    "    totalString = str()\n",
    "    \n",
    "    for d in dataSet: \n",
    "        totalString = totalString + ' ' + d['text']\n",
    "        \n",
    "    tokenizer = RegexpTokenizer(r'\\w+')\n",
    "    withoutPunc = tokenizer.tokenize(totalString)\n",
    "    \n",
    "    stopwordsSet = set(stopwords.words())\n",
    "    \n",
    "    countDict = Counter(s.lower() for s in withoutPunc if s.lower() not in stopwordsSet)\n",
    "    \n",
    "    return list(map(lambda v: v[0], countDict.most_common(160)))"
   ]
  },
  {
   "cell_type": "code",
   "execution_count": 5,
   "metadata": {},
   "outputs": [],
   "source": [
    "# word count, no removal of punctuations\n",
    "# @Param: singleText: text to process, numberOfFeatures: 0, 60, 160?\n",
    "# @Return: vector of count (x in description)\n",
    "def wordCountNaive(singleText, numberOfFeatures, totalCount): \n",
    "    \n",
    "    countNaive = Counter([s.lower() for s in singleText.split()])\n",
    "    returnVector = []\n",
    "    for word in totalCount[:numberOfFeatures]: \n",
    "        returnVector.append(float(countNaive[word]))\n",
    "    return returnVector\n",
    "\n",
    "\n",
    "# word count, remove punc and stopwords to imporve model\n",
    "# @Param: singleText: text to process, numberOfFeatures: 0, 60, 160?\n",
    "# @Return: vector of count (x in description)\n",
    "def wordCountWithStopwords(singleText, numberOfFeatures, totalCount): \n",
    "    \n",
    "    tokenizer = RegexpTokenizer(r'\\w+')\n",
    "    withoutPunc = tokenizer.tokenize(singleText)\n",
    "    \n",
    "    stopwordsSet = set(stopwords.words())\n",
    "    \n",
    "    countDict = Counter([s.lower() for s in withoutPunc if s.lower() not in stopwordsSet])\n",
    "    \n",
    "    returnVector = []\n",
    "    for word in totalCount[:numberOfFeatures]: \n",
    "        returnVector.append(float(countDict[word]))\n",
    "    \n",
    "    return returnVector"
   ]
  },
  {
   "cell_type": "code",
   "execution_count": 6,
   "metadata": {},
   "outputs": [],
   "source": [
    "def pythonListTranspose(xl): \n",
    "    return list(map(list, itertools.zip_longest(*xl)))"
   ]
  },
  {
   "cell_type": "code",
   "execution_count": 7,
   "metadata": {},
   "outputs": [],
   "source": [
    "# Feature Parser\n",
    "# @Param: dataVector: sliced original dataset, wordCountFunction: <str> -> ndarray<float>, \n",
    "# wordPOSFunction: str -> list<float>, numberOfTextFeature: 0 to shut down Text Processing (Text Features)\n",
    "# featureType: \n",
    "# @Return: tuple<ndarray, list>: xEngineered, yExtracted: rows: vector<samplePoint>, samplePoint[0->2]: basic Features, \n",
    "# samplePoint[3->162]: text, samplePoint[163->167]: extra\n",
    "def parseFeatures(dataVector, wordCountFunction, numberOfTextFeatures, featureType): \n",
    "    y = []\n",
    "    childrenFeature = []\n",
    "    controversialityFeature = []\n",
    "    isRootFeature = []\n",
    "    processedTextFeature = []\n",
    "    verbFeature = []\n",
    "    nounFeature = []\n",
    "    adjFeature = []\n",
    "    urlFeature = []\n",
    "    childAndControv = []\n",
    "    childAndisRoot = []\n",
    "    allInteracted = []\n",
    "    controvAndisRoot = []\n",
    "    identityFeature = []\n",
    "    countFeature = []\n",
    "    c = 0\n",
    "    lenV = len(dataVector)\n",
    "    for dataPoint in dataVector: \n",
    "        \n",
    "        # Basic Features\n",
    "        y.append(float(dataPoint['popularity_score']))\n",
    "        if 'children' in featureType: \n",
    "            childrenFeature.append(float(dataPoint['children']))\n",
    "        if 'controv' in featureType: \n",
    "            controversialityFeature.append(float(dataPoint['controversiality']))\n",
    "        identityFeature.append(1.0)\n",
    "        isRootVar = -1.0\n",
    "        if 'isRoot' in featureType: \n",
    "            if dataPoint['is_root'] == True: \n",
    "                isRootVar = 1.0\n",
    "                isRootFeature.append(isRootVar)\n",
    "            else: \n",
    "                isRootVar = 0.0\n",
    "                isRootFeature.append(isRootVar)\n",
    "        \n",
    "        # Text Features: 0 to shut down text feature\n",
    "        if numberOfTextFeatures > 0 and 'text' in featureType: \n",
    "            processedTextFeature.append(wordCountFunction(dataPoint['text'], numberOfTextFeatures))\n",
    "        \n",
    "        # Extra Features\n",
    "        if 'noun' in featureType or 'verb' in featureType or 'adj' in featureType: \n",
    "            wordAnalysis = wordPOSCountWithStopwords(dataPoint['text'])\n",
    "        if 'verb' in featureType: \n",
    "            verbFeature.append(wordAnalysis[0])\n",
    "        if 'noun' in featureType: \n",
    "            nounFeature.append(wordAnalysis[1])\n",
    "        if 'adj' in featureType: \n",
    "            adjFeature.append(wordAnalysis[2])\n",
    "        if 'url' in featureType: \n",
    "            urlFeature.append(hasURL(dataPoint['text']))\n",
    "        if 'count' in featureType: \n",
    "            countFeature.append(float(len(dataPoint['text'].split())))\n",
    "            \n",
    "        # Interaction Effect: \n",
    "        if 'child and controv' in featureType: \n",
    "            childAndControv.append(float(dataPoint['children']) * float(dataPoint['controversiality']))\n",
    "        if 'child and isRoot' in featureType: \n",
    "            childAndisRoot.append(float(dataPoint['children']) * isRootVar)\n",
    "        if 'all interacted' in featureType: \n",
    "            allInteracted.append(float(dataPoint['children']) * isRootVar  * float(dataPoint['controversiality']))\n",
    "        if 'controv and isRoot' in featureType: \n",
    "            controvAndisRoot.append(isRootVar  * float(dataPoint['controversiality']))\n",
    "        \n",
    "        # Process Bar\n",
    "        sys.stdout.write('\\r')\n",
    "        count = int((float(c) / float(lenV)) * 100)\n",
    "        sys.stdout.write(\"[%-20s] %d%%\" % ('='*int(count / 5), count))\n",
    "        sleep(0.001)\n",
    "        sys.stdout.flush()\n",
    "        c = c + 1\n",
    "    if len(processedTextFeature) > 0: \n",
    "        processedTextFeature = pythonListTranspose(processedTextFeature)\n",
    "    returnTotal = [childrenFeature, controversialityFeature, isRootFeature, verbFeature, nounFeature, adjFeature, urlFeature, countFeature, childAndControv, childAndisRoot, allInteracted, controvAndisRoot, identityFeature] + processedTextFeature\n",
    "    return pythonListTranspose([x for x in returnTotal if len(x) > 0]), pythonListTranspose([y])"
   ]
  },
  {
   "cell_type": "code",
   "execution_count": 8,
   "metadata": {},
   "outputs": [],
   "source": [
    "def parseTransformedFeatures(dataVector, wordCountFunction, numberOfTextFeatures, featureType, **kwargs): \n",
    "    y = []\n",
    "    childrenFeature = []\n",
    "    childrenFeatureO = []\n",
    "    controversialityFeature = []\n",
    "    isRootFeature = []\n",
    "    processedTextFeatureO = []\n",
    "    processedTextFeature = []\n",
    "    verbFeature = []\n",
    "    nounFeature = []\n",
    "    adjFeature = []\n",
    "    urlFeature = []\n",
    "    childAndControv = []\n",
    "    childAndisRoot = []\n",
    "    allInteracted = []\n",
    "    controvAndisRoot = []\n",
    "    identityFeature = []\n",
    "    countFeature = []\n",
    "    c = 0\n",
    "    lenV = len(dataVector)\n",
    "    childrenRate = 0.04\n",
    "    if len(kwargs) > 0: \n",
    "        childrenRate = float(kwargs['crate'])\n",
    "    for dataPoint in dataVector: \n",
    "        \n",
    "        # Basic Features\n",
    "        y.append(float(dataPoint['popularity_score']))\n",
    "        if 'children' in featureType: \n",
    "            childrenFeatureO.append(float(dataPoint['children']))\n",
    "        if 'childrenT' in featureType: \n",
    "            childrenFeature.append(1.0 - numpy.exp(-1 * childrenRate * float(dataPoint['children'])))\n",
    "        if 'controv' in featureType: \n",
    "            controversialityFeature.append(float(dataPoint['controversiality']))\n",
    "        identityFeature.append(1.0)\n",
    "        isRootVar = -1.0\n",
    "        if 'isRoot' in featureType: \n",
    "            if dataPoint['is_root'] == True: \n",
    "                isRootVar = 1.0\n",
    "                isRootFeature.append(isRootVar)\n",
    "            else: \n",
    "                isRootVar = 0.0\n",
    "                isRootFeature.append(isRootVar)\n",
    "        \n",
    "        # Text Features: 0 to shut down text feature\n",
    "        if numberOfTextFeatures > 0 and 'text' in featureType: \n",
    "            arr = wordCountFunction(dataPoint['text'], numberOfTextFeatures)\n",
    "            processedTextFeatureO.append([a for a in arr])\n",
    "        if numberOfTextFeatures > 0 and 'textT' in featureType: \n",
    "            arr = wordCountFunction(dataPoint['text'], numberOfTextFeatures)\n",
    "            processedTextFeature.append([numpy.exp(-0.04 * (a)) * 1 for a in arr]) # numpy.cos(3 * a)\n",
    "            \n",
    "        # Extra Features\n",
    "        if 'noun' in featureType or 'verb' in featureType or 'adj' in featureType: \n",
    "            wordAnalysis = wordPOSCountWithStopwords(dataPoint['text'])\n",
    "        if 'verb' in featureType: \n",
    "            verbFeature.append(wordAnalysis[0])\n",
    "        if 'noun' in featureType: \n",
    "            nounFeature.append(wordAnalysis[1])\n",
    "        if 'adj' in featureType: \n",
    "            adjFeature.append(wordAnalysis[2])\n",
    "        if 'url' in featureType: \n",
    "            urlFeature.append(hasURL(dataPoint['text']))\n",
    "        if 'count' in featureType: \n",
    "            countFeature.append(float(len(dataPoint['text'].split())))\n",
    "            \n",
    "        # Interaction Effect: \n",
    "        if 'child and controv' in featureType: \n",
    "            childAndControv.append(float(dataPoint['children']) * float(dataPoint['controversiality']))\n",
    "        if 'child and isRoot' in featureType: \n",
    "            childAndisRoot.append(float(dataPoint['children']) * isRootVar)\n",
    "        if 'all interacted' in featureType: \n",
    "            allInteracted.append(float(dataPoint['children']) * isRootVar * float(dataPoint['controversiality']))\n",
    "        if 'controv and isRoot' in featureType: \n",
    "            controvAndisRoot.append(isRootVar  * float(dataPoint['controversiality']))\n",
    "        \n",
    "        # Process Bar\n",
    "        sys.stdout.write('\\r')\n",
    "        count = int((float(c) / float(lenV)) * 100)\n",
    "        sys.stdout.write(\"[%-20s] %d%%\" % ('='*int(count / 5), count))\n",
    "        sleep(0.001)\n",
    "        sys.stdout.flush()\n",
    "        c = c + 1\n",
    "    \n",
    "    if len(processedTextFeature) > 0: \n",
    "        processedTextFeature = pythonListTranspose(processedTextFeature)\n",
    "        processedTextFeatureO = pythonListTranspose(processedTextFeatureO)\n",
    "        \n",
    "    returnTotal = [childrenFeatureO, childrenFeature, controversialityFeature, isRootFeature, verbFeature, nounFeature, adjFeature, urlFeature, childAndControv, childAndisRoot, allInteracted, controvAndisRoot, countFeature, identityFeature] + processedTextFeature + processedTextFeatureO\n",
    "    return pythonListTranspose([x for x in returnTotal if len(x) > 0]), pythonListTranspose([y])"
   ]
  },
  {
   "cell_type": "markdown",
   "metadata": {},
   "source": [
    "## Part 2: Regression Algorithms"
   ]
  },
  {
   "cell_type": "code",
   "execution_count": 9,
   "metadata": {},
   "outputs": [],
   "source": [
    "def meanSquareError(valX, valY, w): \n",
    "    diffenence = numpy.power(numpy.transpose(numpy.subtract(valY, numpy.matmul(valX, w)))[0], 2)\n",
    "    return numpy.divide(numpy.sum(diffenence), len(valY))"
   ]
  },
  {
   "cell_type": "code",
   "execution_count": 10,
   "metadata": {},
   "outputs": [],
   "source": [
    "def closedFormLinearRegression(x, y): \n",
    "    xT = numpy.transpose(numpy.array(x))\n",
    "    return numpy.matmul(numpy.matmul(scipy.linalg.inv(numpy.matmul(xT, numpy.array(x))), xT), numpy.array(y))"
   ]
  },
  {
   "cell_type": "code",
   "execution_count": 11,
   "metadata": {},
   "outputs": [],
   "source": [
    "def gradientDescentLinearRegression(learnRateFunction, x, y, tol): \n",
    "    i = 1\n",
    "    weight = numpy.array([[0.0] for l in range(len(x[0]))])\n",
    "    weightN = numpy.array([[0.0] for l in range(len(x[0]))])\n",
    "    xT = numpy.transpose(x)\n",
    "    xTx = numpy.matmul(xT, x)\n",
    "    xTy = numpy.matmul(xT, y)\n",
    "    while True: \n",
    "        weight = weightN\n",
    "        weightN = numpy.subtract(weight, 2 * learnRateFunction(i) * numpy.subtract(numpy.matmul(xTx, weight), xTy))\n",
    "        i = i + 1\n",
    "        if numpy.linalg.norm(numpy.subtract(weightN, weight), 2) <= tol: \n",
    "            break\n",
    "    return weightN"
   ]
  },
  {
   "cell_type": "markdown",
   "metadata": {},
   "source": [
    "## Part 3: Closed Form and Gradient Descent"
   ]
  },
  {
   "cell_type": "code",
   "execution_count": 12,
   "metadata": {},
   "outputs": [
    {
     "name": "stdout",
     "output_type": "stream",
     "text": [
      "[=================== ] 99%"
     ]
    }
   ],
   "source": [
    "trainFeatures = parseFeatures(train, lambda u, v: wordCountNaive(u, v, tFreq), 0, ['children', 'controv', 'isRoot'])\n",
    "validationFeatures = parseFeatures(validation, lambda u, v: wordCountNaive(u, v, vFreq), 0, ['children', 'controv', 'isRoot'])"
   ]
  },
  {
   "cell_type": "code",
   "execution_count": 13,
   "metadata": {},
   "outputs": [
    {
     "name": "stdout",
     "output_type": "stream",
     "text": [
      "result of closed form: \n",
      " [[ 0.37536403]\n",
      " [-1.08584747]\n",
      " [-0.22627679]\n",
      " [ 0.82092517]]\n",
      "error of closed form validation: \n",
      " 1.0203266848431447\n",
      "error of closed form training: \n",
      " 1.0846830709157251\n",
      "runtime of closed from: \n",
      " 0.2613208293914795\n"
     ]
    }
   ],
   "source": [
    "startClosed = time.time()\n",
    "resultClosed = closedFormLinearRegression(trainFeatures[0], trainFeatures[1])\n",
    "endClosed = time.time()\n",
    "errorClosed = meanSquareError(validationFeatures[0], validationFeatures[1], resultClosed)\n",
    "errorTrained = meanSquareError(trainFeatures[0], trainFeatures[1], resultClosed)\n",
    "print('result of closed form: \\n', resultClosed)\n",
    "print('error of closed form validation: \\n', errorClosed)\n",
    "print('error of closed form training: \\n', errorTrained)\n",
    "print('runtime of closed from: \\n', endClosed - startClosed)"
   ]
  },
  {
   "cell_type": "code",
   "execution_count": 14,
   "metadata": {},
   "outputs": [
    {
     "name": "stdout",
     "output_type": "stream",
     "text": [
      "result of gradient descent: \n",
      " [[ 0.37532753]\n",
      " [-1.07187479]\n",
      " [-0.22618114]\n",
      " [ 0.82073393]]\n",
      "error of gradient descent validation: \n",
      " 1.0203862578853462\n",
      "error of gradient descent training: \n",
      " 1.084685323915743\n",
      "runtime of gradient descent: \n",
      " 4.111356973648071\n"
     ]
    }
   ],
   "source": [
    "startGD = time.time()\n",
    "resultGradient = gradientDescentLinearRegression(lambda v: float(0.0021 / (float(v) + 6.0)), trainFeatures[0], trainFeatures[1], 0.00000005)\n",
    "endGD = time.time()\n",
    "errorGradient = meanSquareError(validationFeatures[0], validationFeatures[1], resultGradient)\n",
    "errorGradientT = meanSquareError(trainFeatures[0], trainFeatures[1], resultGradient)\n",
    "print('result of gradient descent: \\n', resultGradient)\n",
    "print('error of gradient descent validation: \\n', errorGradient)\n",
    "print('error of gradient descent training: \\n', errorGradientT)\n",
    "print('runtime of gradient descent: \\n', endGD - startGD)"
   ]
  },
  {
   "cell_type": "markdown",
   "metadata": {},
   "source": [
    "conclusion: closed form gives less error and less time"
   ]
  },
  {
   "cell_type": "markdown",
   "metadata": {},
   "source": [
    "## Part 3: 60 and 160 text features"
   ]
  },
  {
   "cell_type": "code",
   "execution_count": 15,
   "metadata": {},
   "outputs": [
    {
     "name": "stdout",
     "output_type": "stream",
     "text": [
      "[=================== ] 99%"
     ]
    }
   ],
   "source": [
    "tFreq = countAllFrequencyNaive(train)\n",
    "trainFeatures60 = parseFeatures(train, lambda u, v: wordCountNaive(u, v, tFreq), 60, ['children', 'controv', 'isRoot', 'text'])\n",
    "trainFeatures160 = parseFeatures(train, lambda u, v: wordCountNaive(u, v, tFreq), 160, ['children', 'controv', 'isRoot', 'text'])"
   ]
  },
  {
   "cell_type": "code",
   "execution_count": 16,
   "metadata": {},
   "outputs": [
    {
     "name": "stdout",
     "output_type": "stream",
     "text": [
      "[=================== ] 99%"
     ]
    }
   ],
   "source": [
    "vFreq = countAllFrequencyNaive(validation)\n",
    "validationFeatures60 = parseFeatures(validation, lambda u, v: wordCountNaive(u, v, tFreq), 60, ['children', 'controv', 'isRoot', 'text'])\n",
    "validationFeatures160 = parseFeatures(validation, lambda u, v: wordCountNaive(u, v, tFreq), 160, ['children', 'controv', 'isRoot', 'text'])"
   ]
  },
  {
   "cell_type": "code",
   "execution_count": 17,
   "metadata": {},
   "outputs": [
    {
     "name": "stdout",
     "output_type": "stream",
     "text": [
      "error of closed form validation: \n",
      " 0.9839397297217665\n",
      "error of closed form trained: \n",
      " 1.060429141685383\n"
     ]
    }
   ],
   "source": [
    "resultClosed60 = closedFormLinearRegression(trainFeatures60[0], trainFeatures60[1])\n",
    "errorClosed60 = meanSquareError(validationFeatures60[0], validationFeatures60[1], resultClosed60)\n",
    "errorTrained60 = meanSquareError(trainFeatures60[0], trainFeatures60[1], resultClosed60)\n",
    "# print('result of closed form: \\n', resultClosed60)\n",
    "print('error of closed form validation: \\n', errorClosed60)\n",
    "print('error of closed form trained: \\n', errorTrained60)"
   ]
  },
  {
   "cell_type": "code",
   "execution_count": 18,
   "metadata": {},
   "outputs": [
    {
     "name": "stdout",
     "output_type": "stream",
     "text": [
      "error of closed form validation: \n",
      " 0.9950693970669264\n",
      "error of closed form trained: \n",
      " 1.0477763217987115\n"
     ]
    }
   ],
   "source": [
    "resultClosed160 = closedFormLinearRegression(trainFeatures160[0], trainFeatures160[1])\n",
    "errorClosed160 = meanSquareError(validationFeatures160[0], validationFeatures160[1], resultClosed160)\n",
    "errorTrained160 = meanSquareError(trainFeatures160[0], trainFeatures160[1], resultClosed160)\n",
    "# print('result of closed form: \\n', resultClosed160)\n",
    "print('error of closed form validation: \\n', errorClosed160)\n",
    "print('error of closed form trained: \\n', errorTrained160)"
   ]
  },
  {
   "cell_type": "markdown",
   "metadata": {},
   "source": [
    "conclusion: 60 features are better than 160, validation error larger than closed form in 160: potentially overfitting"
   ]
  },
  {
   "cell_type": "markdown",
   "metadata": {},
   "source": [
    "## Part 3: [Improvement 1] Transform of 'Children' feature"
   ]
  },
  {
   "cell_type": "code",
   "execution_count": 19,
   "metadata": {},
   "outputs": [
    {
     "name": "stdout",
     "output_type": "stream",
     "text": [
      "[=================== ] 99%"
     ]
    }
   ],
   "source": [
    "trainFeaturesI = parseTransformedFeatures(train, lambda u, v: wordCountNaive(u, v, tFreq), 0, ['childrenT', 'controv', 'isRoot'])\n",
    "validationFeaturesI = parseTransformedFeatures(validation, lambda u, v: wordCountNaive(u, v, tFreq), 0, ['childrenT', 'controv', 'isRoot']) "
   ]
  },
  {
   "cell_type": "code",
   "execution_count": 20,
   "metadata": {},
   "outputs": [
    {
     "name": "stdout",
     "output_type": "stream",
     "text": [
      "error of closed form validation: \n",
      " 1.0029820618160374\n",
      "error of closed form trained: \n",
      " 1.0456152576445137\n"
     ]
    }
   ],
   "source": [
    "resultClosedI = closedFormLinearRegression(trainFeaturesI[0], trainFeaturesI[1])\n",
    "errorClosedI = meanSquareError(validationFeaturesI[0], validationFeaturesI[1], resultClosedI)\n",
    "errorTrainedI = meanSquareError(trainFeaturesI[0], trainFeaturesI[1], resultClosedI)\n",
    "# print('result of closed form: \\n', resultClosedI)\n",
    "print('error of closed form validation: \\n', errorClosedI)\n",
    "print('error of closed form trained: \\n', errorTrainedI)"
   ]
  },
  {
   "cell_type": "markdown",
   "metadata": {},
   "source": [
    "Conclusion: use of g(x) = 1-exp(-0.07x) to transform children variable decreases loss from 1.020326684843145 down to 1.0029820618160374 on validation set (0.017638854694864925 improvement)"
   ]
  },
  {
   "cell_type": "markdown",
   "metadata": {},
   "source": [
    "## Part 3: [Improvement 2] Transform of 'text' feature"
   ]
  },
  {
   "cell_type": "code",
   "execution_count": 21,
   "metadata": {},
   "outputs": [
    {
     "name": "stdout",
     "output_type": "stream",
     "text": [
      "[=================== ] 99%"
     ]
    }
   ],
   "source": [
    "tFreq = countAllFrequencyNaive(data)\n",
    "trainFeaturesI60 = parseTransformedFeatures(train, lambda u, v: wordCountNaive(u, v, tFreq), 60, ['children', 'controv', 'isRoot', 'textT'])\n",
    "validationFeaturesI60 = parseTransformedFeatures(validation, lambda u, v: wordCountNaive(u, v, tFreq), 60, ['children', 'controv', 'isRoot', 'textT']) "
   ]
  },
  {
   "cell_type": "code",
   "execution_count": 22,
   "metadata": {},
   "outputs": [
    {
     "name": "stdout",
     "output_type": "stream",
     "text": [
      "error of closed form validation: \n",
      " 0.970215126374883\n",
      "error of closed form trained: \n",
      " 1.058597084267706\n"
     ]
    }
   ],
   "source": [
    "resultClosedI60 = closedFormLinearRegression(trainFeaturesI60[0], trainFeaturesI60[1])\n",
    "errorClosedI60 = meanSquareError(validationFeaturesI60[0], validationFeaturesI60[1], resultClosedI60)\n",
    "errorTrainedI60 = meanSquareError(trainFeaturesI60[0], trainFeaturesI60[1], resultClosedI60)\n",
    "# print('result of closed form: \\n', resultClosedI60)\n",
    "print('error of closed form validation: \\n', errorClosedI60)\n",
    "print('error of closed form trained: \\n', errorTrainedI60)"
   ]
  },
  {
   "cell_type": "markdown",
   "metadata": {},
   "source": [
    "Conclusion: use of g(x) = exp(-0.04 * (x)) to transform all text features decreases loss from 0.9839397297217665 down to 0.970215126374883 on validation set (0.013724603346883413 improvement)"
   ]
  },
  {
   "cell_type": "markdown",
   "metadata": {},
   "source": [
    "## Part 3: [Improvement 3] Interaction Between isRoot and children"
   ]
  },
  {
   "cell_type": "code",
   "execution_count": 23,
   "metadata": {},
   "outputs": [
    {
     "name": "stdout",
     "output_type": "stream",
     "text": [
      "[=================== ] 99%"
     ]
    }
   ],
   "source": [
    "tFreq = countAllFrequencyNaive(data)\n",
    "trainFeaturesIC60 = parseTransformedFeatures(train, lambda u, v: wordCountNaive(u, v, tFreq), 0, ['children', 'controv', 'isRoot', 'child and isRoot'])\n",
    "validationFeaturesIC60 = parseTransformedFeatures(validation, lambda u, v: wordCountNaive(u, v, tFreq), 0, ['children', 'controv', 'isRoot', 'child and isRoot']) "
   ]
  },
  {
   "cell_type": "code",
   "execution_count": 24,
   "metadata": {},
   "outputs": [
    {
     "name": "stdout",
     "output_type": "stream",
     "text": [
      "error of closed form validation: \n",
      " 1.0202361543483793\n",
      "error of closed form trained: \n",
      " 1.084682948753223\n"
     ]
    }
   ],
   "source": [
    "resultClosedIC60 = closedFormLinearRegression(trainFeaturesIC60[0], trainFeaturesIC60[1])\n",
    "errorClosedIC60 = meanSquareError(validationFeaturesIC60[0], validationFeaturesIC60[1], resultClosedIC60)\n",
    "errorTrainedIC60 = meanSquareError(trainFeaturesIC60[0], trainFeaturesIC60[1], resultClosedIC60)\n",
    "# print('result of closed form: \\n', resultClosedIC60)\n",
    "print('error of closed form validation: \\n', errorClosedIC60)\n",
    "print('error of closed form trained: \\n', errorTrainedIC60)"
   ]
  },
  {
   "cell_type": "markdown",
   "metadata": {},
   "source": [
    "Conclusion: a small improvement..."
   ]
  },
  {
   "cell_type": "markdown",
   "metadata": {},
   "source": [
    "## Extra experiment: Justify of hyperparameter in GD, with Cross Validation"
   ]
  },
  {
   "cell_type": "code",
   "execution_count": 25,
   "metadata": {},
   "outputs": [
    {
     "name": "stdout",
     "output_type": "stream",
     "text": [
      "error of gradient descent validation:1.0891451098588902, value of N: 19, value of B: 4, time: 11.92308325767517\n",
      "error of gradient descent validation:1.0891453903655914, value of N: 19, value of B: 5, time: 12.36948275566101\n",
      "error of gradient descent validation:1.0891456734387652, value of N: 19, value of B: 6, time: 12.737689542770386\n",
      "error of gradient descent validation:1.0891459559907308, value of N: 19, value of B: 7, time: 13.149767446517945\n",
      "error of gradient descent validation:1.0891445160973707, value of N: 20, value of B: 4, time: 8.657418918609618\n",
      "error of gradient descent validation:1.0891446630370496, value of N: 20, value of B: 5, time: 9.068354272842408\n",
      "error of gradient descent validation:1.0891448124136525, value of N: 20, value of B: 6, time: 9.450673294067382\n",
      "error of gradient descent validation:1.0891449687550439, value of N: 20, value of B: 7, time: 9.921897029876709\n",
      "error of gradient descent validation:1.0891443605364464, value of N: 21, value of B: 4, time: 8.338150453567504\n",
      "error of gradient descent validation:1.0891443807961891, value of N: 21, value of B: 5, time: 8.56567063331604\n",
      "error of gradient descent validation:1.0891444372148567, value of N: 21, value of B: 6, time: 8.706007194519042\n",
      "error of gradient descent validation:1.0891445038511514, value of N: 21, value of B: 7, time: 8.646560335159302\n",
      "error of gradient descent validation:1.0891443929027087, value of N: 22, value of B: 5, time: 6.473996639251709\n",
      "error of gradient descent validation:1.0891443662839209, value of N: 22, value of B: 6, time: 6.871267795562744\n",
      "error of gradient descent validation:1.089144373743705, value of N: 22, value of B: 7, time: 7.2199960231781\n",
      "error of gradient descent validation:1.0891446238798714, value of N: 23, value of B: 5, time: 5.7111835956573485\n",
      "error of gradient descent validation:1.0891445076651096, value of N: 23, value of B: 6, time: 5.430196285247803\n",
      "error of gradient descent validation:1.0891444498344334, value of N: 23, value of B: 7, time: 5.177125453948975\n",
      "error of gradient descent validation:1.0891447359684867, value of N: 24, value of B: 6, time: 4.48028154373169\n",
      "error of gradient descent validation:1.0891446537909208, value of N: 24, value of B: 7, time: 4.687937021255493\n"
     ]
    }
   ],
   "source": [
    "import multiprocessing as mp\n",
    "\n",
    "def nTest(B): \n",
    "    jointBN = []\n",
    "    a = 25\n",
    "    if B == 5: \n",
    "        a = 24\n",
    "    elif B == 4: \n",
    "        a = 22\n",
    "    for N in range(19, a): \n",
    "        cvs = [(trainFeatures[0][:2000], trainFeatures[1][:2000]), (trainFeatures[0][2000:4000], trainFeatures[1][2000:4000]), (trainFeatures[0][4000:6000], trainFeatures[1][4000:6000]), (trainFeatures[0][6000:8000], trainFeatures[1][6000:8000]), (trainFeatures[0][8000:10000], trainFeatures[1][8000:10000])]\n",
    "        totalCV = 0\n",
    "        totalTime = 0\n",
    "        for l in range(5): \n",
    "            newTest = cvs[:l] + cvs[l + 1:]\n",
    "            x = []\n",
    "            y = []\n",
    "            for t in newTest: \n",
    "                x = x + t[0]\n",
    "                y = y + t[1]\n",
    "            leavedOut = cvs[l]\n",
    "            startGDE = time.time()\n",
    "            resultGradientICV = gradientDescentLinearRegression(lambda v: float(N * 0.0001 / ((float(v) + B) + 1.0)), x, y, 0.00000005)\n",
    "            endGDE = time.time()\n",
    "            errorGradientICV = meanSquareError(leavedOut[0], leavedOut[1], resultGradientICV)\n",
    "            totalCV = totalCV + errorGradientICV\n",
    "            totalTime = totalTime + (endGDE - startGDE)\n",
    "        jointBN.append([B, N, totalCV / 5, totalTime / 5])\n",
    "        print('error of gradient descent validation:' + str(totalCV / 5) + ', value of N: ' + str(N) + ', value of B: ' + str(B) + ', time: ' + str(totalTime / 5))\n",
    "    return jointBN\n",
    "\n",
    "pool = mp.Pool()\n",
    "res = pool.map(nTest, range(4, 8))"
   ]
  },
  {
   "cell_type": "code",
   "execution_count": 26,
   "metadata": {},
   "outputs": [
    {
     "data": {
      "text/plain": [
       "[4, 21, 1.0891443605364464, 8.338150453567504]"
      ]
     },
     "execution_count": 26,
     "metadata": {},
     "output_type": "execute_result"
    }
   ],
   "source": [
    "jointList = []\n",
    "for r in res: \n",
    "    jointList = jointList + r\n",
    "min(jointList, key = lambda u: u[2])"
   ]
  },
  {
   "cell_type": "markdown",
   "metadata": {},
   "source": [
    "### Joint distribution of Cross Validation Score (MSE) between beta0 and N0"
   ]
  },
  {
   "cell_type": "code",
   "execution_count": 48,
   "metadata": {},
   "outputs": [
    {
     "data": {
      "image/png": "[encoded data removed]",
      "text/plain": [
       "<Figure size 432x288 with 2 Axes>"
      ]
     },
     "metadata": {},
     "output_type": "display_data"
    }
   ],
   "source": [
    "import matplotlib.pyplot as plt\n",
    "fig, ax = plt.subplots()\n",
    "scat = ax.scatter([l[0] for l in jointList], [l[1] for l in jointList], c=[l[2] for l in jointList], s=200, marker='o')\n",
    "fig.colorbar(scat)\n",
    "plt.show()"
   ]
  },
  {
   "cell_type": "markdown",
   "metadata": {},
   "source": [
    "### Joint distribution of Cross Validated Runtime between beta0 and N0 (in seconds)"
   ]
  },
  {
   "cell_type": "code",
   "execution_count": 28,
   "metadata": {
    "scrolled": false
   },
   "outputs": [
    {
     "data": {
      "image/png": "[encoded data removed]",
      "text/plain": [
       "<Figure size 432x288 with 2 Axes>"
      ]
     },
     "metadata": {},
     "output_type": "display_data"
    }
   ],
   "source": [
    "fig, ax = plt.subplots()\n",
    "scat = ax.scatter([l[0] for l in jointList], [l[1] for l in jointList], c=[l[3] for l in jointList], s=200, marker='o')\n",
    "fig.colorbar(scat)\n",
    "plt.show()"
   ]
  },
  {
   "cell_type": "markdown",
   "metadata": {},
   "source": [
    "* Note: some of the points were left blank because it is too long to finish computing them"
   ]
  },
  {
   "cell_type": "markdown",
   "metadata": {},
   "source": [
    "## Extra experiment: count word frequencies and eliminate stopwords"
   ]
  },
  {
   "cell_type": "code",
   "execution_count": 29,
   "metadata": {},
   "outputs": [
    {
     "name": "stdout",
     "output_type": "stream",
     "text": [
      "[=================== ] 99%"
     ]
    }
   ],
   "source": [
    "tFreqS = countAllFrequencyStopWord(train)\n",
    "trainFeatures60S = parseFeatures(data[:10000], lambda u, v: wordCountWithStopwords(u, v, tFreqS), 60, ['children', 'controv', 'isRoot', 'text'])\n",
    "trainFeatures160S = parseFeatures(data[:10000], lambda u, v: wordCountWithStopwords(u, v, tFreqS), 160, ['children', 'controv', 'isRoot', 'text'])"
   ]
  },
  {
   "cell_type": "code",
   "execution_count": 30,
   "metadata": {},
   "outputs": [
    {
     "name": "stdout",
     "output_type": "stream",
     "text": [
      "[=================== ] 99%"
     ]
    }
   ],
   "source": [
    "validationFeatures60S = parseFeatures(validation, lambda u, v: wordCountWithStopwords(u, v, tFreqS), 60, ['children', 'controv', 'isRoot', 'text'])\n",
    "validationFeatures160S = parseFeatures(validation, lambda u, v: wordCountWithStopwords(u, v, tFreqS), 160, ['children', 'controv', 'isRoot', 'text'])"
   ]
  },
  {
   "cell_type": "code",
   "execution_count": 31,
   "metadata": {},
   "outputs": [
    {
     "name": "stdout",
     "output_type": "stream",
     "text": [
      "error of closed form validation: \n",
      " 1.0160834359569333\n",
      "error of closed form trained: \n",
      " 1.0690435344142226\n"
     ]
    }
   ],
   "source": [
    "resultClosed60S = closedFormLinearRegression(trainFeatures60S[0], trainFeatures60S[1])\n",
    "errorClosed60S = meanSquareError(validationFeatures60S[0], validationFeatures60S[1], resultClosed60S)\n",
    "errorTrained60S = meanSquareError(trainFeatures60S[0], trainFeatures60S[1], resultClosed60S)\n",
    "# print('result of closed form: \\n', resultClosed60S)\n",
    "print('error of closed form validation: \\n', errorClosed60S)\n",
    "print('error of closed form trained: \\n', errorTrained60S)"
   ]
  },
  {
   "cell_type": "code",
   "execution_count": 32,
   "metadata": {},
   "outputs": [
    {
     "name": "stdout",
     "output_type": "stream",
     "text": [
      "error of closed form validation: \n",
      " 1.0377809673400562\n",
      "error of closed form trained: \n",
      " 1.0504238189332942\n"
     ]
    }
   ],
   "source": [
    "resultClosed160S = closedFormLinearRegression(trainFeatures160S[0], trainFeatures160S[1])\n",
    "errorClosed160S = meanSquareError(validationFeatures160S[0], validationFeatures160S[1], resultClosed160S)\n",
    "errorTrained160S = meanSquareError(trainFeatures160S[0], trainFeatures160S[1], resultClosed160S)\n",
    "# print('result of closed form: \\n', resultClosed160S)\n",
    "print('error of closed form validation: \\n', errorClosed160S)\n",
    "print('error of closed form trained: \\n', errorTrained160S)"
   ]
  },
  {
   "cell_type": "markdown",
   "metadata": {},
   "source": [
    "conclusion: eliminating stopwords does not gives better result"
   ]
  },
  {
   "cell_type": "markdown",
   "metadata": {},
   "source": [
    "## Experimenting with potential new features: fraction of noun and existence of URL"
   ]
  },
  {
   "cell_type": "code",
   "execution_count": 33,
   "metadata": {},
   "outputs": [],
   "source": [
    "# word pos count, remove punc and stopwords to imporve model\n",
    "# @Param: singleText: text to process\n",
    "# @Return: vector of [verbcount, nouncount, adjcount]\n",
    "def wordPOSCountWithStopwords(singleText): \n",
    "    \n",
    "    tokenizer = RegexpTokenizer(r'\\w+')\n",
    "    withoutPunc = tokenizer.tokenize(singleText)\n",
    "    setOfStop = set(stopwords.words())\n",
    "    tagged = nltk.pos_tag([s.lower() for s in withoutPunc if s.lower() not in setOfStop])\n",
    "    \n",
    "    verbTotal, nounTotal, adjTotal = 0, 0, 0\n",
    "    counts = Counter(tag for wordType, tag in tagged)\n",
    "    totalCount = len(singleText.split())\n",
    "    \n",
    "    for key, value in counts.items(): \n",
    "        if 'NN' in key: \n",
    "            nounTotal = nounTotal + 1\n",
    "        elif 'VB' in key: \n",
    "            verbTotal = verbTotal + 1\n",
    "        elif 'JJ' in key: \n",
    "            adjTotal = adjTotal + 1\n",
    "            \n",
    "    if totalCount > 0: \n",
    "        return [float(verbTotal) / totalCount, float(nounTotal) / totalCount, float(adjTotal) / totalCount]\n",
    "    else: \n",
    "        return [0.0, 0.0, 0.0]\n",
    "# Test: \n",
    "# print(wordPOSCountWithStopwords(data[3]['text']))\n",
    "# print(data[3]['text'])\n",
    "\n",
    "\n",
    "def hasURL(text): \n",
    "    if re.match(r\"(http://[^ ]+)\", text) != None: \n",
    "        return 1.0\n",
    "    else: \n",
    "        return 0.0"
   ]
  },
  {
   "cell_type": "markdown",
   "metadata": {},
   "source": [
    "### With fraction of noun in whole words"
   ]
  },
  {
   "cell_type": "code",
   "execution_count": 34,
   "metadata": {},
   "outputs": [
    {
     "name": "stdout",
     "output_type": "stream",
     "text": [
      "[=================== ] 99%"
     ]
    }
   ],
   "source": [
    "trainMyFeatures60 = parseFeatures(train, lambda u, v: wordCountNaive(u, v, tFreq), 0, ['children', 'controv', 'isRoot', 'noun'])"
   ]
  },
  {
   "cell_type": "code",
   "execution_count": 35,
   "metadata": {},
   "outputs": [
    {
     "name": "stdout",
     "output_type": "stream",
     "text": [
      "[=================== ] 99%"
     ]
    }
   ],
   "source": [
    "validationMyFeatures60 = parseFeatures(validation, lambda u, v: wordCountNaive(u, v, tFreq), 0, ['children', 'controv', 'isRoot', 'noun'])"
   ]
  },
  {
   "cell_type": "code",
   "execution_count": 36,
   "metadata": {},
   "outputs": [
    {
     "name": "stdout",
     "output_type": "stream",
     "text": [
      "error of closed form validation: \n",
      " 1.0205294940039473\n",
      "error of closed form trained: \n",
      " 1.0846431658913824\n"
     ]
    }
   ],
   "source": [
    "resultMyClosed = closedFormLinearRegression(trainMyFeatures60[0], trainMyFeatures60[1])\n",
    "errorMyClosed = meanSquareError(validationMyFeatures60[0], validationMyFeatures60[1], resultMyClosed)\n",
    "errorMyTrained = meanSquareError(trainMyFeatures60[0], trainMyFeatures60[1], resultMyClosed)\n",
    "# print('result of closed form: \\n', resultMyClosed)\n",
    "print('error of closed form validation: \\n', errorMyClosed)\n",
    "print('error of closed form trained: \\n', errorMyTrained)"
   ]
  },
  {
   "cell_type": "markdown",
   "metadata": {},
   "source": [
    "### With URL"
   ]
  },
  {
   "cell_type": "code",
   "execution_count": 37,
   "metadata": {},
   "outputs": [
    {
     "name": "stdout",
     "output_type": "stream",
     "text": [
      "[=================== ] 99%"
     ]
    }
   ],
   "source": [
    "trainMyFeaturesURL60 = parseFeatures(train, lambda u, v: wordCountNaive(u, v, tFreq), 0, ['children', 'controv', 'isRoot', 'url'])\n",
    "validationMyFeaturesURL60 = parseFeatures(validation, lambda u, v: wordCountNaive(u, v, tFreq), 0, ['children', 'controv', 'isRoot', 'url'])"
   ]
  },
  {
   "cell_type": "code",
   "execution_count": 38,
   "metadata": {},
   "outputs": [
    {
     "name": "stdout",
     "output_type": "stream",
     "text": [
      "error of closed form validation: \n",
      " 1.0206699968316335\n",
      "error of closed form trained: \n",
      " 1.0846292895663272\n"
     ]
    }
   ],
   "source": [
    "resultMyClosedURL = closedFormLinearRegression(trainMyFeaturesURL60[0], trainMyFeaturesURL60[1])\n",
    "errorMyClosedURL = meanSquareError(validationMyFeaturesURL60[0], validationMyFeaturesURL60[1], resultMyClosedURL)\n",
    "errorMyTrainedURL = meanSquareError(trainMyFeaturesURL60[0], trainMyFeaturesURL60[1], resultMyClosedURL)\n",
    "# print('result of closed form: \\n', resultMyClosedURL)\n",
    "print('error of closed form validation: \\n', errorMyClosedURL)\n",
    "print('error of closed form trained: \\n', errorMyTrainedURL)"
   ]
  },
  {
   "cell_type": "markdown",
   "metadata": {},
   "source": [
    "### With Word Count"
   ]
  },
  {
   "cell_type": "code",
   "execution_count": 39,
   "metadata": {},
   "outputs": [
    {
     "name": "stdout",
     "output_type": "stream",
     "text": [
      "[=================== ] 99%"
     ]
    }
   ],
   "source": [
    "trainMyFeaturesWC = parseFeatures(train, lambda u, v: wordCountNaive(u, v, tFreq), 0, ['children', 'controv', 'isRoot', 'count'])\n",
    "validationMyFeaturesWC = parseFeatures(validation, lambda u, v: wordCountNaive(u, v, tFreq), 0, ['children', 'controv', 'isRoot', 'count'])"
   ]
  },
  {
   "cell_type": "code",
   "execution_count": 40,
   "metadata": {},
   "outputs": [
    {
     "name": "stdout",
     "output_type": "stream",
     "text": [
      "error of closed form validation: \n",
      " 1.0174970518644633\n",
      "error of closed form trained: \n",
      " 1.083555207585464\n"
     ]
    }
   ],
   "source": [
    "resultMyClosedWC = closedFormLinearRegression(trainMyFeaturesWC[0], trainMyFeaturesWC[1])\n",
    "errorMyClosedWC = meanSquareError(validationMyFeaturesWC[0], validationMyFeaturesWC[1], resultMyClosedWC)\n",
    "errorMyTrainedWC = meanSquareError(trainMyFeaturesWC[0], trainMyFeaturesWC[1], resultMyClosedWC)\n",
    "# print('result of closed form: \\n', resultMyClosedWC)\n",
    "print('error of closed form validation: \\n', errorMyClosedWC)\n",
    "print('error of closed form trained: \\n', errorMyTrainedWC)"
   ]
  },
  {
   "cell_type": "markdown",
   "metadata": {},
   "source": [
    "### With all"
   ]
  },
  {
   "cell_type": "code",
   "execution_count": 41,
   "metadata": {},
   "outputs": [
    {
     "name": "stdout",
     "output_type": "stream",
     "text": [
      "[=================== ] 99%"
     ]
    }
   ],
   "source": [
    "trainMyFeaturesALL60 = parseFeatures(train, lambda u, v: wordCountNaive(u, v, tFreq), 60, ['children', 'controv', 'isRoot', 'noun', 'url', 'count'])\n",
    "validationMyFeaturesALL60 = parseFeatures(validation, lambda u, v: wordCountNaive(u, v, tFreq), 60, ['children', 'controv', 'isRoot', 'noun', 'url', 'count'])"
   ]
  },
  {
   "cell_type": "code",
   "execution_count": 42,
   "metadata": {},
   "outputs": [
    {
     "name": "stdout",
     "output_type": "stream",
     "text": [
      "error of closed form validation: \n",
      " 1.0179530939768886\n",
      "error of closed form trained: \n",
      " 1.0832639812714187\n"
     ]
    }
   ],
   "source": [
    "resultMyClosedALL = closedFormLinearRegression(trainMyFeaturesALL60[0], trainMyFeaturesALL60[1])\n",
    "errorMyClosedALL = meanSquareError(validationMyFeaturesALL60[0], validationMyFeaturesALL60[1], resultMyClosedALL)\n",
    "errorMyTrainedALL = meanSquareError(trainMyFeaturesALL60[0], trainMyFeaturesALL60[1], resultMyClosedALL)\n",
    "# print('result of closed form: \\n', resultMyClosedALL)\n",
    "print('error of closed form validation: \\n', errorMyClosedALL)\n",
    "print('error of closed form trained: \\n', errorMyTrainedALL)"
   ]
  },
  {
   "cell_type": "markdown",
   "metadata": {},
   "source": [
    "conclusion: adding extra features does not help with accuracy"
   ]
  },
  {
   "cell_type": "markdown",
   "metadata": {},
   "source": [
    "## Extra experiment: Forward Selection"
   ]
  },
  {
   "cell_type": "code",
   "execution_count": 43,
   "metadata": {},
   "outputs": [
    {
     "name": "stdout",
     "output_type": "stream",
     "text": [
      "[=================== ] 99%"
     ]
    }
   ],
   "source": [
    "import pandas\n",
    "tFreq = countAllFrequencyNaive(data)\n",
    "trainMyFeatures60FS = parseTransformedFeatures(train, lambda u, v: wordCountNaive(u, v, tFreq), 160, ['children', 'childrenT', 'controv', 'isRoot', 'text', 'textT'], crate = 0.01 * 7) # , 'child and controv', 'text'\n",
    "validationMyFeatures60FS = parseTransformedFeatures(validation, lambda u, v: wordCountNaive(u, v, tFreq), 160, ['children', 'childrenT', 'controv', 'isRoot', 'text', 'textT'], crate = 0.01 * 7)\n",
    "testMyFeatures60FS = parseTransformedFeatures(test, lambda u, v: wordCountNaive(u, v, tFreq), 160, ['children', 'childrenT', 'controv', 'isRoot', 'text', 'textT'], crate = 0.01 * 7)"
   ]
  },
  {
   "cell_type": "code",
   "execution_count": 44,
   "metadata": {},
   "outputs": [
    {
     "data": {
      "text/plain": [
       "((10000, 325), (1000, 325))"
      ]
     },
     "execution_count": 44,
     "metadata": {},
     "output_type": "execute_result"
    }
   ],
   "source": [
    "traindf = pandas.DataFrame(trainMyFeatures60FS[0])\n",
    "validationdf = pandas.DataFrame(validationMyFeatures60FS[0])\n",
    "traindf.shape, validationdf.shape"
   ]
  },
  {
   "cell_type": "code",
   "execution_count": 45,
   "metadata": {
    "scrolled": false
   },
   "outputs": [
    {
     "name": "stdout",
     "output_type": "stream",
     "text": [
      "[=================== ] 99%[1.3482758297724562, {0, 1, 2, 3, 4, 5, 6, 7, 8, 9, 10, 11, 12, 13, 14, 15, 16, 17, 18, 19, 20, 21, 22, 23, 24, 25, 26, 27, 28, 29, 30, 31, 32, 33, 34, 35, 36, 37, 38, 39, 40, 41, 42, 43, 44, 45, 46, 47, 48, 49, 50, 51, 52, 53, 54, 55, 56, 57, 58, 59, 61, 62, 63, 64, 65, 66, 67, 68, 69, 70, 71, 72, 73, 74, 75, 76, 77, 78, 79, 80, 81, 82, 83, 84, 85, 86, 87, 88, 89, 90, 91, 92, 93, 94, 95, 96, 97, 98, 99, 100, 101, 102, 103, 104, 105, 106, 107, 108, 109, 110, 111, 112, 113, 114, 115, 116, 117, 118, 119, 120, 121, 122, 123, 124, 125, 126, 127, 128, 129, 130, 131, 132, 133, 134, 135, 136, 137, 138, 139, 140, 141, 142, 143, 144, 145, 146, 147, 148, 149, 150, 151, 152, 153, 154, 155, 156, 157, 158, 159, 160, 161, 162, 163, 164, 165, 166, 167, 168, 169, 170, 171, 172, 173, 174, 175, 176, 177, 178, 179, 180, 181, 182, 183, 184, 185, 186, 187, 188, 189, 190, 191, 192, 193, 194, 195, 196, 197, 198, 199, 200, 201, 202, 203, 204, 205, 206, 207, 208, 209, 210, 211, 212, 213, 214, 215, 216, 217, 218, 219, 220, 221, 222, 223, 224, 225, 226, 227, 228, 229, 230, 231, 232, 233, 234, 235, 236, 237, 238, 239, 240, 241, 242, 243, 244, 245, 246, 247, 248, 249, 250, 251, 252, 253, 254, 255, 256, 257, 258, 259, 260, 261, 262, 263, 264, 265, 266, 267, 268, 269, 270, 271, 272, 273, 274, 275, 276, 277, 278, 279, 280, 281, 282, 283, 284, 285, 286, 287, 288, 289, 290, 291, 292, 293, 294, 295, 296, 297, 298, 299, 300, 301, 302, 303, 304, 305, 306, 307, 308, 309, 310, 311, 312, 313, 314, 315, 316, 317, 318, 319, 320, 321, 322, 323, 324}]"
     ]
    }
   ],
   "source": [
    "fullPredictors = set([i for i in range(0, 325)])\n",
    "levelBest = [[sys.float_info.max, set()]]\n",
    "c = 0\n",
    "for k in range(1, len(fullPredictors)): \n",
    "    \n",
    "    prevBest = min([l for l in levelBest if len(l[1]) == k - 1], key = lambda x: x[0])[1]\n",
    "    currentPredictors = fullPredictors - prevBest\n",
    "    mseVal = []\n",
    "    \n",
    "    for predictor in currentPredictors: \n",
    "        selected = prevBest | set([predictor])\n",
    "        \n",
    "        trainX = traindf[list(selected)].values\n",
    "        validX = validationdf[list(selected)].values\n",
    "        trainY = trainMyFeatures60[1]\n",
    "        validY = validationMyFeatures60[1]\n",
    "        \n",
    "        try: \n",
    "            resultW = closedFormLinearRegression(trainX, trainY)\n",
    "        except: \n",
    "            continue\n",
    "        mseVal.append([meanSquareError(validX, validY, resultW), selected])\n",
    "    \n",
    "    currentBest = min(mseVal, key = lambda x: x[0])\n",
    "    \n",
    "    \n",
    "    \n",
    "    # Process Bar\n",
    "    sys.stdout.write('\\r')\n",
    "    count = int((float(c) / float(len(fullPredictors))) * 100)\n",
    "    sys.stdout.write(\"[%-20s] %d%%\" % ('='*int(count / 5), count))\n",
    "    if len(mseVal) > 0: \n",
    "        levelBest.append(currentBest)\n",
    "        sys.stdout.write(str(currentBest))\n",
    "    sleep(0.001)\n",
    "    sys.stdout.flush()\n",
    "    c = c + 1\n",
    "    \n",
    "\n",
    "trainX = traindf[list(fullPredictors)].values\n",
    "validX = validationdf[list(fullPredictors)].values\n",
    "trainY = trainMyFeatures60[1]\n",
    "validY = validationMyFeatures60[1]\n",
    "ok = True\n",
    "try: \n",
    "    resultW = closedFormLinearRegression(trainX, trainY)\n",
    "except: \n",
    "    ok = False\n",
    "if ok: \n",
    "    mseVal.append([meanSquareError(validX, validY, resultW), selected])\n",
    "bestOfAll = sorted(levelBest, key = lambda v: v[0])[0]"
   ]
  },
  {
   "cell_type": "code",
   "execution_count": 46,
   "metadata": {
    "scrolled": false
   },
   "outputs": [
    {
     "name": "stdout",
     "output_type": "stream",
     "text": [
      "best set of predictors with interaction term: \n",
      " {256, 1, 2, 3, 260, 258, 6, 263, 8, 9, 10, 266, 12, 261, 14, 7, 257, 17, 18, 269, 276, 277, 22, 279, 280, 23, 5, 285, 287, 32, 290, 291, 292, 37, 294, 295, 298, 46, 305, 307, 308, 53, 309, 318, 319, 322, 324, 268, 270, 87, 165, 171, 175, 179, 184, 185, 186, 187, 189, 193, 194, 195, 196, 199, 202, 203, 204, 205, 207, 209, 210, 212, 217, 219, 220, 221, 224, 227, 230, 231, 234, 235, 236, 238, 241, 242, 245, 250, 251, 253}\n",
      "error: \n",
      " 0.9200926839324391\n",
      "0-5: childrenTransformed, controv, isRoot, identity\n",
      "6-165: transformed text\n",
      "166-325: original text\n"
     ]
    }
   ],
   "source": [
    "print('best set of predictors with interaction term: \\n', bestOfAll[1])\n",
    "print('error: \\n', bestOfAll[0])\n",
    "print('0-5: childrenTransformed, controv, isRoot, identity')\n",
    "print('6-165: transformed text')\n",
    "print('166-325: original text')"
   ]
  },
  {
   "cell_type": "markdown",
   "metadata": {},
   "source": [
    "## Final Performance"
   ]
  },
  {
   "cell_type": "code",
   "execution_count": 47,
   "metadata": {},
   "outputs": [
    {
     "data": {
      "text/plain": [
       "1.2736897834505778"
      ]
     },
     "execution_count": 47,
     "metadata": {},
     "output_type": "execute_result"
    }
   ],
   "source": [
    "resultClosedFinal = closedFormLinearRegression(numpy.array(trainMyFeatures60FS[0])[:,list(bestOfAll[1])], trainMyFeatures60FS[1])\n",
    "meanSquareError(numpy.array(testMyFeatures60FS[0])[:,list(bestOfAll[1])], testMyFeatures60FS[1], resultClosedFinal)"
   ]
  },
  {
   "cell_type": "markdown",
   "metadata": {},
   "source": [
    "Conclusion: overfits validation set (meta-overfitting)"
   ]
  }
 ],
 "metadata": {
  "kernelspec": {
   "display_name": "Python 3",
   "language": "python",
   "name": "python3"
  },
  "language_info": {
   "codemirror_mode": {
    "name": "ipython",
    "version": 3
   },
   "file_extension": ".py",
   "mimetype": "text/x-python",
   "name": "python",
   "nbconvert_exporter": "python",
   "pygments_lexer": "ipython3",
   "version": "3.6.5"
  }
 },
 "nbformat": 4,
 "nbformat_minor": 2
}
